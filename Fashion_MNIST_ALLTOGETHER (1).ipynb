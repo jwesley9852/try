{
  "nbformat": 4,
  "nbformat_minor": 0,
  "metadata": {
    "colab": {
      "provenance": []
    },
    "kernelspec": {
      "name": "python3",
      "display_name": "Python 3"
    },
    "language_info": {
      "name": "python"
    }
  },
  "cells": [
    {
      "cell_type": "code",
      "execution_count": 1,
      "metadata": {
        "id": "3nAHo7upAHGt"
      },
      "outputs": [],
      "source": [
        "########################### Import required packages ######################\n",
        "import tensorflow as tf\n",
        "from tensorflow import keras\n",
        "import numpy as np\n",
        "import pandas as pd\n",
        "import matplotlib.pyplot as plt\n",
        "########################Load the dataset#######################\n",
        "mnist = keras.datasets.fashion_mnist\n",
        "(X_train,y_train),(X_test,y_test)=mnist.load_data()\n",
        "####################### Shape of the dataset ###########################\n",
        "X_train.shape,X_test.shape,y_train.shape,y_test.shape\n",
        "########################Normalize the dataset##########################\n",
        "X_train=X_train/255.0\n",
        "X_test=X_test/255.0\n",
        "##############################Create a custom class lables####################\n",
        "class_labels=['T-shirt/top','Trouser','Pullover','Dress','Coat','Sandal','Shirt','Sneaker','Bag','Ankle boot']\n",
        "\n",
        "##################### Draw the 25 plot ########################################\n",
        "for i in range(1,26):\n",
        "    plt.imshow(X_train[i],cmap='binary')\n",
        "    plt.colorbar()\n",
        "    plt.title(class_labels[y_train[i]])\n",
        "    plt.show()\n",
        "\n",
        "###################### Nueral Network creation ##############################\n",
        "from tensorflow.keras import Sequential\n",
        "from tensorflow.keras.layers import Flatten, Dense\n",
        "\n",
        "model=Sequential()\n",
        "model.add(Flatten(input_shape=(28,28)))\n",
        "model.add(Dense(128,activation='relu'))\n",
        "model.add(Dense(10,activation='softmax'))\n",
        "\n",
        "####################### Model summary ####################################\n",
        "model.summary()\n",
        "\n",
        "######################### Compile the model ################################\n",
        "model.compile(optimizer='adam',loss='sparse_categorical_crossentropy',metrics=['accuracy'])"
      ]
    },
    {
      "cell_type": "markdown",
      "source": [
        "- number of neurons in hidden layer\n",
        "\n",
        "- activation function in hidden layers\n",
        "\n",
        "- number of hidden layer\n",
        "\n",
        "- optimizer\n",
        "\n",
        "- loss function based on problem\n",
        "\n",
        "- metric"
      ],
      "metadata": {
        "id": "BhMrzwdGFElY"
      }
    },
    {
      "cell_type": "code",
      "source": [
        "from sklearn.model_selection import train_test_split\n",
        "X,val_x,y,val_y=train_test_split(X_train,y_train,test_size=0.2)\n",
        "\n",
        "model.fit(X,y,epochs=10,validation_data=(val_x,val_y))"
      ],
      "metadata": {
        "id": "I_0qPG4TL1Dq"
      },
      "execution_count": null,
      "outputs": []
    },
    {
      "cell_type": "code",
      "source": [
        "fit(X_train,y_train,  validation data=[])\n",
        "\n",
        "\n",
        "\n",
        "X_test,y_test ====== Test model on this data"
      ],
      "metadata": {
        "id": "QWY1-ZwmAJec"
      },
      "execution_count": null,
      "outputs": []
    }
  ]
}