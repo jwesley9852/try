{
  "nbformat": 4,
  "nbformat_minor": 0,
  "metadata": {
    "colab": {
      "provenance": []
    },
    "kernelspec": {
      "name": "python3",
      "display_name": "Python 3"
    },
    "language_info": {
      "name": "python"
    }
  },
  "cells": [
    {
      "cell_type": "markdown",
      "source": [
        "The necessary python libraries are imported here-\n",
        "\n",
        "- **numpy** is used to perform math operations.\n",
        "\n",
        "- **pyplot** from matplotlib is used to visualize the results.\n",
        "\n",
        "- **pandas** is used to read the dataset.\n",
        "\n",
        "- **tensorflow** is a deep learning framework\n",
        "\n",
        "- **keras** is a deep learning framework"
      ],
      "metadata": {
        "id": "y1lfMkZXCUrg"
      }
    },
    {
      "cell_type": "code",
      "source": [
        "# tensorflow is developed by google\n",
        "# tensorflow langauge is always based on tensors\n",
        "# list === numpy array  === tensors (vector represenation)\n",
        "# writing only tensorflow code is littile tricky\n",
        "# so we use keras as backend of tensorflow"
      ],
      "metadata": {
        "id": "MjSwvCkIvvuk"
      },
      "execution_count": null,
      "outputs": []
    },
    {
      "cell_type": "code",
      "source": [],
      "metadata": {
        "id": "hfGRwQgMGAXW"
      },
      "execution_count": null,
      "outputs": []
    },
    {
      "cell_type": "code",
      "source": [
        "import tensorflow as tf\n",
        "from tensorflow import keras\n",
        "import numpy as np\n",
        "import pandas as pd\n",
        "import matplotlib.pyplot as plt"
      ],
      "metadata": {
        "id": "W-3_tkK0CmVD"
      },
      "execution_count": 1,
      "outputs": []
    },
    {
      "cell_type": "code",
      "source": [
        "print(tf.__version__)"
      ],
      "metadata": {
        "colab": {
          "base_uri": "https://localhost:8080/"
        },
        "id": "6eXyPPRKC4FM",
        "outputId": "3b393862-c944-45f3-e6bf-61ec1a00da58"
      },
      "execution_count": 2,
      "outputs": [
        {
          "output_type": "stream",
          "name": "stdout",
          "text": [
            "2.17.1\n"
          ]
        }
      ]
    },
    {
      "cell_type": "markdown",
      "source": [
        "**Here we are loading the fashion_mnist dataset from keras**"
      ],
      "metadata": {
        "id": "DXLipvLhC-4F"
      }
    },
    {
      "cell_type": "code",
      "source": [
        "dir(keras.datasets)"
      ],
      "metadata": {
        "colab": {
          "base_uri": "https://localhost:8080/"
        },
        "id": "dJZp8XIdwqki",
        "outputId": "e6c9afc0-0041-41f0-ff04-aaaa00f1336d"
      },
      "execution_count": 3,
      "outputs": [
        {
          "output_type": "execute_result",
          "data": {
            "text/plain": [
              "['__builtins__',\n",
              " '__cached__',\n",
              " '__doc__',\n",
              " '__file__',\n",
              " '__loader__',\n",
              " '__name__',\n",
              " '__package__',\n",
              " '__path__',\n",
              " '__spec__',\n",
              " 'boston_housing',\n",
              " 'california_housing',\n",
              " 'cifar10',\n",
              " 'cifar100',\n",
              " 'fashion_mnist',\n",
              " 'imdb',\n",
              " 'mnist',\n",
              " 'reuters']"
            ]
          },
          "metadata": {},
          "execution_count": 3
        }
      ]
    },
    {
      "cell_type": "code",
      "source": [
        "mnist = keras.datasets.fashion_mnist\n",
        "#The dataset is downloaded in TFModuleWrapper."
      ],
      "metadata": {
        "id": "R59SDTAiC72Z"
      },
      "execution_count": 4,
      "outputs": []
    },
    {
      "cell_type": "code",
      "source": [
        "mnist"
      ],
      "metadata": {
        "colab": {
          "base_uri": "https://localhost:8080/"
        },
        "id": "snIduNCQDFoS",
        "outputId": "76abfab6-0a55-4768-bffb-b05dc511eb66"
      },
      "execution_count": 5,
      "outputs": [
        {
          "output_type": "execute_result",
          "data": {
            "text/plain": [
              "<module 'keras.api.datasets.fashion_mnist' from '/usr/local/lib/python3.10/dist-packages/keras/api/datasets/fashion_mnist/__init__.py'>"
            ]
          },
          "metadata": {},
          "execution_count": 5
        }
      ]
    },
    {
      "cell_type": "code",
      "source": [
        "type(mnist)"
      ],
      "metadata": {
        "colab": {
          "base_uri": "https://localhost:8080/"
        },
        "id": "CFbCfHPbDH7A",
        "outputId": "63117050-acc7-4838-be72-4373c31073d9"
      },
      "execution_count": 6,
      "outputs": [
        {
          "output_type": "execute_result",
          "data": {
            "text/plain": [
              "module"
            ]
          },
          "metadata": {},
          "execution_count": 6
        }
      ]
    },
    {
      "cell_type": "code",
      "source": [
        "dir(mnist)"
      ],
      "metadata": {
        "colab": {
          "base_uri": "https://localhost:8080/"
        },
        "id": "RrVkHEMZLlrX",
        "outputId": "3182af19-7e36-4420-94ac-7cb40ad3b7db"
      },
      "execution_count": 7,
      "outputs": [
        {
          "output_type": "execute_result",
          "data": {
            "text/plain": [
              "['__builtins__',\n",
              " '__cached__',\n",
              " '__doc__',\n",
              " '__file__',\n",
              " '__loader__',\n",
              " '__name__',\n",
              " '__package__',\n",
              " '__path__',\n",
              " '__spec__',\n",
              " 'load_data']"
            ]
          },
          "metadata": {},
          "execution_count": 7
        }
      ]
    },
    {
      "cell_type": "markdown",
      "source": [
        "- Now we load the data into real variables using load_data().\n",
        "\n",
        "- It return 2 tuples. The first tupes has the training data and the second tuple has the test data."
      ],
      "metadata": {
        "id": "S-GBpg52DUUN"
      }
    },
    {
      "cell_type": "code",
      "source": [
        "mnist.load_data()"
      ],
      "metadata": {
        "colab": {
          "base_uri": "https://localhost:8080/"
        },
        "id": "pjTNzn0K6o1h",
        "outputId": "6581ab0f-0a13-452f-c9f9-2ebe98329ff0"
      },
      "execution_count": 8,
      "outputs": [
        {
          "output_type": "stream",
          "name": "stdout",
          "text": [
            "Downloading data from https://storage.googleapis.com/tensorflow/tf-keras-datasets/train-labels-idx1-ubyte.gz\n",
            "\u001b[1m29515/29515\u001b[0m \u001b[32m━━━━━━━━━━━━━━━━━━━━\u001b[0m\u001b[37m\u001b[0m \u001b[1m0s\u001b[0m 0us/step\n",
            "Downloading data from https://storage.googleapis.com/tensorflow/tf-keras-datasets/train-images-idx3-ubyte.gz\n",
            "\u001b[1m26421880/26421880\u001b[0m \u001b[32m━━━━━━━━━━━━━━━━━━━━\u001b[0m\u001b[37m\u001b[0m \u001b[1m0s\u001b[0m 0us/step\n",
            "Downloading data from https://storage.googleapis.com/tensorflow/tf-keras-datasets/t10k-labels-idx1-ubyte.gz\n",
            "\u001b[1m5148/5148\u001b[0m \u001b[32m━━━━━━━━━━━━━━━━━━━━\u001b[0m\u001b[37m\u001b[0m \u001b[1m0s\u001b[0m 1us/step\n",
            "Downloading data from https://storage.googleapis.com/tensorflow/tf-keras-datasets/t10k-images-idx3-ubyte.gz\n",
            "\u001b[1m4422102/4422102\u001b[0m \u001b[32m━━━━━━━━━━━━━━━━━━━━\u001b[0m\u001b[37m\u001b[0m \u001b[1m0s\u001b[0m 0us/step\n"
          ]
        },
        {
          "output_type": "execute_result",
          "data": {
            "text/plain": [
              "((array([[[0, 0, 0, ..., 0, 0, 0],\n",
              "          [0, 0, 0, ..., 0, 0, 0],\n",
              "          [0, 0, 0, ..., 0, 0, 0],\n",
              "          ...,\n",
              "          [0, 0, 0, ..., 0, 0, 0],\n",
              "          [0, 0, 0, ..., 0, 0, 0],\n",
              "          [0, 0, 0, ..., 0, 0, 0]],\n",
              "  \n",
              "         [[0, 0, 0, ..., 0, 0, 0],\n",
              "          [0, 0, 0, ..., 0, 0, 0],\n",
              "          [0, 0, 0, ..., 0, 0, 0],\n",
              "          ...,\n",
              "          [0, 0, 0, ..., 0, 0, 0],\n",
              "          [0, 0, 0, ..., 0, 0, 0],\n",
              "          [0, 0, 0, ..., 0, 0, 0]],\n",
              "  \n",
              "         [[0, 0, 0, ..., 0, 0, 0],\n",
              "          [0, 0, 0, ..., 0, 0, 0],\n",
              "          [0, 0, 0, ..., 0, 0, 0],\n",
              "          ...,\n",
              "          [0, 0, 0, ..., 0, 0, 0],\n",
              "          [0, 0, 0, ..., 0, 0, 0],\n",
              "          [0, 0, 0, ..., 0, 0, 0]],\n",
              "  \n",
              "         ...,\n",
              "  \n",
              "         [[0, 0, 0, ..., 0, 0, 0],\n",
              "          [0, 0, 0, ..., 0, 0, 0],\n",
              "          [0, 0, 0, ..., 0, 0, 0],\n",
              "          ...,\n",
              "          [0, 0, 0, ..., 0, 0, 0],\n",
              "          [0, 0, 0, ..., 0, 0, 0],\n",
              "          [0, 0, 0, ..., 0, 0, 0]],\n",
              "  \n",
              "         [[0, 0, 0, ..., 0, 0, 0],\n",
              "          [0, 0, 0, ..., 0, 0, 0],\n",
              "          [0, 0, 0, ..., 0, 0, 0],\n",
              "          ...,\n",
              "          [0, 0, 0, ..., 0, 0, 0],\n",
              "          [0, 0, 0, ..., 0, 0, 0],\n",
              "          [0, 0, 0, ..., 0, 0, 0]],\n",
              "  \n",
              "         [[0, 0, 0, ..., 0, 0, 0],\n",
              "          [0, 0, 0, ..., 0, 0, 0],\n",
              "          [0, 0, 0, ..., 0, 0, 0],\n",
              "          ...,\n",
              "          [0, 0, 0, ..., 0, 0, 0],\n",
              "          [0, 0, 0, ..., 0, 0, 0],\n",
              "          [0, 0, 0, ..., 0, 0, 0]]], dtype=uint8),\n",
              "  array([9, 0, 0, ..., 3, 0, 5], dtype=uint8)),\n",
              " (array([[[0, 0, 0, ..., 0, 0, 0],\n",
              "          [0, 0, 0, ..., 0, 0, 0],\n",
              "          [0, 0, 0, ..., 0, 0, 0],\n",
              "          ...,\n",
              "          [0, 0, 0, ..., 0, 0, 0],\n",
              "          [0, 0, 0, ..., 0, 0, 0],\n",
              "          [0, 0, 0, ..., 0, 0, 0]],\n",
              "  \n",
              "         [[0, 0, 0, ..., 0, 0, 0],\n",
              "          [0, 0, 0, ..., 0, 0, 0],\n",
              "          [0, 0, 0, ..., 0, 0, 0],\n",
              "          ...,\n",
              "          [0, 0, 0, ..., 0, 0, 0],\n",
              "          [0, 0, 0, ..., 0, 0, 0],\n",
              "          [0, 0, 0, ..., 0, 0, 0]],\n",
              "  \n",
              "         [[0, 0, 0, ..., 0, 0, 0],\n",
              "          [0, 0, 0, ..., 0, 0, 0],\n",
              "          [0, 0, 0, ..., 0, 0, 0],\n",
              "          ...,\n",
              "          [0, 0, 0, ..., 0, 0, 0],\n",
              "          [0, 0, 0, ..., 0, 0, 0],\n",
              "          [0, 0, 0, ..., 0, 0, 0]],\n",
              "  \n",
              "         ...,\n",
              "  \n",
              "         [[0, 0, 0, ..., 0, 0, 0],\n",
              "          [0, 0, 0, ..., 0, 0, 0],\n",
              "          [0, 0, 0, ..., 0, 0, 0],\n",
              "          ...,\n",
              "          [0, 0, 0, ..., 0, 0, 0],\n",
              "          [0, 0, 0, ..., 0, 0, 0],\n",
              "          [0, 0, 0, ..., 0, 0, 0]],\n",
              "  \n",
              "         [[0, 0, 0, ..., 0, 0, 0],\n",
              "          [0, 0, 0, ..., 0, 0, 0],\n",
              "          [0, 0, 0, ..., 0, 0, 0],\n",
              "          ...,\n",
              "          [0, 0, 0, ..., 0, 0, 0],\n",
              "          [0, 0, 0, ..., 0, 0, 0],\n",
              "          [0, 0, 0, ..., 0, 0, 0]],\n",
              "  \n",
              "         [[0, 0, 0, ..., 0, 0, 0],\n",
              "          [0, 0, 0, ..., 0, 0, 0],\n",
              "          [0, 0, 0, ..., 0, 0, 0],\n",
              "          ...,\n",
              "          [0, 0, 0, ..., 0, 0, 0],\n",
              "          [0, 0, 0, ..., 0, 0, 0],\n",
              "          [0, 0, 0, ..., 0, 0, 0]]], dtype=uint8),\n",
              "  array([9, 2, 1, ..., 8, 1, 5], dtype=uint8)))"
            ]
          },
          "metadata": {},
          "execution_count": 8
        }
      ]
    },
    {
      "cell_type": "code",
      "source": [],
      "metadata": {
        "id": "rifeEJR3r7yt"
      },
      "execution_count": null,
      "outputs": []
    },
    {
      "cell_type": "code",
      "source": [
        "(X_train, y_train), (X_test, y_test) = mnist.load_data()\n",
        "\n",
        "# X_train : train_images\n",
        "# y_train : train_labels\n",
        "\n",
        "# X_test  : test_images\n",
        "# y_test  : test_labels"
      ],
      "metadata": {
        "id": "KC1TQ5pnDLNt"
      },
      "execution_count": 9,
      "outputs": []
    },
    {
      "cell_type": "code",
      "source": [
        "X_train.shape"
      ],
      "metadata": {
        "colab": {
          "base_uri": "https://localhost:8080/"
        },
        "id": "ip1fdFc69ynr",
        "outputId": "25cd7933-9c65-4f44-82f6-1029dc08a009"
      },
      "execution_count": 10,
      "outputs": [
        {
          "output_type": "execute_result",
          "data": {
            "text/plain": [
              "(60000, 28, 28)"
            ]
          },
          "metadata": {},
          "execution_count": 10
        }
      ]
    },
    {
      "cell_type": "markdown",
      "source": [
        "The data consist of images which means it has pixel values"
      ],
      "metadata": {
        "id": "98M4HIYkxS3R"
      }
    },
    {
      "cell_type": "markdown",
      "source": [
        "By using shape we can see that it has 60,000 images for training and each image is of size 28x28 in X_train and a corresponding label for each image in y_train."
      ],
      "metadata": {
        "id": "-wFJs-s2DlxE"
      }
    },
    {
      "cell_type": "code",
      "source": [
        "X_train.shape, y_train.shape\n",
        "# 60k Images\n",
        "# each image shape  is 28x28=784 pixel values"
      ],
      "metadata": {
        "colab": {
          "base_uri": "https://localhost:8080/"
        },
        "id": "oA-QV37JDa_f",
        "outputId": "85079b84-dad1-4665-f3ec-764f74975361"
      },
      "execution_count": 11,
      "outputs": [
        {
          "output_type": "execute_result",
          "data": {
            "text/plain": [
              "((60000, 28, 28), (60000,))"
            ]
          },
          "metadata": {},
          "execution_count": 11
        }
      ]
    },
    {
      "cell_type": "code",
      "source": [
        "X_train[0] # first image"
      ],
      "metadata": {
        "colab": {
          "base_uri": "https://localhost:8080/",
          "height": 68
        },
        "id": "R5jGZP8dk2xM",
        "outputId": "adbf26d4-1afd-4047-ecc5-db5216048261"
      },
      "execution_count": 12,
      "outputs": [
        {
          "output_type": "execute_result",
          "data": {
            "text/plain": [
              "array([[  0,   0,   0,   0,   0,   0,   0,   0,   0,   0,   0,   0,   0,\n",
              "          0,   0,   0,   0,   0,   0,   0,   0,   0,   0,   0,   0,   0,\n",
              "          0,   0],\n",
              "       [  0,   0,   0,   0,   0,   0,   0,   0,   0,   0,   0,   0,   0,\n",
              "          0,   0,   0,   0,   0,   0,   0,   0,   0,   0,   0,   0,   0,\n",
              "          0,   0],\n",
              "       [  0,   0,   0,   0,   0,   0,   0,   0,   0,   0,   0,   0,   0,\n",
              "          0,   0,   0,   0,   0,   0,   0,   0,   0,   0,   0,   0,   0,\n",
              "          0,   0],\n",
              "       [  0,   0,   0,   0,   0,   0,   0,   0,   0,   0,   0,   0,   1,\n",
              "          0,   0,  13,  73,   0,   0,   1,   4,   0,   0,   0,   0,   1,\n",
              "          1,   0],\n",
              "       [  0,   0,   0,   0,   0,   0,   0,   0,   0,   0,   0,   0,   3,\n",
              "          0,  36, 136, 127,  62,  54,   0,   0,   0,   1,   3,   4,   0,\n",
              "          0,   3],\n",
              "       [  0,   0,   0,   0,   0,   0,   0,   0,   0,   0,   0,   0,   6,\n",
              "          0, 102, 204, 176, 134, 144, 123,  23,   0,   0,   0,   0,  12,\n",
              "         10,   0],\n",
              "       [  0,   0,   0,   0,   0,   0,   0,   0,   0,   0,   0,   0,   0,\n",
              "          0, 155, 236, 207, 178, 107, 156, 161, 109,  64,  23,  77, 130,\n",
              "         72,  15],\n",
              "       [  0,   0,   0,   0,   0,   0,   0,   0,   0,   0,   0,   1,   0,\n",
              "         69, 207, 223, 218, 216, 216, 163, 127, 121, 122, 146, 141,  88,\n",
              "        172,  66],\n",
              "       [  0,   0,   0,   0,   0,   0,   0,   0,   0,   1,   1,   1,   0,\n",
              "        200, 232, 232, 233, 229, 223, 223, 215, 213, 164, 127, 123, 196,\n",
              "        229,   0],\n",
              "       [  0,   0,   0,   0,   0,   0,   0,   0,   0,   0,   0,   0,   0,\n",
              "        183, 225, 216, 223, 228, 235, 227, 224, 222, 224, 221, 223, 245,\n",
              "        173,   0],\n",
              "       [  0,   0,   0,   0,   0,   0,   0,   0,   0,   0,   0,   0,   0,\n",
              "        193, 228, 218, 213, 198, 180, 212, 210, 211, 213, 223, 220, 243,\n",
              "        202,   0],\n",
              "       [  0,   0,   0,   0,   0,   0,   0,   0,   0,   1,   3,   0,  12,\n",
              "        219, 220, 212, 218, 192, 169, 227, 208, 218, 224, 212, 226, 197,\n",
              "        209,  52],\n",
              "       [  0,   0,   0,   0,   0,   0,   0,   0,   0,   0,   6,   0,  99,\n",
              "        244, 222, 220, 218, 203, 198, 221, 215, 213, 222, 220, 245, 119,\n",
              "        167,  56],\n",
              "       [  0,   0,   0,   0,   0,   0,   0,   0,   0,   4,   0,   0,  55,\n",
              "        236, 228, 230, 228, 240, 232, 213, 218, 223, 234, 217, 217, 209,\n",
              "         92,   0],\n",
              "       [  0,   0,   1,   4,   6,   7,   2,   0,   0,   0,   0,   0, 237,\n",
              "        226, 217, 223, 222, 219, 222, 221, 216, 223, 229, 215, 218, 255,\n",
              "         77,   0],\n",
              "       [  0,   3,   0,   0,   0,   0,   0,   0,   0,  62, 145, 204, 228,\n",
              "        207, 213, 221, 218, 208, 211, 218, 224, 223, 219, 215, 224, 244,\n",
              "        159,   0],\n",
              "       [  0,   0,   0,   0,  18,  44,  82, 107, 189, 228, 220, 222, 217,\n",
              "        226, 200, 205, 211, 230, 224, 234, 176, 188, 250, 248, 233, 238,\n",
              "        215,   0],\n",
              "       [  0,  57, 187, 208, 224, 221, 224, 208, 204, 214, 208, 209, 200,\n",
              "        159, 245, 193, 206, 223, 255, 255, 221, 234, 221, 211, 220, 232,\n",
              "        246,   0],\n",
              "       [  3, 202, 228, 224, 221, 211, 211, 214, 205, 205, 205, 220, 240,\n",
              "         80, 150, 255, 229, 221, 188, 154, 191, 210, 204, 209, 222, 228,\n",
              "        225,   0],\n",
              "       [ 98, 233, 198, 210, 222, 229, 229, 234, 249, 220, 194, 215, 217,\n",
              "        241,  65,  73, 106, 117, 168, 219, 221, 215, 217, 223, 223, 224,\n",
              "        229,  29],\n",
              "       [ 75, 204, 212, 204, 193, 205, 211, 225, 216, 185, 197, 206, 198,\n",
              "        213, 240, 195, 227, 245, 239, 223, 218, 212, 209, 222, 220, 221,\n",
              "        230,  67],\n",
              "       [ 48, 203, 183, 194, 213, 197, 185, 190, 194, 192, 202, 214, 219,\n",
              "        221, 220, 236, 225, 216, 199, 206, 186, 181, 177, 172, 181, 205,\n",
              "        206, 115],\n",
              "       [  0, 122, 219, 193, 179, 171, 183, 196, 204, 210, 213, 207, 211,\n",
              "        210, 200, 196, 194, 191, 195, 191, 198, 192, 176, 156, 167, 177,\n",
              "        210,  92],\n",
              "       [  0,   0,  74, 189, 212, 191, 175, 172, 175, 181, 185, 188, 189,\n",
              "        188, 193, 198, 204, 209, 210, 210, 211, 188, 188, 194, 192, 216,\n",
              "        170,   0],\n",
              "       [  2,   0,   0,   0,  66, 200, 222, 237, 239, 242, 246, 243, 244,\n",
              "        221, 220, 193, 191, 179, 182, 182, 181, 176, 166, 168,  99,  58,\n",
              "          0,   0],\n",
              "       [  0,   0,   0,   0,   0,   0,   0,  40,  61,  44,  72,  41,  35,\n",
              "          0,   0,   0,   0,   0,   0,   0,   0,   0,   0,   0,   0,   0,\n",
              "          0,   0],\n",
              "       [  0,   0,   0,   0,   0,   0,   0,   0,   0,   0,   0,   0,   0,\n",
              "          0,   0,   0,   0,   0,   0,   0,   0,   0,   0,   0,   0,   0,\n",
              "          0,   0],\n",
              "       [  0,   0,   0,   0,   0,   0,   0,   0,   0,   0,   0,   0,   0,\n",
              "          0,   0,   0,   0,   0,   0,   0,   0,   0,   0,   0,   0,   0,\n",
              "          0,   0]], dtype=uint8)"
            ],
            "text/html": [
              "<style>\n",
              "      .ndarray_repr .ndarray_raw_data {\n",
              "        display: none;\n",
              "      }\n",
              "      .ndarray_repr.show_array .ndarray_raw_data {\n",
              "        display: block;\n",
              "      }\n",
              "      .ndarray_repr.show_array .ndarray_image_preview {\n",
              "        display: none;\n",
              "      }\n",
              "      </style>\n",
              "      <div id=\"id-3733d2bd-21db-4a32-b63f-2e2aa3f4d0e4\" class=\"ndarray_repr\"><pre>ndarray (28, 28) <button style=\"padding: 0 2px;\">show data</button></pre><img src=\"data:image/png;base64,iVBORw0KGgoAAAANSUhEUgAAABwAAAAcCAAAAABXZoBIAAACBUlEQVR4nLXSz0tUURQH8O+597373rx545g6NmNJY6TlJgozEsKFZGCrkDBoVdGmdf9BiwJ3bVr1PwhBUbQfJQcKjWZRTsjo0KDpDPV+eN+997WK0Z2bvtsPfM+Bc4D/HwJycwBZAEAE6zAyfe5RFMQfFYiRAj+CXM/c2HK82VetVMM34RGUmCxz9v7yYnW9dnWyskyHR6azi72Jwep3ScVk9c7LLhKQrpRBSiI2n76puZFT3doUwH4pcmw/zpjrU2zw3dFt4XEWdvbKhpinzTBYt5bDH4qlLYO8cbKBWHOudDHluFtiLrLD0kmM2//6q9VFS+JLLDxv9GzMPV9v3XuzYgHEGSUGCngbRCLd4W6CxPCLHTDwVMkDA0y/qEa/lFFBoF2EEME8CAD6hsZK8+djlmSatuiXXsWfNh27NU6Yelro1bytPElRbaGaO1FGPfc7zPg9HvHlIaVD8AjID9y/+bgZ/6iP9ks7J/QZevh8w/cd2PlGs8CKt92R7MQEk0yA7GtWq9ETN3zRs7fpR7FaWi/3yXaipW1IjFnbaSM70N7dsRzbzbHd8aCx7+wmKskUO5esz0sPmvXYF67gBzoNfxptxb5stxM10iLg1pOTO23NhcUptW1hE6gFYYprC8QMMPNsMM+4pamVbps/HGkSsg+1Cv4d+0Jh//Sm3DjGix4rfwFoJNh2/0cDFgAAAABJRU5ErkJggg==\" class=\"ndarray_image_preview\" /><pre class=\"ndarray_raw_data\">array([[  0,   0,   0,   0,   0,   0,   0,   0,   0,   0,   0,   0,   0,\n",
              "          0,   0,   0,   0,   0,   0,   0,   0,   0,   0,   0,   0,   0,\n",
              "          0,   0],\n",
              "       [  0,   0,   0,   0,   0,   0,   0,   0,   0,   0,   0,   0,   0,\n",
              "          0,   0,   0,   0,   0,   0,   0,   0,   0,   0,   0,   0,   0,\n",
              "          0,   0],\n",
              "       [  0,   0,   0,   0,   0,   0,   0,   0,   0,   0,   0,   0,   0,\n",
              "          0,   0,   0,   0,   0,   0,   0,   0,   0,   0,   0,   0,   0,\n",
              "          0,   0],\n",
              "       [  0,   0,   0,   0,   0,   0,   0,   0,   0,   0,   0,   0,   1,\n",
              "          0,   0,  13,  73,   0,   0,   1,   4,   0,   0,   0,   0,   1,\n",
              "          1,   0],\n",
              "       [  0,   0,   0,   0,   0,   0,   0,   0,   0,   0,   0,   0,   3,\n",
              "          0,  36, 136, 127,  62,  54,   0,   0,   0,   1,   3,   4,   0,\n",
              "          0,   3],\n",
              "       [  0,   0,   0,   0,   0,   0,   0,   0,   0,   0,   0,   0,   6,\n",
              "          0, 102, 204, 176, 134, 144, 123,  23,   0,   0,   0,   0,  12,\n",
              "         10,   0],\n",
              "       [  0,   0,   0,   0,   0,   0,   0,   0,   0,   0,   0,   0,   0,\n",
              "          0, 155, 236, 207, 178, 107, 156, 161, 109,  64,  23,  77, 130,\n",
              "         72,  15],\n",
              "       [  0,   0,   0,   0,   0,   0,   0,   0,   0,   0,   0,   1,   0,\n",
              "         69, 207, 223, 218, 216, 216, 163, 127, 121, 122, 146, 141,  88,\n",
              "        172,  66],\n",
              "       [  0,   0,   0,   0,   0,   0,   0,   0,   0,   1,   1,   1,   0,\n",
              "        200, 232, 232, 233, 229, 223, 223, 215, 213, 164, 127, 123, 196,\n",
              "        229,   0],\n",
              "       [  0,   0,   0,   0,   0,   0,   0,   0,   0,   0,   0,   0,   0,\n",
              "        183, 225, 216, 223, 228, 235, 227, 224, 222, 224, 221, 223, 245,\n",
              "        173,   0],\n",
              "       [  0,   0,   0,   0,   0,   0,   0,   0,   0,   0,   0,   0,   0,\n",
              "        193, 228, 218, 213, 198, 180, 212, 210, 211, 213, 223, 220, 243,\n",
              "        202,   0],\n",
              "       [  0,   0,   0,   0,   0,   0,   0,   0,   0,   1,   3,   0,  12,\n",
              "        219, 220, 212, 218, 192, 169, 227, 208, 218, 224, 212, 226, 197,\n",
              "        209,  52],\n",
              "       [  0,   0,   0,   0,   0,   0,   0,   0,   0,   0,   6,   0,  99,\n",
              "        244, 222, 220, 218, 203, 198, 221, 215, 213, 222, 220, 245, 119,\n",
              "        167,  56],\n",
              "       [  0,   0,   0,   0,   0,   0,   0,   0,   0,   4,   0,   0,  55,\n",
              "        236, 228, 230, 228, 240, 232, 213, 218, 223, 234, 217, 217, 209,\n",
              "         92,   0],\n",
              "       [  0,   0,   1,   4,   6,   7,   2,   0,   0,   0,   0,   0, 237,\n",
              "        226, 217, 223, 222, 219, 222, 221, 216, 223, 229, 215, 218, 255,\n",
              "         77,   0],\n",
              "       [  0,   3,   0,   0,   0,   0,   0,   0,   0,  62, 145, 204, 228,\n",
              "        207, 213, 221, 218, 208, 211, 218, 224, 223, 219, 215, 224, 244,\n",
              "        159,   0],\n",
              "       [  0,   0,   0,   0,  18,  44,  82, 107, 189, 228, 220, 222, 217,\n",
              "        226, 200, 205, 211, 230, 224, 234, 176, 188, 250, 248, 233, 238,\n",
              "        215,   0],\n",
              "       [  0,  57, 187, 208, 224, 221, 224, 208, 204, 214, 208, 209, 200,\n",
              "        159, 245, 193, 206, 223, 255, 255, 221, 234, 221, 211, 220, 232,\n",
              "        246,   0],\n",
              "       [  3, 202, 228, 224, 221, 211, 211, 214, 205, 205, 205, 220, 240,\n",
              "         80, 150, 255, 229, 221, 188, 154, 191, 210, 204, 209, 222, 228,\n",
              "        225,   0],\n",
              "       [ 98, 233, 198, 210, 222, 229, 229, 234, 249, 220, 194, 215, 217,\n",
              "        241,  65,  73, 106, 117, 168, 219, 221, 215, 217, 223, 223, 224,\n",
              "        229,  29],\n",
              "       [ 75, 204, 212, 204, 193, 205, 211, 225, 216, 185, 197, 206, 198,\n",
              "        213, 240, 195, 227, 245, 239, 223, 218, 212, 209, 222, 220, 221,\n",
              "        230,  67],\n",
              "       [ 48, 203, 183, 194, 213, 197, 185, 190, 194, 192, 202, 214, 219,\n",
              "        221, 220, 236, 225, 216, 199, 206, 186, 181, 177, 172, 181, 205,\n",
              "        206, 115],\n",
              "       [  0, 122, 219, 193, 179, 171, 183, 196, 204, 210, 213, 207, 211,\n",
              "        210, 200, 196, 194, 191, 195, 191, 198, 192, 176, 156, 167, 177,\n",
              "        210,  92],\n",
              "       [  0,   0,  74, 189, 212, 191, 175, 172, 175, 181, 185, 188, 189,\n",
              "        188, 193, 198, 204, 209, 210, 210, 211, 188, 188, 194, 192, 216,\n",
              "        170,   0],\n",
              "       [  2,   0,   0,   0,  66, 200, 222, 237, 239, 242, 246, 243, 244,\n",
              "        221, 220, 193, 191, 179, 182, 182, 181, 176, 166, 168,  99,  58,\n",
              "          0,   0],\n",
              "       [  0,   0,   0,   0,   0,   0,   0,  40,  61,  44,  72,  41,  35,\n",
              "          0,   0,   0,   0,   0,   0,   0,   0,   0,   0,   0,   0,   0,\n",
              "          0,   0],\n",
              "       [  0,   0,   0,   0,   0,   0,   0,   0,   0,   0,   0,   0,   0,\n",
              "          0,   0,   0,   0,   0,   0,   0,   0,   0,   0,   0,   0,   0,\n",
              "          0,   0],\n",
              "       [  0,   0,   0,   0,   0,   0,   0,   0,   0,   0,   0,   0,   0,\n",
              "          0,   0,   0,   0,   0,   0,   0,   0,   0,   0,   0,   0,   0,\n",
              "          0,   0]], dtype=uint8)</pre></div><script>\n",
              "      (() => {\n",
              "      const titles = ['show data', 'hide data'];\n",
              "      let index = 0\n",
              "      document.querySelector('#id-3733d2bd-21db-4a32-b63f-2e2aa3f4d0e4 button').onclick = (e) => {\n",
              "        document.querySelector('#id-3733d2bd-21db-4a32-b63f-2e2aa3f4d0e4').classList.toggle('show_array');\n",
              "        index = (++index) % 2;\n",
              "        document.querySelector('#id-3733d2bd-21db-4a32-b63f-2e2aa3f4d0e4 button').textContent = titles[index];\n",
              "        e.preventDefault();\n",
              "        e.stopPropagation();\n",
              "      }\n",
              "      })();\n",
              "    </script>"
            ]
          },
          "metadata": {},
          "execution_count": 12
        }
      ]
    },
    {
      "cell_type": "code",
      "source": [
        "X_train[0]\n",
        "# There are 28 lists will avaialble\n",
        "# In each list 28 values will be there\n",
        "# the shape will become 28x28\n",
        "X_train[0].shape"
      ],
      "metadata": {
        "colab": {
          "base_uri": "https://localhost:8080/"
        },
        "id": "FrW7jv2iJIEj",
        "outputId": "23cbbb14-4718-48dd-8ccb-18e41e58abe8"
      },
      "execution_count": 13,
      "outputs": [
        {
          "output_type": "execute_result",
          "data": {
            "text/plain": [
              "(28, 28)"
            ]
          },
          "metadata": {},
          "execution_count": 13
        }
      ]
    },
    {
      "cell_type": "code",
      "source": [
        "len(X_train[1]) # each list has 28 values"
      ],
      "metadata": {
        "colab": {
          "base_uri": "https://localhost:8080/"
        },
        "id": "2zXrKLPbEplF",
        "outputId": "137e0991-fcf7-4888-c9ac-3ac4753a8bd0"
      },
      "execution_count": 14,
      "outputs": [
        {
          "output_type": "execute_result",
          "data": {
            "text/plain": [
              "28"
            ]
          },
          "metadata": {},
          "execution_count": 14
        }
      ]
    },
    {
      "cell_type": "code",
      "source": [
        "len(X_train[0])\n",
        "\n",
        "# 28 lists are there\n",
        "# in each list 28 values are there"
      ],
      "metadata": {
        "colab": {
          "base_uri": "https://localhost:8080/"
        },
        "id": "9Jobcv2Y2S9A",
        "outputId": "a3ab58e0-1113-4c2b-9a26-b89b6b1f0951"
      },
      "execution_count": 15,
      "outputs": [
        {
          "output_type": "execute_result",
          "data": {
            "text/plain": [
              "28"
            ]
          },
          "metadata": {},
          "execution_count": 15
        }
      ]
    },
    {
      "cell_type": "code",
      "source": [
        "y_train"
      ],
      "metadata": {
        "colab": {
          "base_uri": "https://localhost:8080/"
        },
        "id": "mELIsQCHcq4S",
        "outputId": "f0f6ad11-9826-4920-b87d-ab8a49c079a0"
      },
      "execution_count": 16,
      "outputs": [
        {
          "output_type": "execute_result",
          "data": {
            "text/plain": [
              "array([9, 0, 0, ..., 3, 0, 5], dtype=uint8)"
            ]
          },
          "metadata": {},
          "execution_count": 16
        }
      ]
    },
    {
      "cell_type": "code",
      "source": [
        "len(y_train)"
      ],
      "metadata": {
        "colab": {
          "base_uri": "https://localhost:8080/"
        },
        "id": "cpi5GtcxAvtG",
        "outputId": "8ed656e4-20b2-42a8-975e-215da31dda5c"
      },
      "execution_count": 17,
      "outputs": [
        {
          "output_type": "execute_result",
          "data": {
            "text/plain": [
              "60000"
            ]
          },
          "metadata": {},
          "execution_count": 17
        }
      ]
    },
    {
      "cell_type": "code",
      "source": [
        "max(y_train),min(y_train)\n",
        "# multiclassification probelm\n",
        "# 10 classes"
      ],
      "metadata": {
        "colab": {
          "base_uri": "https://localhost:8080/"
        },
        "id": "cuyD5VLzOCdK",
        "outputId": "fed3722c-b4b6-4917-9fec-e00d28a9a065"
      },
      "execution_count": 18,
      "outputs": [
        {
          "output_type": "execute_result",
          "data": {
            "text/plain": [
              "(9, 0)"
            ]
          },
          "metadata": {},
          "execution_count": 18
        }
      ]
    },
    {
      "cell_type": "markdown",
      "source": [
        "- X_train[0]  First image belongs to y[0] that is class number 9\n",
        "\n",
        "- X_train[1]  second image belongs to y[1] that is class number 0 and so on\n",
        "\n",
        "- there 60000 images and 60000 lables but 10 classes\n",
        "\n",
        "- It is a multiclassification problem\n",
        "\n",
        "- So we will use softmax at output layer\n"
      ],
      "metadata": {
        "id": "GDILaFsfBEyw"
      }
    },
    {
      "cell_type": "code",
      "source": [
        "X_train[0].shape    # First image\n",
        "X_train[1]          # second image\n",
        "\n",
        "# In image we have 784 pixels are there\n",
        "# 28x28\n",
        "# RGB picture : color picture\n",
        "# Gray        : not a color picture\n",
        "\n",
        "# RGB values ranges between  0 to 255\n",
        "# Rainbow :  7\n",
        "#  2^7: 256\n",
        "# 0= black\n",
        "# 255= white\n",
        "# Rainbow :  VIBGYOR ==== > 2^7=128   -128 to 128:   256    0 to 255\n",
        "# 0 : Black  255:white\n",
        "\n",
        "# subject: Digital Imgae processing  OpenCV"
      ],
      "metadata": {
        "colab": {
          "base_uri": "https://localhost:8080/",
          "height": 68
        },
        "id": "0ocLE0cixcOS",
        "outputId": "9dbf4752-e8de-44c7-ae82-94a0c30e665c"
      },
      "execution_count": 19,
      "outputs": [
        {
          "output_type": "execute_result",
          "data": {
            "text/plain": [
              "array([[  0,   0,   0,   0,   0,   1,   0,   0,   0,   0,  41, 188, 103,\n",
              "         54,  48,  43,  87, 168, 133,  16,   0,   0,   0,   0,   0,   0,\n",
              "          0,   0],\n",
              "       [  0,   0,   0,   1,   0,   0,   0,  49, 136, 219, 216, 228, 236,\n",
              "        255, 255, 255, 255, 217, 215, 254, 231, 160,  45,   0,   0,   0,\n",
              "          0,   0],\n",
              "       [  0,   0,   0,   0,   0,  14, 176, 222, 224, 212, 203, 198, 196,\n",
              "        200, 215, 204, 202, 201, 201, 201, 209, 218, 224, 164,   0,   0,\n",
              "          0,   0],\n",
              "       [  0,   0,   0,   0,   0, 188, 219, 200, 198, 202, 198, 199, 199,\n",
              "        201, 196, 198, 198, 200, 200, 200, 200, 201, 200, 225,  41,   0,\n",
              "          0,   0],\n",
              "       [  0,   0,   0,   0,  51, 219, 199, 203, 203, 212, 238, 248, 250,\n",
              "        245, 249, 246, 247, 252, 248, 235, 207, 203, 203, 222, 140,   0,\n",
              "          0,   0],\n",
              "       [  0,   0,   0,   0, 116, 226, 206, 204, 207, 204, 101,  75,  47,\n",
              "         73,  48,  50,  45,  51,  63, 113, 222, 202, 206, 220, 224,   0,\n",
              "          0,   0],\n",
              "       [  0,   0,   0,   0, 200, 222, 209, 203, 215, 200,   0,  70,  98,\n",
              "          0, 103,  59,  68,  71,  49,   0, 219, 206, 214, 210, 250,  38,\n",
              "          0,   0],\n",
              "       [  0,   0,   0,   0, 247, 218, 212, 210, 215, 214,   0, 254, 243,\n",
              "        139, 255, 174, 251, 255, 205,   0, 215, 217, 214, 208, 220,  95,\n",
              "          0,   0],\n",
              "       [  0,   0,   0,  45, 226, 214, 214, 215, 224, 205,   0,  42,  35,\n",
              "         60,  16,  17,  12,  13,  70,   0, 189, 216, 212, 206, 212, 156,\n",
              "          0,   0],\n",
              "       [  0,   0,   0, 164, 235, 214, 211, 220, 216, 201,  52,  71,  89,\n",
              "         94,  83,  78,  70,  76,  92,  87, 206, 207, 222, 213, 219, 208,\n",
              "          0,   0],\n",
              "       [  0,   0,   0, 106, 187, 223, 237, 248, 211, 198, 252, 250, 248,\n",
              "        245, 248, 252, 253, 250, 252, 239, 201, 212, 225, 215, 193, 113,\n",
              "          0,   0],\n",
              "       [  0,   0,   0,   0,   0,  17,  54, 159, 222, 193, 208, 192, 197,\n",
              "        200, 200, 200, 200, 201, 203, 195, 210, 165,   0,   0,   0,   0,\n",
              "          0,   0],\n",
              "       [  0,   0,   0,   0,   0,   0,   0,  47, 225, 192, 214, 203, 206,\n",
              "        204, 204, 205, 206, 204, 212, 197, 218, 107,   0,   0,   0,   0,\n",
              "          0,   0],\n",
              "       [  0,   0,   0,   0,   1,   6,   0,  46, 212, 195, 212, 202, 206,\n",
              "        205, 204, 205, 206, 204, 212, 200, 218,  91,   0,   3,   1,   0,\n",
              "          0,   0],\n",
              "       [  0,   0,   0,   0,   0,   1,   0,  11, 197, 199, 205, 202, 205,\n",
              "        206, 204, 205, 207, 204, 205, 205, 218,  77,   0,   5,   0,   0,\n",
              "          0,   0],\n",
              "       [  0,   0,   0,   0,   0,   3,   0,   2, 191, 198, 201, 205, 206,\n",
              "        205, 205, 206, 209, 206, 199, 209, 219,  74,   0,   5,   0,   0,\n",
              "          0,   0],\n",
              "       [  0,   0,   0,   0,   0,   2,   0,   0, 188, 197, 200, 207, 207,\n",
              "        204, 207, 207, 210, 208, 198, 207, 221,  72,   0,   4,   0,   0,\n",
              "          0,   0],\n",
              "       [  0,   0,   0,   0,   0,   2,   0,   0, 215, 198, 203, 206, 208,\n",
              "        205, 207, 207, 210, 208, 200, 202, 222,  75,   0,   4,   0,   0,\n",
              "          0,   0],\n",
              "       [  0,   0,   0,   0,   0,   1,   0,   0, 212, 198, 209, 206, 209,\n",
              "        206, 208, 207, 211, 206, 205, 198, 221,  80,   0,   3,   0,   0,\n",
              "          0,   0],\n",
              "       [  0,   0,   0,   0,   0,   1,   0,   0, 204, 201, 205, 208, 207,\n",
              "        205, 211, 205, 210, 210, 209, 195, 221,  96,   0,   3,   0,   0,\n",
              "          0,   0],\n",
              "       [  0,   0,   0,   0,   0,   1,   0,   0, 202, 201, 205, 209, 207,\n",
              "        205, 213, 206, 210, 209, 210, 194, 217, 105,   0,   2,   0,   0,\n",
              "          0,   0],\n",
              "       [  0,   0,   0,   0,   0,   1,   0,   0, 204, 204, 205, 208, 207,\n",
              "        205, 215, 207, 210, 208, 211, 193, 213, 115,   0,   2,   0,   0,\n",
              "          0,   0],\n",
              "       [  0,   0,   0,   0,   0,   0,   0,   0, 204, 207, 207, 208, 206,\n",
              "        206, 215, 210, 210, 207, 212, 195, 210, 118,   0,   2,   0,   0,\n",
              "          0,   0],\n",
              "       [  0,   0,   0,   0,   0,   1,   0,   0, 198, 208, 208, 208, 204,\n",
              "        207, 212, 212, 210, 207, 211, 196, 207, 121,   0,   1,   0,   0,\n",
              "          0,   0],\n",
              "       [  0,   0,   0,   0,   0,   1,   0,   0, 198, 210, 207, 208, 206,\n",
              "        209, 213, 212, 211, 207, 210, 197, 207, 124,   0,   1,   0,   0,\n",
              "          0,   0],\n",
              "       [  0,   0,   0,   0,   0,   0,   0,   0, 172, 210, 203, 201, 199,\n",
              "        204, 207, 205, 204, 201, 205, 197, 206, 127,   0,   0,   0,   0,\n",
              "          0,   0],\n",
              "       [  0,   0,   0,   0,   0,   0,   0,   0, 188, 221, 214, 234, 236,\n",
              "        238, 244, 244, 244, 240, 243, 214, 224, 162,   0,   2,   0,   0,\n",
              "          0,   0],\n",
              "       [  0,   0,   0,   0,   0,   1,   0,   0, 139, 146, 130, 135, 135,\n",
              "        137, 125, 124, 125, 121, 119, 114, 130,  76,   0,   0,   0,   0,\n",
              "          0,   0]], dtype=uint8)"
            ],
            "text/html": [
              "<style>\n",
              "      .ndarray_repr .ndarray_raw_data {\n",
              "        display: none;\n",
              "      }\n",
              "      .ndarray_repr.show_array .ndarray_raw_data {\n",
              "        display: block;\n",
              "      }\n",
              "      .ndarray_repr.show_array .ndarray_image_preview {\n",
              "        display: none;\n",
              "      }\n",
              "      </style>\n",
              "      <div id=\"id-2cddc5c1-5b24-4d42-9a99-36d829e06e60\" class=\"ndarray_repr\"><pre>ndarray (28, 28) <button style=\"padding: 0 2px;\">show data</button></pre><img src=\"data:image/png;base64,iVBORw0KGgoAAAANSUhEUgAAABwAAAAcCAAAAABXZoBIAAAB90lEQVR4nF2QvWvTURSGn3PuTUwaSVMtlLZDBT+g0CragnQQwcnFQRAcdHNy0KngXyAIDg5O4qKuDrrp4ChFOthBsNrSxZZ0MMXYD5tffvfe45CkX2d9eF7e9wgAYsD487cL7Xzi5srTJvsnwMUnyz/WGmZmPxfT+qvJPQDVN+d1ezdPvn8nGZTKxc939+CnsY3kg6C5ooDY8PVF8ABTYw3vyiN9mvsohbC1Foj3Zrvm7MNGcvFFfW1kXfPi8UsPGr7qT4EC3ArOSuFlPvXhcnlocPNZ9KV/I+e6sRdW3TGqfNwZn313w3+dCpWYfs0s4YHJ30FdeYOJbPix5DJDfTSl1pXXeOBReTuWW2H65InCUN4q1m4P7PZLcboTOzd0plpZjl9Sis5L1K2litP6+97OgbP3r672NwsOEG31f7sDdAvxZz67ZsWKS4ikUrs01/mrAkgR23LJujmOJk560HJW/voMExCyApuo9SDKbtuCExNRbXuJB2IxUjRTMRVRS5qwfQiMijMRAM3FHTaJFBERJBWCFY6YLRc0mUvmfaR20AQSCKhgYqHcMX0PKlgHqoU+DnzIAAcmOEw0Hiok0BYhSVQwie5IIdRQFaTjH55SJ2RZ3s6ydo65I4VqFT+oWoTgVvtOo2kPirHwvVlAt01CymvzJID/CjnVF438ZwEAAAAASUVORK5CYII=\" class=\"ndarray_image_preview\" /><pre class=\"ndarray_raw_data\">array([[  0,   0,   0,   0,   0,   1,   0,   0,   0,   0,  41, 188, 103,\n",
              "         54,  48,  43,  87, 168, 133,  16,   0,   0,   0,   0,   0,   0,\n",
              "          0,   0],\n",
              "       [  0,   0,   0,   1,   0,   0,   0,  49, 136, 219, 216, 228, 236,\n",
              "        255, 255, 255, 255, 217, 215, 254, 231, 160,  45,   0,   0,   0,\n",
              "          0,   0],\n",
              "       [  0,   0,   0,   0,   0,  14, 176, 222, 224, 212, 203, 198, 196,\n",
              "        200, 215, 204, 202, 201, 201, 201, 209, 218, 224, 164,   0,   0,\n",
              "          0,   0],\n",
              "       [  0,   0,   0,   0,   0, 188, 219, 200, 198, 202, 198, 199, 199,\n",
              "        201, 196, 198, 198, 200, 200, 200, 200, 201, 200, 225,  41,   0,\n",
              "          0,   0],\n",
              "       [  0,   0,   0,   0,  51, 219, 199, 203, 203, 212, 238, 248, 250,\n",
              "        245, 249, 246, 247, 252, 248, 235, 207, 203, 203, 222, 140,   0,\n",
              "          0,   0],\n",
              "       [  0,   0,   0,   0, 116, 226, 206, 204, 207, 204, 101,  75,  47,\n",
              "         73,  48,  50,  45,  51,  63, 113, 222, 202, 206, 220, 224,   0,\n",
              "          0,   0],\n",
              "       [  0,   0,   0,   0, 200, 222, 209, 203, 215, 200,   0,  70,  98,\n",
              "          0, 103,  59,  68,  71,  49,   0, 219, 206, 214, 210, 250,  38,\n",
              "          0,   0],\n",
              "       [  0,   0,   0,   0, 247, 218, 212, 210, 215, 214,   0, 254, 243,\n",
              "        139, 255, 174, 251, 255, 205,   0, 215, 217, 214, 208, 220,  95,\n",
              "          0,   0],\n",
              "       [  0,   0,   0,  45, 226, 214, 214, 215, 224, 205,   0,  42,  35,\n",
              "         60,  16,  17,  12,  13,  70,   0, 189, 216, 212, 206, 212, 156,\n",
              "          0,   0],\n",
              "       [  0,   0,   0, 164, 235, 214, 211, 220, 216, 201,  52,  71,  89,\n",
              "         94,  83,  78,  70,  76,  92,  87, 206, 207, 222, 213, 219, 208,\n",
              "          0,   0],\n",
              "       [  0,   0,   0, 106, 187, 223, 237, 248, 211, 198, 252, 250, 248,\n",
              "        245, 248, 252, 253, 250, 252, 239, 201, 212, 225, 215, 193, 113,\n",
              "          0,   0],\n",
              "       [  0,   0,   0,   0,   0,  17,  54, 159, 222, 193, 208, 192, 197,\n",
              "        200, 200, 200, 200, 201, 203, 195, 210, 165,   0,   0,   0,   0,\n",
              "          0,   0],\n",
              "       [  0,   0,   0,   0,   0,   0,   0,  47, 225, 192, 214, 203, 206,\n",
              "        204, 204, 205, 206, 204, 212, 197, 218, 107,   0,   0,   0,   0,\n",
              "          0,   0],\n",
              "       [  0,   0,   0,   0,   1,   6,   0,  46, 212, 195, 212, 202, 206,\n",
              "        205, 204, 205, 206, 204, 212, 200, 218,  91,   0,   3,   1,   0,\n",
              "          0,   0],\n",
              "       [  0,   0,   0,   0,   0,   1,   0,  11, 197, 199, 205, 202, 205,\n",
              "        206, 204, 205, 207, 204, 205, 205, 218,  77,   0,   5,   0,   0,\n",
              "          0,   0],\n",
              "       [  0,   0,   0,   0,   0,   3,   0,   2, 191, 198, 201, 205, 206,\n",
              "        205, 205, 206, 209, 206, 199, 209, 219,  74,   0,   5,   0,   0,\n",
              "          0,   0],\n",
              "       [  0,   0,   0,   0,   0,   2,   0,   0, 188, 197, 200, 207, 207,\n",
              "        204, 207, 207, 210, 208, 198, 207, 221,  72,   0,   4,   0,   0,\n",
              "          0,   0],\n",
              "       [  0,   0,   0,   0,   0,   2,   0,   0, 215, 198, 203, 206, 208,\n",
              "        205, 207, 207, 210, 208, 200, 202, 222,  75,   0,   4,   0,   0,\n",
              "          0,   0],\n",
              "       [  0,   0,   0,   0,   0,   1,   0,   0, 212, 198, 209, 206, 209,\n",
              "        206, 208, 207, 211, 206, 205, 198, 221,  80,   0,   3,   0,   0,\n",
              "          0,   0],\n",
              "       [  0,   0,   0,   0,   0,   1,   0,   0, 204, 201, 205, 208, 207,\n",
              "        205, 211, 205, 210, 210, 209, 195, 221,  96,   0,   3,   0,   0,\n",
              "          0,   0],\n",
              "       [  0,   0,   0,   0,   0,   1,   0,   0, 202, 201, 205, 209, 207,\n",
              "        205, 213, 206, 210, 209, 210, 194, 217, 105,   0,   2,   0,   0,\n",
              "          0,   0],\n",
              "       [  0,   0,   0,   0,   0,   1,   0,   0, 204, 204, 205, 208, 207,\n",
              "        205, 215, 207, 210, 208, 211, 193, 213, 115,   0,   2,   0,   0,\n",
              "          0,   0],\n",
              "       [  0,   0,   0,   0,   0,   0,   0,   0, 204, 207, 207, 208, 206,\n",
              "        206, 215, 210, 210, 207, 212, 195, 210, 118,   0,   2,   0,   0,\n",
              "          0,   0],\n",
              "       [  0,   0,   0,   0,   0,   1,   0,   0, 198, 208, 208, 208, 204,\n",
              "        207, 212, 212, 210, 207, 211, 196, 207, 121,   0,   1,   0,   0,\n",
              "          0,   0],\n",
              "       [  0,   0,   0,   0,   0,   1,   0,   0, 198, 210, 207, 208, 206,\n",
              "        209, 213, 212, 211, 207, 210, 197, 207, 124,   0,   1,   0,   0,\n",
              "          0,   0],\n",
              "       [  0,   0,   0,   0,   0,   0,   0,   0, 172, 210, 203, 201, 199,\n",
              "        204, 207, 205, 204, 201, 205, 197, 206, 127,   0,   0,   0,   0,\n",
              "          0,   0],\n",
              "       [  0,   0,   0,   0,   0,   0,   0,   0, 188, 221, 214, 234, 236,\n",
              "        238, 244, 244, 244, 240, 243, 214, 224, 162,   0,   2,   0,   0,\n",
              "          0,   0],\n",
              "       [  0,   0,   0,   0,   0,   1,   0,   0, 139, 146, 130, 135, 135,\n",
              "        137, 125, 124, 125, 121, 119, 114, 130,  76,   0,   0,   0,   0,\n",
              "          0,   0]], dtype=uint8)</pre></div><script>\n",
              "      (() => {\n",
              "      const titles = ['show data', 'hide data'];\n",
              "      let index = 0\n",
              "      document.querySelector('#id-2cddc5c1-5b24-4d42-9a99-36d829e06e60 button').onclick = (e) => {\n",
              "        document.querySelector('#id-2cddc5c1-5b24-4d42-9a99-36d829e06e60').classList.toggle('show_array');\n",
              "        index = (++index) % 2;\n",
              "        document.querySelector('#id-2cddc5c1-5b24-4d42-9a99-36d829e06e60 button').textContent = titles[index];\n",
              "        e.preventDefault();\n",
              "        e.stopPropagation();\n",
              "      }\n",
              "      })();\n",
              "    </script>"
            ]
          },
          "metadata": {},
          "execution_count": 19
        }
      ]
    },
    {
      "cell_type": "code",
      "source": [
        "y_train[:5]\n",
        "X_train[0] # 9 ==== Shoe\n",
        "X_train[1] # 0 === shirt\n",
        "X_train[2] # 0 === top\n",
        "X_train[3] # 3 === dress\n",
        "X_train[4] # 0\n",
        "# Total 60k images\n",
        "# the divides into 10 classes"
      ],
      "metadata": {
        "colab": {
          "base_uri": "https://localhost:8080/",
          "height": 68
        },
        "id": "PE2eEOR4lvWw",
        "outputId": "653c06d4-c38c-4070-e7f0-37ff95555303"
      },
      "execution_count": null,
      "outputs": [
        {
          "output_type": "execute_result",
          "data": {
            "text/plain": [
              "array([[  0,   0,   0,   0,   0,   0,   0,   0,   0,   0,   0,   0,   0,\n",
              "          0,   0,   0,   0,  26,   0,   0,   0,   0,   0,   0,   0,   0,\n",
              "          0,   0],\n",
              "       [  0,   0,   0,   0,   0,   0,   0,   0, 189, 206, 187,  32,   0,\n",
              "          0,   0,  26, 217, 226, 196,  11,   0,   0,   0,   0,   0,   0,\n",
              "          0,   0],\n",
              "       [  0,   0,   0,   0,   0,   0,   0,   0, 192, 227, 234, 243, 230,\n",
              "        147, 239, 242, 234, 218, 209,   0,   0,   0,   0,   0,   0,   0,\n",
              "          0,   0],\n",
              "       [  0,   0,   0,   0,   0,   0,   0,   0, 173, 225, 215, 233, 254,\n",
              "          0, 194, 240, 217, 221, 190,   0,   0,   0,   0,   0,   0,   0,\n",
              "          0,   0],\n",
              "       [  0,   0,   0,   0,   0,   0,   0,   0, 139, 229, 212, 226, 255,\n",
              "          0, 162, 255, 213, 226, 200,   0,   0,   0,   0,   0,   0,   0,\n",
              "          0,   0],\n",
              "       [  0,   0,   0,   0,   0,   0,   0,   0,  98, 232, 211, 215, 249,\n",
              "         46, 162, 246, 214, 230, 186,   0,   0,   0,   0,   0,   0,   0,\n",
              "          0,   0],\n",
              "       [  0,   0,   0,   0,   0,   0,   0,   0,  70, 228, 213, 220, 224,\n",
              "        252, 239, 219, 217, 231, 171,   0,   0,   0,   0,   0,   0,   0,\n",
              "          0,   0],\n",
              "       [  0,   0,   0,   0,   0,   0,   0,   0,  45, 222, 214, 218, 216,\n",
              "        210, 215, 217, 202, 224, 172,   0,   0,   0,   0,   0,   0,   0,\n",
              "          0,   0],\n",
              "       [  0,   0,   0,   0,   0,   0,   0,   0,  24, 254, 214, 210, 211,\n",
              "        214, 215, 212, 203, 221, 167,   0,   0,   0,   0,   0,   0,   0,\n",
              "          0,   0],\n",
              "       [  0,   0,   0,   0,   0,   0,   0,   0,   0, 254, 216, 215, 217,\n",
              "        217, 216, 216, 206, 225, 150,   0,   0,   0,   0,   0,   0,   0,\n",
              "          0,   0],\n",
              "       [  0,   0,   0,   0,   0,   0,   0,   0,   0, 247, 216, 214, 217,\n",
              "        216, 214, 212, 203, 226, 136,   0,   0,   0,   0,   0,   0,   0,\n",
              "          0,   0],\n",
              "       [  0,   0,   0,   0,   0,   0,   0,   0,   0, 245, 216, 214, 216,\n",
              "        217, 215, 211, 204, 225, 125,   0,   0,   0,   0,   0,   0,   0,\n",
              "          0,   0],\n",
              "       [  0,   0,   0,   0,   0,   0,   0,   0,   0, 247, 216, 214, 217,\n",
              "        220, 217, 213, 203, 222, 147,   0,   0,   0,   0,   0,   0,   0,\n",
              "          0,   0],\n",
              "       [  0,   0,   0,   0,   0,   0,   0,   0,   0, 248, 216, 215, 218,\n",
              "        222, 216, 214, 207, 218, 179,   0,   0,   0,   0,   0,   0,   0,\n",
              "          0,   0],\n",
              "       [  0,   0,   0,   0,   0,   0,   0,   0,   0, 249, 216, 217, 219,\n",
              "        222, 217, 214, 210, 215, 211,   0,   0,   0,   0,   0,   0,   0,\n",
              "          0,   0],\n",
              "       [  0,   0,   0,   0,   0,   0,   0,   0,  38, 255, 214, 218, 219,\n",
              "        224, 218, 215, 211, 211, 231,   0,   0,   0,   0,   0,   0,   0,\n",
              "          0,   0],\n",
              "       [  0,   0,   0,   0,   0,   0,   0,   0,  79, 227, 209, 219, 219,\n",
              "        227, 219, 215, 213, 206, 254,  58,   0,   0,   0,   0,   0,   0,\n",
              "          0,   0],\n",
              "       [  0,   0,   0,   0,   0,   0,   0,   0, 146, 226, 211, 220, 219,\n",
              "        228, 218, 215, 216, 205, 219, 163,   0,   0,   0,   0,   0,   0,\n",
              "          0,   0],\n",
              "       [  0,   0,   0,   0,   0,   0,   0,   0, 202, 221, 214, 221, 219,\n",
              "        231, 218, 215, 218, 213, 212, 220,   0,   0,   0,   0,   0,   0,\n",
              "          0,   0],\n",
              "       [  0,   0,   0,   0,   0,   0,   0,   0, 234, 217, 216, 220, 219,\n",
              "        234, 217, 215, 218, 216, 223, 247,   7,   0,   0,   0,   0,   0,\n",
              "          0,   0],\n",
              "       [  0,   0,   0,   0,   0,   0,   0,  17, 254, 212, 219, 219, 220,\n",
              "        233, 214, 216, 219, 222, 153, 238,  58,   0,   0,   0,   0,   0,\n",
              "          0,   0],\n",
              "       [  0,   0,   0,   0,   0,   0,   0,  66, 255, 208, 220, 219, 222,\n",
              "        241, 220, 218, 218, 218, 192, 242,  99,   0,   0,   0,   0,   0,\n",
              "          0,   0],\n",
              "       [  0,   0,   0,   0,   0,   0,   0, 142, 235, 203, 218, 216, 231,\n",
              "        242, 225, 233, 219, 214, 216, 238, 144,   0,   0,   0,   0,   0,\n",
              "          0,   0],\n",
              "       [  0,   0,   0,   0,   0,   0,   0, 177, 248, 227, 229, 211, 255,\n",
              "         76,   0, 247, 243, 230, 230, 249, 187,   0,   0,   0,   0,   0,\n",
              "          0,   0],\n",
              "       [  0,   0,   0,   0,   0,   0,   0, 101, 241, 228, 228, 220, 255,\n",
              "         64,   0, 243, 237, 230, 227, 241, 142,   0,   0,   0,   0,   0,\n",
              "          0,   0],\n",
              "       [  0,   0,   0,   0,   0,   0,   0,   0, 255, 242, 222, 218, 255,\n",
              "         62,   0, 223, 238, 225, 238, 255,  31,   0,   0,   0,   0,   0,\n",
              "          0,   0],\n",
              "       [  0,   0,   0,   0,   0,   0,   0,   0,  45, 255, 242, 235, 255,\n",
              "         84,   0, 246, 255, 242, 255,  70,   0,   0,   0,   0,   0,   0,\n",
              "          0,   0],\n",
              "       [  0,   0,   0,   0,   0,   0,   0,   0,   0,   0,  61, 102, 168,\n",
              "         25,   0, 139, 161,  74,   0,   0,   0,   0,   0,   0,   0,   0,\n",
              "          0,   0]], dtype=uint8)"
            ],
            "text/html": [
              "<style>\n",
              "      .ndarray_repr .ndarray_raw_data {\n",
              "        display: none;\n",
              "      }\n",
              "      .ndarray_repr.show_array .ndarray_raw_data {\n",
              "        display: block;\n",
              "      }\n",
              "      .ndarray_repr.show_array .ndarray_image_preview {\n",
              "        display: none;\n",
              "      }\n",
              "      </style>\n",
              "      <div id=\"id-7bf0330a-a851-4ed2-af7d-15a9311709ef\" class=\"ndarray_repr\"><pre>ndarray (28, 28) <button style=\"padding: 0 2px;\">show data</button></pre><img src=\"data:image/png;base64,iVBORw0KGgoAAAANSUhEUgAAABwAAAAcCAAAAABXZoBIAAABY0lEQVR4nG3OO0sDQRQF4HNmduMjGBWirg8wICgiCmKjgjaChVhaibVg4S/xV9jZ2FkpdtZpAoqCTyIKGh/RaJKZ3WuVCDO51eV8nDsDuDPkJcBp/iQHYOjy4SzdyILGovtGCl+HW7r60VVpZKqxlJLST7RbSN51CR7eBHGNuOu2YaePF1oq9Rn8Mig3sflm0arwKf/1qPnp41OdSfU8VJ9t9M++5FA1AQxj4zefoUIFCXTw7iNqEEiSxPz/UPMsEkBIoVRaNBVADSVxf4smQSphYHMtURGEjlvgeCohFEmb9XGyaAhNKDOw6OGKKIICLdc7Hs4bTWhAtdcWPMxZJdAC6PRwm4O9WaOFEpOp4985B2dpCdWeUmIngkkH119NEncw7KaN7LSDY11R2kSbo5moJ5OecvCoRunAN2wdcbUAZ6R8cyXLuH27f5NRF6el/CIb+JGyrLoGYGn7YBB7+2v/yR+rVoQPczXmPgAAAABJRU5ErkJggg==\" class=\"ndarray_image_preview\" /><pre class=\"ndarray_raw_data\">array([[  0,   0,   0,   0,   0,   0,   0,   0,   0,   0,   0,   0,   0,\n",
              "          0,   0,   0,   0,  26,   0,   0,   0,   0,   0,   0,   0,   0,\n",
              "          0,   0],\n",
              "       [  0,   0,   0,   0,   0,   0,   0,   0, 189, 206, 187,  32,   0,\n",
              "          0,   0,  26, 217, 226, 196,  11,   0,   0,   0,   0,   0,   0,\n",
              "          0,   0],\n",
              "       [  0,   0,   0,   0,   0,   0,   0,   0, 192, 227, 234, 243, 230,\n",
              "        147, 239, 242, 234, 218, 209,   0,   0,   0,   0,   0,   0,   0,\n",
              "          0,   0],\n",
              "       [  0,   0,   0,   0,   0,   0,   0,   0, 173, 225, 215, 233, 254,\n",
              "          0, 194, 240, 217, 221, 190,   0,   0,   0,   0,   0,   0,   0,\n",
              "          0,   0],\n",
              "       [  0,   0,   0,   0,   0,   0,   0,   0, 139, 229, 212, 226, 255,\n",
              "          0, 162, 255, 213, 226, 200,   0,   0,   0,   0,   0,   0,   0,\n",
              "          0,   0],\n",
              "       [  0,   0,   0,   0,   0,   0,   0,   0,  98, 232, 211, 215, 249,\n",
              "         46, 162, 246, 214, 230, 186,   0,   0,   0,   0,   0,   0,   0,\n",
              "          0,   0],\n",
              "       [  0,   0,   0,   0,   0,   0,   0,   0,  70, 228, 213, 220, 224,\n",
              "        252, 239, 219, 217, 231, 171,   0,   0,   0,   0,   0,   0,   0,\n",
              "          0,   0],\n",
              "       [  0,   0,   0,   0,   0,   0,   0,   0,  45, 222, 214, 218, 216,\n",
              "        210, 215, 217, 202, 224, 172,   0,   0,   0,   0,   0,   0,   0,\n",
              "          0,   0],\n",
              "       [  0,   0,   0,   0,   0,   0,   0,   0,  24, 254, 214, 210, 211,\n",
              "        214, 215, 212, 203, 221, 167,   0,   0,   0,   0,   0,   0,   0,\n",
              "          0,   0],\n",
              "       [  0,   0,   0,   0,   0,   0,   0,   0,   0, 254, 216, 215, 217,\n",
              "        217, 216, 216, 206, 225, 150,   0,   0,   0,   0,   0,   0,   0,\n",
              "          0,   0],\n",
              "       [  0,   0,   0,   0,   0,   0,   0,   0,   0, 247, 216, 214, 217,\n",
              "        216, 214, 212, 203, 226, 136,   0,   0,   0,   0,   0,   0,   0,\n",
              "          0,   0],\n",
              "       [  0,   0,   0,   0,   0,   0,   0,   0,   0, 245, 216, 214, 216,\n",
              "        217, 215, 211, 204, 225, 125,   0,   0,   0,   0,   0,   0,   0,\n",
              "          0,   0],\n",
              "       [  0,   0,   0,   0,   0,   0,   0,   0,   0, 247, 216, 214, 217,\n",
              "        220, 217, 213, 203, 222, 147,   0,   0,   0,   0,   0,   0,   0,\n",
              "          0,   0],\n",
              "       [  0,   0,   0,   0,   0,   0,   0,   0,   0, 248, 216, 215, 218,\n",
              "        222, 216, 214, 207, 218, 179,   0,   0,   0,   0,   0,   0,   0,\n",
              "          0,   0],\n",
              "       [  0,   0,   0,   0,   0,   0,   0,   0,   0, 249, 216, 217, 219,\n",
              "        222, 217, 214, 210, 215, 211,   0,   0,   0,   0,   0,   0,   0,\n",
              "          0,   0],\n",
              "       [  0,   0,   0,   0,   0,   0,   0,   0,  38, 255, 214, 218, 219,\n",
              "        224, 218, 215, 211, 211, 231,   0,   0,   0,   0,   0,   0,   0,\n",
              "          0,   0],\n",
              "       [  0,   0,   0,   0,   0,   0,   0,   0,  79, 227, 209, 219, 219,\n",
              "        227, 219, 215, 213, 206, 254,  58,   0,   0,   0,   0,   0,   0,\n",
              "          0,   0],\n",
              "       [  0,   0,   0,   0,   0,   0,   0,   0, 146, 226, 211, 220, 219,\n",
              "        228, 218, 215, 216, 205, 219, 163,   0,   0,   0,   0,   0,   0,\n",
              "          0,   0],\n",
              "       [  0,   0,   0,   0,   0,   0,   0,   0, 202, 221, 214, 221, 219,\n",
              "        231, 218, 215, 218, 213, 212, 220,   0,   0,   0,   0,   0,   0,\n",
              "          0,   0],\n",
              "       [  0,   0,   0,   0,   0,   0,   0,   0, 234, 217, 216, 220, 219,\n",
              "        234, 217, 215, 218, 216, 223, 247,   7,   0,   0,   0,   0,   0,\n",
              "          0,   0],\n",
              "       [  0,   0,   0,   0,   0,   0,   0,  17, 254, 212, 219, 219, 220,\n",
              "        233, 214, 216, 219, 222, 153, 238,  58,   0,   0,   0,   0,   0,\n",
              "          0,   0],\n",
              "       [  0,   0,   0,   0,   0,   0,   0,  66, 255, 208, 220, 219, 222,\n",
              "        241, 220, 218, 218, 218, 192, 242,  99,   0,   0,   0,   0,   0,\n",
              "          0,   0],\n",
              "       [  0,   0,   0,   0,   0,   0,   0, 142, 235, 203, 218, 216, 231,\n",
              "        242, 225, 233, 219, 214, 216, 238, 144,   0,   0,   0,   0,   0,\n",
              "          0,   0],\n",
              "       [  0,   0,   0,   0,   0,   0,   0, 177, 248, 227, 229, 211, 255,\n",
              "         76,   0, 247, 243, 230, 230, 249, 187,   0,   0,   0,   0,   0,\n",
              "          0,   0],\n",
              "       [  0,   0,   0,   0,   0,   0,   0, 101, 241, 228, 228, 220, 255,\n",
              "         64,   0, 243, 237, 230, 227, 241, 142,   0,   0,   0,   0,   0,\n",
              "          0,   0],\n",
              "       [  0,   0,   0,   0,   0,   0,   0,   0, 255, 242, 222, 218, 255,\n",
              "         62,   0, 223, 238, 225, 238, 255,  31,   0,   0,   0,   0,   0,\n",
              "          0,   0],\n",
              "       [  0,   0,   0,   0,   0,   0,   0,   0,  45, 255, 242, 235, 255,\n",
              "         84,   0, 246, 255, 242, 255,  70,   0,   0,   0,   0,   0,   0,\n",
              "          0,   0],\n",
              "       [  0,   0,   0,   0,   0,   0,   0,   0,   0,   0,  61, 102, 168,\n",
              "         25,   0, 139, 161,  74,   0,   0,   0,   0,   0,   0,   0,   0,\n",
              "          0,   0]], dtype=uint8)</pre></div><script>\n",
              "      (() => {\n",
              "      const titles = ['show data', 'hide data'];\n",
              "      let index = 0\n",
              "      document.querySelector('#id-7bf0330a-a851-4ed2-af7d-15a9311709ef button').onclick = (e) => {\n",
              "        document.querySelector('#id-7bf0330a-a851-4ed2-af7d-15a9311709ef').classList.toggle('show_array');\n",
              "        index = (++index) % 2;\n",
              "        document.querySelector('#id-7bf0330a-a851-4ed2-af7d-15a9311709ef button').textContent = titles[index];\n",
              "        e.preventDefault();\n",
              "        e.stopPropagation();\n",
              "      }\n",
              "      })();\n",
              "    </script>"
            ]
          },
          "metadata": {},
          "execution_count": 20
        }
      ]
    },
    {
      "cell_type": "markdown",
      "source": [
        "np.max() gives the maximum value. Hence the maximum value in X_train is 255. We can even see the minimum value using np.min(X_train). The minimum value will be 0."
      ],
      "metadata": {
        "id": "CoAQ9bwgFIyd"
      }
    },
    {
      "cell_type": "markdown",
      "source": [
        "As we know the images are divided into 10 categories. The 10 categories are encoded using a numerical value as show below."
      ],
      "metadata": {
        "id": "_8rW9L9EFXsd"
      }
    },
    {
      "cell_type": "markdown",
      "source": [
        "These are all the class name in their proper order. top is encoded as 0, trouser is encoded as 1 and so on."
      ],
      "metadata": {
        "id": "87eVPpqnFgIh"
      }
    },
    {
      "cell_type": "markdown",
      "source": [
        "class_names = ['top', 'trouser', 'pullover', 'dress', 'coat', 'sandal', 'shirt', 'sneaker', 'bag', 'ankle boot']"
      ],
      "metadata": {
        "id": "5UjeA60JFj4r"
      }
    },
    {
      "cell_type": "code",
      "source": [
        "class_names = ['top', 'trouser', 'pullover', 'dress', 'coat',\n",
        "               'sandal', 'shirt', 'sneaker', 'bag', 'ankle boot']\n",
        "\n",
        "# Generally this will not available\n",
        "# I have created for easy understanding\n",
        "# y_train[:5]\n",
        "# X_train[0] # 9 ==== Shoe\n",
        "# X_train[1] # 0 === shirt\n",
        "# X_train[2] # 0 === top\n",
        "# X_train[3] # 3 === dress\n",
        "# X_train[4] # 0 === top\n",
        "# Total 60k images\n",
        "# the divides into 10 classes"
      ],
      "metadata": {
        "id": "ScwK0Ju3HmFU"
      },
      "execution_count": 20,
      "outputs": []
    },
    {
      "cell_type": "code",
      "source": [
        "# X_train: 60000\n",
        "# Y_train: outputs\n",
        "# X_train[0]   ====== y_train[0]\n",
        "# Boot =========== 9"
      ],
      "metadata": {
        "id": "vve3T4E4LAuA"
      },
      "execution_count": null,
      "outputs": []
    },
    {
      "cell_type": "markdown",
      "source": [
        "### Data exploration"
      ],
      "metadata": {
        "id": "FZTyQNEkFoI6"
      }
    },
    {
      "cell_type": "markdown",
      "source": [
        "- Here we have plotted the second image of our training set i.e. the image at index 1.\n",
        "\n",
        "- The **plt.figure()** function in pyplot module of matplotlib library is used to create a new figure.\n",
        "\n",
        "- The **plt.imshow()** function in pyplot module of matplotlib library is used to display data as an image.\n",
        "\n",
        "- **plt.colorbar()** displays the colour bar besides the image. You can see that the values are between 0 and 255."
      ],
      "metadata": {
        "id": "sikEa8wqHLYV"
      }
    },
    {
      "cell_type": "code",
      "source": [
        "class_names[y_train[0]]"
      ],
      "metadata": {
        "colab": {
          "base_uri": "https://localhost:8080/",
          "height": 35
        },
        "id": "7vVpTytCDXCJ",
        "outputId": "07756105-83d8-4986-e608-97a8319ccc04"
      },
      "execution_count": null,
      "outputs": [
        {
          "output_type": "execute_result",
          "data": {
            "text/plain": [
              "'ankle boot'"
            ],
            "application/vnd.google.colaboratory.intrinsic+json": {
              "type": "string"
            }
          },
          "metadata": {},
          "execution_count": 18
        }
      ]
    },
    {
      "cell_type": "code",
      "source": [
        "plt.imshow(X_train[0])\n",
        "plt.xlabel(y_train[0])\n",
        "plt.title(class_names[y_train[0]])\n",
        "# image shape 28x28"
      ],
      "metadata": {
        "colab": {
          "base_uri": "https://localhost:8080/",
          "height": 489
        },
        "id": "FxuK4MNln1Xb",
        "outputId": "712036dd-f479-4e1e-f0d5-a16781b345ef"
      },
      "execution_count": 21,
      "outputs": [
        {
          "output_type": "execute_result",
          "data": {
            "text/plain": [
              "Text(0.5, 1.0, 'ankle boot')"
            ]
          },
          "metadata": {},
          "execution_count": 21
        },
        {
          "output_type": "display_data",
          "data": {
            "text/plain": [
              "<Figure size 640x480 with 1 Axes>"
            ],
            "image/png": "[encoded data removed]"
          },
          "metadata": {}
        }
      ]
    },
    {
      "cell_type": "code",
      "source": [
        "plt.imshow(X_train[2])\n",
        "plt.xlabel(y_train[2])\n",
        "plt.title(class_names[y_train[2]])\n",
        "# image shape 28x28"
      ],
      "metadata": {
        "colab": {
          "base_uri": "https://localhost:8080/",
          "height": 489
        },
        "id": "nT-xVsnCDxI2",
        "outputId": "1df542cf-58fe-47d8-e88a-d9402033ad18"
      },
      "execution_count": 22,
      "outputs": [
        {
          "output_type": "execute_result",
          "data": {
            "text/plain": [
              "Text(0.5, 1.0, 'top')"
            ]
          },
          "metadata": {},
          "execution_count": 22
        },
        {
          "output_type": "display_data",
          "data": {
            "text/plain": [
              "<Figure size 640x480 with 1 Axes>"
            ],
            "image/png": "[encoded data removed]"
          },
          "metadata": {}
        }
      ]
    },
    {
      "cell_type": "code",
      "source": [
        "for i in range(0,25):\n",
        "    plt.subplot(5,5,i+1)"
      ],
      "metadata": {
        "colab": {
          "base_uri": "https://localhost:8080/",
          "height": 435
        },
        "id": "__GdHKxvEAMq",
        "outputId": "68e70f00-b730-4ccb-f7e1-c5acea7a4919"
      },
      "execution_count": 23,
      "outputs": [
        {
          "output_type": "display_data",
          "data": {
            "text/plain": [
              "<Figure size 640x480 with 25 Axes>"
            ],
            "image/png": "[encoded data removed]"
          },
          "metadata": {}
        }
      ]
    },
    {
      "cell_type": "code",
      "source": [
        "plt.figure(figsize=(10,14))\n",
        "for i in range(1,26):\n",
        "    plt.subplot(5,5,i)\n",
        "    plt.imshow(X_train[i])\n",
        "    plt.xlabel(y_train[i])\n",
        "    plt.title(class_names[y_train[i]])"
      ],
      "metadata": {
        "colab": {
          "base_uri": "https://localhost:8080/",
          "height": 1000
        },
        "id": "J0KJgW5_Oz8P",
        "outputId": "7d321aff-26e6-4ddd-de02-95cd8f3a8a31"
      },
      "execution_count": 24,
      "outputs": [
        {
          "output_type": "display_data",
          "data": {
            "text/plain": [
              "<Figure size 1000x1400 with 25 Axes>"
            ],
            "image/png": "[encoded data removed]"
          },
          "metadata": {}
        }
      ]
    },
    {
      "cell_type": "code",
      "source": [
        "plt.figure()\n",
        "plt.imshow(X_train[1])\n",
        "plt.title(class_names[y_train[1]])\n",
        "plt.colorbar()\n",
        "plt.show()\n",
        "\n",
        "# yellow =250"
      ],
      "metadata": {
        "colab": {
          "base_uri": "https://localhost:8080/",
          "height": 452
        },
        "id": "SFThejmYG9hl",
        "outputId": "830de5fc-273d-40b8-ed35-79e0be996e84"
      },
      "execution_count": 25,
      "outputs": [
        {
          "output_type": "display_data",
          "data": {
            "text/plain": [
              "<Figure size 640x480 with 2 Axes>"
            ],
            "image/png": "[encoded data removed]"
          },
          "metadata": {}
        }
      ]
    },
    {
      "cell_type": "markdown",
      "source": [
        "As you can see the image is a top and the value at index 0 of y_train also corresponds to the class name top."
      ],
      "metadata": {
        "id": "bGvOt0FKHTiz"
      }
    },
    {
      "cell_type": "code",
      "source": [
        "plt.figure(figsize=(10,10))\n",
        "for i in range(25):  # 25images\n",
        "    plt.subplot(5,5,i+1) # 25 plots  i=2   5,5,2\n",
        "    plt.xticks([])\n",
        "    plt.yticks([])\n",
        "    plt.grid(False)\n",
        "    plt.imshow(X_train[i])\n",
        "    plt.xlabel(class_names[y_train[i]])\n",
        "    #plt.xlabel(y_train[i])\n",
        "plt.show()"
      ],
      "metadata": {
        "colab": {
          "base_uri": "https://localhost:8080/",
          "height": 826
        },
        "id": "nnbrcu09DpiR",
        "outputId": "3bb9b7e1-fd3f-47c1-a8e0-c51b621ec2fa"
      },
      "execution_count": null,
      "outputs": [
        {
          "output_type": "display_data",
          "data": {
            "text/plain": [
              "<Figure size 1000x1000 with 25 Axes>"
            ],
            "image/png": "[encoded data removed]"
          },
          "metadata": {}
        }
      ]
    },
    {
      "cell_type": "markdown",
      "source": [
        "**Normalization**\n",
        "\n",
        "range between 0 to 1"
      ],
      "metadata": {
        "id": "jz2QG0-_2C6T"
      }
    },
    {
      "cell_type": "markdown",
      "source": [
        "Neural Network model doesn't take value greater than 1.\n",
        "\n",
        "So we need to bring all the values between 0 and 1.\n",
        "\n",
        "To do this we will divide all the values in the training and testing dataset by 255 as the greatest value in our dataset is 255."
      ],
      "metadata": {
        "id": "P6OuSrr6H84Y"
      }
    },
    {
      "cell_type": "code",
      "source": [
        "X_train = X_train/255.0\n",
        "X_test = X_test/255.0"
      ],
      "metadata": {
        "id": "z590xnrTHqm_"
      },
      "execution_count": 26,
      "outputs": []
    },
    {
      "cell_type": "code",
      "source": [
        "X_train[0]"
      ],
      "metadata": {
        "colab": {
          "base_uri": "https://localhost:8080/"
        },
        "id": "GjLpbTumRTzu",
        "outputId": "ac006b54-34db-4a81-d606-9285c91fa3a8"
      },
      "execution_count": 27,
      "outputs": [
        {
          "output_type": "execute_result",
          "data": {
            "text/plain": [
              "array([[0.        , 0.        , 0.        , 0.        , 0.        ,\n",
              "        0.        , 0.        , 0.        , 0.        , 0.        ,\n",
              "        0.        , 0.        , 0.        , 0.        , 0.        ,\n",
              "        0.        , 0.        , 0.        , 0.        , 0.        ,\n",
              "        0.        , 0.        , 0.        , 0.        , 0.        ,\n",
              "        0.        , 0.        , 0.        ],\n",
              "       [0.        , 0.        , 0.        , 0.        , 0.        ,\n",
              "        0.        , 0.        , 0.        , 0.        , 0.        ,\n",
              "        0.        , 0.        , 0.        , 0.        , 0.        ,\n",
              "        0.        , 0.        , 0.        , 0.        , 0.        ,\n",
              "        0.        , 0.        , 0.        , 0.        , 0.        ,\n",
              "        0.        , 0.        , 0.        ],\n",
              "       [0.        , 0.        , 0.        , 0.        , 0.        ,\n",
              "        0.        , 0.        , 0.        , 0.        , 0.        ,\n",
              "        0.        , 0.        , 0.        , 0.        , 0.        ,\n",
              "        0.        , 0.        , 0.        , 0.        , 0.        ,\n",
              "        0.        , 0.        , 0.        , 0.        , 0.        ,\n",
              "        0.        , 0.        , 0.        ],\n",
              "       [0.        , 0.        , 0.        , 0.        , 0.        ,\n",
              "        0.        , 0.        , 0.        , 0.        , 0.        ,\n",
              "        0.        , 0.        , 0.00392157, 0.        , 0.        ,\n",
              "        0.05098039, 0.28627451, 0.        , 0.        , 0.00392157,\n",
              "        0.01568627, 0.        , 0.        , 0.        , 0.        ,\n",
              "        0.00392157, 0.00392157, 0.        ],\n",
              "       [0.        , 0.        , 0.        , 0.        , 0.        ,\n",
              "        0.        , 0.        , 0.        , 0.        , 0.        ,\n",
              "        0.        , 0.        , 0.01176471, 0.        , 0.14117647,\n",
              "        0.53333333, 0.49803922, 0.24313725, 0.21176471, 0.        ,\n",
              "        0.        , 0.        , 0.00392157, 0.01176471, 0.01568627,\n",
              "        0.        , 0.        , 0.01176471],\n",
              "       [0.        , 0.        , 0.        , 0.        , 0.        ,\n",
              "        0.        , 0.        , 0.        , 0.        , 0.        ,\n",
              "        0.        , 0.        , 0.02352941, 0.        , 0.4       ,\n",
              "        0.8       , 0.69019608, 0.5254902 , 0.56470588, 0.48235294,\n",
              "        0.09019608, 0.        , 0.        , 0.        , 0.        ,\n",
              "        0.04705882, 0.03921569, 0.        ],\n",
              "       [0.        , 0.        , 0.        , 0.        , 0.        ,\n",
              "        0.        , 0.        , 0.        , 0.        , 0.        ,\n",
              "        0.        , 0.        , 0.        , 0.        , 0.60784314,\n",
              "        0.9254902 , 0.81176471, 0.69803922, 0.41960784, 0.61176471,\n",
              "        0.63137255, 0.42745098, 0.25098039, 0.09019608, 0.30196078,\n",
              "        0.50980392, 0.28235294, 0.05882353],\n",
              "       [0.        , 0.        , 0.        , 0.        , 0.        ,\n",
              "        0.        , 0.        , 0.        , 0.        , 0.        ,\n",
              "        0.        , 0.00392157, 0.        , 0.27058824, 0.81176471,\n",
              "        0.8745098 , 0.85490196, 0.84705882, 0.84705882, 0.63921569,\n",
              "        0.49803922, 0.4745098 , 0.47843137, 0.57254902, 0.55294118,\n",
              "        0.34509804, 0.6745098 , 0.25882353],\n",
              "       [0.        , 0.        , 0.        , 0.        , 0.        ,\n",
              "        0.        , 0.        , 0.        , 0.        , 0.00392157,\n",
              "        0.00392157, 0.00392157, 0.        , 0.78431373, 0.90980392,\n",
              "        0.90980392, 0.91372549, 0.89803922, 0.8745098 , 0.8745098 ,\n",
              "        0.84313725, 0.83529412, 0.64313725, 0.49803922, 0.48235294,\n",
              "        0.76862745, 0.89803922, 0.        ],\n",
              "       [0.        , 0.        , 0.        , 0.        , 0.        ,\n",
              "        0.        , 0.        , 0.        , 0.        , 0.        ,\n",
              "        0.        , 0.        , 0.        , 0.71764706, 0.88235294,\n",
              "        0.84705882, 0.8745098 , 0.89411765, 0.92156863, 0.89019608,\n",
              "        0.87843137, 0.87058824, 0.87843137, 0.86666667, 0.8745098 ,\n",
              "        0.96078431, 0.67843137, 0.        ],\n",
              "       [0.        , 0.        , 0.        , 0.        , 0.        ,\n",
              "        0.        , 0.        , 0.        , 0.        , 0.        ,\n",
              "        0.        , 0.        , 0.        , 0.75686275, 0.89411765,\n",
              "        0.85490196, 0.83529412, 0.77647059, 0.70588235, 0.83137255,\n",
              "        0.82352941, 0.82745098, 0.83529412, 0.8745098 , 0.8627451 ,\n",
              "        0.95294118, 0.79215686, 0.        ],\n",
              "       [0.        , 0.        , 0.        , 0.        , 0.        ,\n",
              "        0.        , 0.        , 0.        , 0.        , 0.00392157,\n",
              "        0.01176471, 0.        , 0.04705882, 0.85882353, 0.8627451 ,\n",
              "        0.83137255, 0.85490196, 0.75294118, 0.6627451 , 0.89019608,\n",
              "        0.81568627, 0.85490196, 0.87843137, 0.83137255, 0.88627451,\n",
              "        0.77254902, 0.81960784, 0.20392157],\n",
              "       [0.        , 0.        , 0.        , 0.        , 0.        ,\n",
              "        0.        , 0.        , 0.        , 0.        , 0.        ,\n",
              "        0.02352941, 0.        , 0.38823529, 0.95686275, 0.87058824,\n",
              "        0.8627451 , 0.85490196, 0.79607843, 0.77647059, 0.86666667,\n",
              "        0.84313725, 0.83529412, 0.87058824, 0.8627451 , 0.96078431,\n",
              "        0.46666667, 0.65490196, 0.21960784],\n",
              "       [0.        , 0.        , 0.        , 0.        , 0.        ,\n",
              "        0.        , 0.        , 0.        , 0.        , 0.01568627,\n",
              "        0.        , 0.        , 0.21568627, 0.9254902 , 0.89411765,\n",
              "        0.90196078, 0.89411765, 0.94117647, 0.90980392, 0.83529412,\n",
              "        0.85490196, 0.8745098 , 0.91764706, 0.85098039, 0.85098039,\n",
              "        0.81960784, 0.36078431, 0.        ],\n",
              "       [0.        , 0.        , 0.00392157, 0.01568627, 0.02352941,\n",
              "        0.02745098, 0.00784314, 0.        , 0.        , 0.        ,\n",
              "        0.        , 0.        , 0.92941176, 0.88627451, 0.85098039,\n",
              "        0.8745098 , 0.87058824, 0.85882353, 0.87058824, 0.86666667,\n",
              "        0.84705882, 0.8745098 , 0.89803922, 0.84313725, 0.85490196,\n",
              "        1.        , 0.30196078, 0.        ],\n",
              "       [0.        , 0.01176471, 0.        , 0.        , 0.        ,\n",
              "        0.        , 0.        , 0.        , 0.        , 0.24313725,\n",
              "        0.56862745, 0.8       , 0.89411765, 0.81176471, 0.83529412,\n",
              "        0.86666667, 0.85490196, 0.81568627, 0.82745098, 0.85490196,\n",
              "        0.87843137, 0.8745098 , 0.85882353, 0.84313725, 0.87843137,\n",
              "        0.95686275, 0.62352941, 0.        ],\n",
              "       [0.        , 0.        , 0.        , 0.        , 0.07058824,\n",
              "        0.17254902, 0.32156863, 0.41960784, 0.74117647, 0.89411765,\n",
              "        0.8627451 , 0.87058824, 0.85098039, 0.88627451, 0.78431373,\n",
              "        0.80392157, 0.82745098, 0.90196078, 0.87843137, 0.91764706,\n",
              "        0.69019608, 0.7372549 , 0.98039216, 0.97254902, 0.91372549,\n",
              "        0.93333333, 0.84313725, 0.        ],\n",
              "       [0.        , 0.22352941, 0.73333333, 0.81568627, 0.87843137,\n",
              "        0.86666667, 0.87843137, 0.81568627, 0.8       , 0.83921569,\n",
              "        0.81568627, 0.81960784, 0.78431373, 0.62352941, 0.96078431,\n",
              "        0.75686275, 0.80784314, 0.8745098 , 1.        , 1.        ,\n",
              "        0.86666667, 0.91764706, 0.86666667, 0.82745098, 0.8627451 ,\n",
              "        0.90980392, 0.96470588, 0.        ],\n",
              "       [0.01176471, 0.79215686, 0.89411765, 0.87843137, 0.86666667,\n",
              "        0.82745098, 0.82745098, 0.83921569, 0.80392157, 0.80392157,\n",
              "        0.80392157, 0.8627451 , 0.94117647, 0.31372549, 0.58823529,\n",
              "        1.        , 0.89803922, 0.86666667, 0.7372549 , 0.60392157,\n",
              "        0.74901961, 0.82352941, 0.8       , 0.81960784, 0.87058824,\n",
              "        0.89411765, 0.88235294, 0.        ],\n",
              "       [0.38431373, 0.91372549, 0.77647059, 0.82352941, 0.87058824,\n",
              "        0.89803922, 0.89803922, 0.91764706, 0.97647059, 0.8627451 ,\n",
              "        0.76078431, 0.84313725, 0.85098039, 0.94509804, 0.25490196,\n",
              "        0.28627451, 0.41568627, 0.45882353, 0.65882353, 0.85882353,\n",
              "        0.86666667, 0.84313725, 0.85098039, 0.8745098 , 0.8745098 ,\n",
              "        0.87843137, 0.89803922, 0.11372549],\n",
              "       [0.29411765, 0.8       , 0.83137255, 0.8       , 0.75686275,\n",
              "        0.80392157, 0.82745098, 0.88235294, 0.84705882, 0.7254902 ,\n",
              "        0.77254902, 0.80784314, 0.77647059, 0.83529412, 0.94117647,\n",
              "        0.76470588, 0.89019608, 0.96078431, 0.9372549 , 0.8745098 ,\n",
              "        0.85490196, 0.83137255, 0.81960784, 0.87058824, 0.8627451 ,\n",
              "        0.86666667, 0.90196078, 0.2627451 ],\n",
              "       [0.18823529, 0.79607843, 0.71764706, 0.76078431, 0.83529412,\n",
              "        0.77254902, 0.7254902 , 0.74509804, 0.76078431, 0.75294118,\n",
              "        0.79215686, 0.83921569, 0.85882353, 0.86666667, 0.8627451 ,\n",
              "        0.9254902 , 0.88235294, 0.84705882, 0.78039216, 0.80784314,\n",
              "        0.72941176, 0.70980392, 0.69411765, 0.6745098 , 0.70980392,\n",
              "        0.80392157, 0.80784314, 0.45098039],\n",
              "       [0.        , 0.47843137, 0.85882353, 0.75686275, 0.70196078,\n",
              "        0.67058824, 0.71764706, 0.76862745, 0.8       , 0.82352941,\n",
              "        0.83529412, 0.81176471, 0.82745098, 0.82352941, 0.78431373,\n",
              "        0.76862745, 0.76078431, 0.74901961, 0.76470588, 0.74901961,\n",
              "        0.77647059, 0.75294118, 0.69019608, 0.61176471, 0.65490196,\n",
              "        0.69411765, 0.82352941, 0.36078431],\n",
              "       [0.        , 0.        , 0.29019608, 0.74117647, 0.83137255,\n",
              "        0.74901961, 0.68627451, 0.6745098 , 0.68627451, 0.70980392,\n",
              "        0.7254902 , 0.7372549 , 0.74117647, 0.7372549 , 0.75686275,\n",
              "        0.77647059, 0.8       , 0.81960784, 0.82352941, 0.82352941,\n",
              "        0.82745098, 0.7372549 , 0.7372549 , 0.76078431, 0.75294118,\n",
              "        0.84705882, 0.66666667, 0.        ],\n",
              "       [0.00784314, 0.        , 0.        , 0.        , 0.25882353,\n",
              "        0.78431373, 0.87058824, 0.92941176, 0.9372549 , 0.94901961,\n",
              "        0.96470588, 0.95294118, 0.95686275, 0.86666667, 0.8627451 ,\n",
              "        0.75686275, 0.74901961, 0.70196078, 0.71372549, 0.71372549,\n",
              "        0.70980392, 0.69019608, 0.65098039, 0.65882353, 0.38823529,\n",
              "        0.22745098, 0.        , 0.        ],\n",
              "       [0.        , 0.        , 0.        , 0.        , 0.        ,\n",
              "        0.        , 0.        , 0.15686275, 0.23921569, 0.17254902,\n",
              "        0.28235294, 0.16078431, 0.1372549 , 0.        , 0.        ,\n",
              "        0.        , 0.        , 0.        , 0.        , 0.        ,\n",
              "        0.        , 0.        , 0.        , 0.        , 0.        ,\n",
              "        0.        , 0.        , 0.        ],\n",
              "       [0.        , 0.        , 0.        , 0.        , 0.        ,\n",
              "        0.        , 0.        , 0.        , 0.        , 0.        ,\n",
              "        0.        , 0.        , 0.        , 0.        , 0.        ,\n",
              "        0.        , 0.        , 0.        , 0.        , 0.        ,\n",
              "        0.        , 0.        , 0.        , 0.        , 0.        ,\n",
              "        0.        , 0.        , 0.        ],\n",
              "       [0.        , 0.        , 0.        , 0.        , 0.        ,\n",
              "        0.        , 0.        , 0.        , 0.        , 0.        ,\n",
              "        0.        , 0.        , 0.        , 0.        , 0.        ,\n",
              "        0.        , 0.        , 0.        , 0.        , 0.        ,\n",
              "        0.        , 0.        , 0.        , 0.        , 0.        ,\n",
              "        0.        , 0.        , 0.        ]])"
            ]
          },
          "metadata": {},
          "execution_count": 27
        }
      ]
    },
    {
      "cell_type": "code",
      "source": [
        "plt.imshow(X_train[0])"
      ],
      "metadata": {
        "colab": {
          "base_uri": "https://localhost:8080/",
          "height": 447
        },
        "id": "qqENbtDDrf-3",
        "outputId": "edddb7e4-d3f3-4281-ba99-b1f2cf906bca"
      },
      "execution_count": 28,
      "outputs": [
        {
          "output_type": "execute_result",
          "data": {
            "text/plain": [
              "<matplotlib.image.AxesImage at 0x799df32dda80>"
            ]
          },
          "metadata": {},
          "execution_count": 28
        },
        {
          "output_type": "display_data",
          "data": {
            "text/plain": [
              "<Figure size 640x480 with 1 Axes>"
            ],
            "image/png": "[encoded data removed]"
          },
          "metadata": {}
        }
      ]
    },
    {
      "cell_type": "markdown",
      "source": [
        "Now we can see that all the values are between 0 and 1."
      ],
      "metadata": {
        "id": "06i0ugNgIKdf"
      }
    },
    {
      "cell_type": "code",
      "source": [
        "plt.figure()\n",
        "plt.imshow(X_train[1])\n",
        "plt.colorbar()  # scale of the values\n",
        "plt.show()"
      ],
      "metadata": {
        "colab": {
          "base_uri": "https://localhost:8080/",
          "height": 435
        },
        "id": "_8tUGtvSHvWP",
        "outputId": "7762a770-a15b-4159-9836-051e6d58914f"
      },
      "execution_count": 29,
      "outputs": [
        {
          "output_type": "display_data",
          "data": {
            "text/plain": [
              "<Figure size 640x480 with 2 Axes>"
            ],
            "image/png": "[encoded data removed]"
          },
          "metadata": {}
        }
      ]
    },
    {
      "cell_type": "markdown",
      "source": [
        "- We read the data\n",
        "\n",
        "- we understand the values\n",
        "\n",
        "- we understand the shape of the data\n",
        "\n",
        "- we plot the data\n",
        "\n",
        "- we understand the lables of the data\n",
        "\n",
        "- we normlaize the data\n",
        "\n",
        "- here train and test data both are available\n",
        "\n",
        "- here X(input data)  , y (target data) already provided"
      ],
      "metadata": {
        "id": "M7ZonSxE2xBR"
      }
    },
    {
      "cell_type": "markdown",
      "source": [
        "**Build the model with TF 2.0**"
      ],
      "metadata": {
        "id": "AprtZf-IIVI5"
      }
    },
    {
      "cell_type": "markdown",
      "source": [
        "We will import the necessary layers to build the model. The Neural Network is constructed from 3 type of layers:\n",
        "\n",
        "**Input layer** — initial data for the neural network.\n",
        "\n",
        "**Hidden layers** — intermediate layer between input and output layer and place\n",
        "where all the computation is done.\n",
        "\n",
        "**Output layer** — produce the result for given inputs"
      ],
      "metadata": {
        "id": "hAcmnJ6WIdii"
      }
    },
    {
      "cell_type": "code",
      "source": [
        "from tensorflow.keras import Sequential\n",
        "from tensorflow.keras.layers import Flatten, Dense"
      ],
      "metadata": {
        "id": "VBbb2oh6IIoL"
      },
      "execution_count": 30,
      "outputs": []
    },
    {
      "cell_type": "markdown",
      "source": [
        "**Flatten()**\n",
        "\n",
        "- is used as the input layer to convert the data into a 1-dimensional array for input it to the next layer.\n",
        "\n",
        "\n",
        "- Our image 2D image will be converted to a single 1D column.\n",
        "input_shape = (28,28) because the size of our input image is 28x28.\n",
        "\n",
        "**Dense()**\n",
        "\n",
        "    - layer is the regular deeply connected neural network layer.\n",
        "\n",
        "    - It is most common and frequently used layer.\n",
        "    \n",
        "    - We have a dense layer with 128 neurons with activation function relu.\n",
        "    \n",
        "    - The rectified linear activation function or ReLU for short is a piecewise linear function that will output the input directly if it is positive, otherwise, it will output zero."
      ],
      "metadata": {
        "id": "qSuvqv5NI5gN"
      }
    },
    {
      "cell_type": "markdown",
      "source": [
        "<img decoding=\"async\" loading=\"lazy\" width=\"357\" height=\"278\" src=\"https://kgptalkie.com/wp-content/uploads/2020/08/relu.png\" alt=\"\" class=\"wp-image-3518\" srcset=\"https://kgptalkie.com/wp-content/uploads/2020/08/relu.png 357w, https://kgptalkie.com/wp-content/uploads/2020/08/relu-300x234.png 300w\" sizes=\"(max-width: 357px) 100vw, 357px\">"
      ],
      "metadata": {
        "id": "cMCHsXTSJOGu"
      }
    },
    {
      "cell_type": "markdown",
      "source": [
        "- The **output layer** is a dense layer with 10 neurons because we have 10 classes.\n",
        "\n",
        "- The activation function used is **softmax**.\n",
        "\n",
        "- Softmax converts a real vector to a vector of categorical probabilities.\n",
        "\n",
        "- The elements of the output vector are in range (0, 1) and sum to 1.\n",
        "\n",
        "- Softmax is often used as the activation for the last layer of a classification network because the result could be interpreted as a probability distribution."
      ],
      "metadata": {
        "id": "Rop3Sw5BJS-V"
      }
    },
    {
      "cell_type": "code",
      "source": [
        "X_train.shape[1:]"
      ],
      "metadata": {
        "colab": {
          "base_uri": "https://localhost:8080/"
        },
        "id": "75mVZhKpSKky",
        "outputId": "533e9d54-7741-49da-e4d0-10b19a55d0ce"
      },
      "execution_count": 31,
      "outputs": [
        {
          "output_type": "execute_result",
          "data": {
            "text/plain": [
              "(28, 28)"
            ]
          },
          "metadata": {},
          "execution_count": 31
        }
      ]
    },
    {
      "cell_type": "markdown",
      "source": [
        "## Model Development"
      ],
      "metadata": {
        "id": "9z8gJl461F1-"
      }
    },
    {
      "cell_type": "markdown",
      "source": [
        "<img id=\"dimg_301\" src=\"data:image/png;base64,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\" class=\"YQ4gaf\" height=\"246\" style=\"object-position:16% 36%\" width=\"205\" alt=\"Neural network (machine learning ...\" data-csiid=\"7\" data-atf=\"1\">"
      ],
      "metadata": {
        "id": "jfZR7F131PC0"
      }
    },
    {
      "cell_type": "code",
      "source": [
        "model = Sequential()\n",
        "# input layer   starts flatten 28x28 === 1-D\n",
        "model.add(Flatten(input_shape = (28, 28)))   # 28x28=784 input\n",
        "# one Hidden layer\n",
        "# how many neurons wants to use : 128\n",
        "# which activation function wants to use : 'relu'\n",
        "# bcz it avoids vanish gradients problem\n",
        "model.add(Dense(128, activation = 'relu'))  # 128   :  784x128+ 128*(1bias)\n",
        "# Output layer\n",
        "# how many classes are there =10\n",
        "# how many neuorns : 10\n",
        "# activation: softmax\n",
        "model.add(Dense(10, activation = 'softmax'))  # 128 is attached with 10 neurons= 128x10=1280 +10*(1bias)\n"
      ],
      "metadata": {
        "id": "pmB6sAvSIvo5",
        "colab": {
          "base_uri": "https://localhost:8080/"
        },
        "outputId": "6e28b41a-ad7a-4230-c939-dbbb143a52d7"
      },
      "execution_count": 32,
      "outputs": [
        {
          "output_type": "stream",
          "name": "stderr",
          "text": [
            "/usr/local/lib/python3.10/dist-packages/keras/src/layers/reshaping/flatten.py:37: UserWarning: Do not pass an `input_shape`/`input_dim` argument to a layer. When using Sequential models, prefer using an `Input(shape)` object as the first layer in the model instead.\n",
            "  super().__init__(**kwargs)\n"
          ]
        }
      ]
    },
    {
      "cell_type": "markdown",
      "source": [
        "## Model summary"
      ],
      "metadata": {
        "id": "K7V-lSGz1a9W"
      }
    },
    {
      "cell_type": "code",
      "source": [
        "model.summary()\n",
        "# how many weights for input layer = 28x28 ==== > 784 ==== > weights\n",
        "# hidden layer weights= 128\n",
        "\n",
        "# total weights till inputlayer + hidden layer= 784*128=100352+ 128= 100480\n",
        "# hidden layer + outpulayer= 128*10=1280+10 bais= 1290\n",
        "\n",
        "# Total weights= 100480+1290\n",
        "\n",
        "# servers drinks so much water"
      ],
      "metadata": {
        "colab": {
          "base_uri": "https://localhost:8080/",
          "height": 234
        },
        "id": "Cs0dR2XRJpPr",
        "outputId": "d38e7340-1867-44c9-e150-f55e4d6da243"
      },
      "execution_count": 33,
      "outputs": [
        {
          "output_type": "display_data",
          "data": {
            "text/plain": [
              "\u001b[1mModel: \"sequential\"\u001b[0m\n"
            ],
            "text/html": [
              "<pre style=\"white-space:pre;overflow-x:auto;line-height:normal;font-family:Menlo,'DejaVu Sans Mono',consolas,'Courier New',monospace\"><span style=\"font-weight: bold\">Model: \"sequential\"</span>\n",
              "</pre>\n"
            ]
          },
          "metadata": {}
        },
        {
          "output_type": "display_data",
          "data": {
            "text/plain": [
              "┏━━━━━━━━━━━━━━━━━━━━━━━━━━━━━━━━━━━━━━┳━━━━━━━━━━━━━━━━━━━━━━━━━━━━━┳━━━━━━━━━━━━━━━━━┓\n",
              "┃\u001b[1m \u001b[0m\u001b[1mLayer (type)                        \u001b[0m\u001b[1m \u001b[0m┃\u001b[1m \u001b[0m\u001b[1mOutput Shape               \u001b[0m\u001b[1m \u001b[0m┃\u001b[1m \u001b[0m\u001b[1m        Param #\u001b[0m\u001b[1m \u001b[0m┃\n",
              "┡━━━━━━━━━━━━━━━━━━━━━━━━━━━━━━━━━━━━━━╇━━━━━━━━━━━━━━━━━━━━━━━━━━━━━╇━━━━━━━━━━━━━━━━━┩\n",
              "│ flatten (\u001b[38;5;33mFlatten\u001b[0m)                    │ (\u001b[38;5;45mNone\u001b[0m, \u001b[38;5;34m784\u001b[0m)                 │               \u001b[38;5;34m0\u001b[0m │\n",
              "├──────────────────────────────────────┼─────────────────────────────┼─────────────────┤\n",
              "│ dense (\u001b[38;5;33mDense\u001b[0m)                        │ (\u001b[38;5;45mNone\u001b[0m, \u001b[38;5;34m128\u001b[0m)                 │         \u001b[38;5;34m100,480\u001b[0m │\n",
              "├──────────────────────────────────────┼─────────────────────────────┼─────────────────┤\n",
              "│ dense_1 (\u001b[38;5;33mDense\u001b[0m)                      │ (\u001b[38;5;45mNone\u001b[0m, \u001b[38;5;34m10\u001b[0m)                  │           \u001b[38;5;34m1,290\u001b[0m │\n",
              "└──────────────────────────────────────┴─────────────────────────────┴─────────────────┘\n"
            ],
            "text/html": [
              "<pre style=\"white-space:pre;overflow-x:auto;line-height:normal;font-family:Menlo,'DejaVu Sans Mono',consolas,'Courier New',monospace\">┏━━━━━━━━━━━━━━━━━━━━━━━━━━━━━━━━━━━━━━┳━━━━━━━━━━━━━━━━━━━━━━━━━━━━━┳━━━━━━━━━━━━━━━━━┓\n",
              "┃<span style=\"font-weight: bold\"> Layer (type)                         </span>┃<span style=\"font-weight: bold\"> Output Shape                </span>┃<span style=\"font-weight: bold\">         Param # </span>┃\n",
              "┡━━━━━━━━━━━━━━━━━━━━━━━━━━━━━━━━━━━━━━╇━━━━━━━━━━━━━━━━━━━━━━━━━━━━━╇━━━━━━━━━━━━━━━━━┩\n",
              "│ flatten (<span style=\"color: #0087ff; text-decoration-color: #0087ff\">Flatten</span>)                    │ (<span style=\"color: #00d7ff; text-decoration-color: #00d7ff\">None</span>, <span style=\"color: #00af00; text-decoration-color: #00af00\">784</span>)                 │               <span style=\"color: #00af00; text-decoration-color: #00af00\">0</span> │\n",
              "├──────────────────────────────────────┼─────────────────────────────┼─────────────────┤\n",
              "│ dense (<span style=\"color: #0087ff; text-decoration-color: #0087ff\">Dense</span>)                        │ (<span style=\"color: #00d7ff; text-decoration-color: #00d7ff\">None</span>, <span style=\"color: #00af00; text-decoration-color: #00af00\">128</span>)                 │         <span style=\"color: #00af00; text-decoration-color: #00af00\">100,480</span> │\n",
              "├──────────────────────────────────────┼─────────────────────────────┼─────────────────┤\n",
              "│ dense_1 (<span style=\"color: #0087ff; text-decoration-color: #0087ff\">Dense</span>)                      │ (<span style=\"color: #00d7ff; text-decoration-color: #00d7ff\">None</span>, <span style=\"color: #00af00; text-decoration-color: #00af00\">10</span>)                  │           <span style=\"color: #00af00; text-decoration-color: #00af00\">1,290</span> │\n",
              "└──────────────────────────────────────┴─────────────────────────────┴─────────────────┘\n",
              "</pre>\n"
            ]
          },
          "metadata": {}
        },
        {
          "output_type": "display_data",
          "data": {
            "text/plain": [
              "\u001b[1m Total params: \u001b[0m\u001b[38;5;34m101,770\u001b[0m (397.54 KB)\n"
            ],
            "text/html": [
              "<pre style=\"white-space:pre;overflow-x:auto;line-height:normal;font-family:Menlo,'DejaVu Sans Mono',consolas,'Courier New',monospace\"><span style=\"font-weight: bold\"> Total params: </span><span style=\"color: #00af00; text-decoration-color: #00af00\">101,770</span> (397.54 KB)\n",
              "</pre>\n"
            ]
          },
          "metadata": {}
        },
        {
          "output_type": "display_data",
          "data": {
            "text/plain": [
              "\u001b[1m Trainable params: \u001b[0m\u001b[38;5;34m101,770\u001b[0m (397.54 KB)\n"
            ],
            "text/html": [
              "<pre style=\"white-space:pre;overflow-x:auto;line-height:normal;font-family:Menlo,'DejaVu Sans Mono',consolas,'Courier New',monospace\"><span style=\"font-weight: bold\"> Trainable params: </span><span style=\"color: #00af00; text-decoration-color: #00af00\">101,770</span> (397.54 KB)\n",
              "</pre>\n"
            ]
          },
          "metadata": {}
        },
        {
          "output_type": "display_data",
          "data": {
            "text/plain": [
              "\u001b[1m Non-trainable params: \u001b[0m\u001b[38;5;34m0\u001b[0m (0.00 B)\n"
            ],
            "text/html": [
              "<pre style=\"white-space:pre;overflow-x:auto;line-height:normal;font-family:Menlo,'DejaVu Sans Mono',consolas,'Courier New',monospace\"><span style=\"font-weight: bold\"> Non-trainable params: </span><span style=\"color: #00af00; text-decoration-color: #00af00\">0</span> (0.00 B)\n",
              "</pre>\n"
            ]
          },
          "metadata": {}
        }
      ]
    },
    {
      "cell_type": "code",
      "source": [
        "# model = Sequential()\n",
        "# model.add(Flatten(input_shape = (28, 28)))   # I1\n",
        "# model.add(Dense(128, activation = 'relu'))   # h1\n",
        "# model.add(Dense(128, activation = 'relu'))   # h2\n",
        "# model.add(Dense(128, activation = 'relu'))   # h3\n",
        "# model.add(Dense(128, activation = 'relu'))   # h4\n",
        "# model.add(Dense(10, activation = 'softmax')) #o\n"
      ],
      "metadata": {
        "id": "FMeKvivJMsiG"
      },
      "execution_count": null,
      "outputs": []
    },
    {
      "cell_type": "markdown",
      "source": [
        "## Mode Compile"
      ],
      "metadata": {
        "id": "A7TqGqZh0awL"
      }
    },
    {
      "cell_type": "markdown",
      "source": [
        "**Model compilation**"
      ],
      "metadata": {
        "id": "6TqZ55IXJzoj"
      }
    },
    {
      "cell_type": "markdown",
      "source": [
        "**Loss Function:** A loss function is used to optimize the parameter values in a neural network model. Loss functions map a set of parameter values for the network onto a scalar value that indicates how well those parameter accomplish the task the network is intended to do.\n",
        "\n",
        "**Optimizer:** Optimizers are algorithms or methods used to change the attributes of your neural network such as weights and learning rate in order to reduce the losses.\n",
        "\n",
        "**Metrics:** A metric is a function that is used to judge the performance of your model. Metric functions are similar to loss functions, except that the results from evaluating a metric are not used when training the model."
      ],
      "metadata": {
        "id": "m_ZrZft4J4PS"
      }
    },
    {
      "cell_type": "markdown",
      "source": [
        "Here we are compiling the model and fitting it to the training data. We will use 10 epochs to train the model. An epoch is an iteration over the entire data provided."
      ],
      "metadata": {
        "id": "Lf3scsD5KIkA"
      }
    },
    {
      "cell_type": "markdown",
      "source": [
        "**Log Loss (Binary Cross-Entropy Loss):** A loss function that represents how much the predicted probabilities deviate from the true ones.\n",
        "\n",
        "It is used in binary cases.\n",
        "\n",
        "**Cross-Entropy Loss:** A generalized form of the log loss, which is used for multi-class classification problems."
      ],
      "metadata": {
        "id": "kyxPW1l17DDu"
      }
    },
    {
      "cell_type": "markdown",
      "source": [
        "<img id=\"dimg_405\" src=\"https://encrypted-tbn0.gstatic.com/images?q=tbn:ANd9GcT4ftm3TWhDf8CX99Liu-i1qHPO-S0OBwPByw&amp;s\" class=\"YQ4gaf\" height=\"172\" style=\"object-position:center\" width=\"293\" alt=\"haltakov.eth 🧱🔨 on X: &quot;Machine Learning ...\" data-csiid=\"59\" data-atf=\"4\" data-ilt=\"1708622077104\" data-deferred=\"3\">"
      ],
      "metadata": {
        "id": "0FYwcTi40Xh4"
      }
    },
    {
      "cell_type": "code",
      "source": [
        "help(model.compile)"
      ],
      "metadata": {
        "id": "Zlfi_sgCCh4w",
        "colab": {
          "base_uri": "https://localhost:8080/"
        },
        "outputId": "a50a3752-c7e9-405f-d43d-25bb3d788a5b"
      },
      "execution_count": 34,
      "outputs": [
        {
          "output_type": "stream",
          "name": "stdout",
          "text": [
            "Help on method compile in module keras.src.trainers.trainer:\n",
            "\n",
            "compile(optimizer='rmsprop', loss=None, loss_weights=None, metrics=None, weighted_metrics=None, run_eagerly=False, steps_per_execution=1, jit_compile='auto', auto_scale_loss=True) method of keras.src.models.sequential.Sequential instance\n",
            "    Configures the model for training.\n",
            "    \n",
            "    Example:\n",
            "    \n",
            "    ```python\n",
            "    model.compile(\n",
            "        optimizer=keras.optimizers.Adam(learning_rate=1e-3),\n",
            "        loss=keras.losses.BinaryCrossentropy(),\n",
            "        metrics=[\n",
            "            keras.metrics.BinaryAccuracy(),\n",
            "            keras.metrics.FalseNegatives(),\n",
            "        ],\n",
            "    )\n",
            "    ```\n",
            "    \n",
            "    Args:\n",
            "        optimizer: String (name of optimizer) or optimizer instance. See\n",
            "            `keras.optimizers`.\n",
            "        loss: Loss function. May be a string (name of loss function), or\n",
            "            a `keras.losses.Loss` instance. See `keras.losses`. A\n",
            "            loss function is any callable with the signature\n",
            "            `loss = fn(y_true, y_pred)`, where `y_true` are the ground truth\n",
            "            values, and `y_pred` are the model's predictions.\n",
            "            `y_true` should have shape `(batch_size, d0, .. dN)`\n",
            "            (except in the case of sparse loss functions such as\n",
            "            sparse categorical crossentropy which expects integer arrays of\n",
            "            shape `(batch_size, d0, .. dN-1)`).\n",
            "            `y_pred` should have shape `(batch_size, d0, .. dN)`.\n",
            "            The loss function should return a float tensor.\n",
            "        loss_weights: Optional list or dictionary specifying scalar\n",
            "            coefficients (Python floats) to weight the loss contributions of\n",
            "            different model outputs. The loss value that will be minimized\n",
            "            by the model will then be the *weighted sum* of all individual\n",
            "            losses, weighted by the `loss_weights` coefficients.  If a list,\n",
            "            it is expected to have a 1:1 mapping to the model's outputs. If\n",
            "            a dict, it is expected to map output names (strings) to scalar\n",
            "            coefficients.\n",
            "        metrics: List of metrics to be evaluated by the model during\n",
            "            training and testing. Each of this can be a string (name of a\n",
            "            built-in function), function or a `keras.metrics.Metric`\n",
            "            instance. See `keras.metrics`. Typically you will use\n",
            "            `metrics=['accuracy']`. A function is any callable with the\n",
            "            signature `result = fn(y_true, _pred)`. To specify different\n",
            "            metrics for different outputs of a multi-output model, you could\n",
            "            also pass a dictionary, such as\n",
            "            `metrics={'a':'accuracy', 'b':['accuracy', 'mse']}`.\n",
            "            You can also pass a list to specify a metric or a list of\n",
            "            metrics for each output, such as\n",
            "            `metrics=[['accuracy'], ['accuracy', 'mse']]`\n",
            "            or `metrics=['accuracy', ['accuracy', 'mse']]`. When you pass\n",
            "            the strings 'accuracy' or 'acc', we convert this to one of\n",
            "            `keras.metrics.BinaryAccuracy`,\n",
            "            `keras.metrics.CategoricalAccuracy`,\n",
            "            `keras.metrics.SparseCategoricalAccuracy` based on the\n",
            "            shapes of the targets and of the model output. A similar\n",
            "            conversion is done for the strings `\"crossentropy\"`\n",
            "            and `\"ce\"` as well.\n",
            "            The metrics passed here are evaluated without sample weighting;\n",
            "            if you would like sample weighting to apply, you can specify\n",
            "            your metrics via the `weighted_metrics` argument instead.\n",
            "        weighted_metrics: List of metrics to be evaluated and weighted by\n",
            "            `sample_weight` or `class_weight` during training and testing.\n",
            "        run_eagerly: Bool. If `True`, this model's forward pass\n",
            "             will never be compiled. It is recommended to leave this\n",
            "             as `False` when training (for best performance),\n",
            "             and to set it to `True` when debugging.\n",
            "        steps_per_execution: Int. The number of batches to run\n",
            "            during each a single compiled function call. Running multiple\n",
            "            batches inside a single compiled function call can\n",
            "            greatly improve performance on TPUs or small models with a large\n",
            "            Python overhead. At most, one full epoch will be run each\n",
            "            execution. If a number larger than the size of the epoch is\n",
            "            passed, the execution will be truncated to the size of the\n",
            "            epoch. Note that if `steps_per_execution` is set to `N`,\n",
            "            `Callback.on_batch_begin` and `Callback.on_batch_end` methods\n",
            "            will only be called every `N` batches (i.e. before/after\n",
            "            each compiled function execution).\n",
            "            Not supported with the PyTorch backend.\n",
            "        jit_compile: Bool or `\"auto\"`. Whether to use XLA compilation when\n",
            "            compiling a model. For `jax` and `tensorflow` backends,\n",
            "            `jit_compile=\"auto\"` enables XLA compilation if the model\n",
            "            supports it, and disabled otherwise.\n",
            "            For `torch` backend, `\"auto\"` will default to eager\n",
            "            execution and `jit_compile=True` will run with `torch.compile`\n",
            "            with the `\"inductor\"` backend.\n",
            "        auto_scale_loss: Bool. If `True` and the model dtype policy is\n",
            "            `\"mixed_float16\"`, the passed optimizer will be automatically\n",
            "            wrapped in a `LossScaleOptimizer`, which will dynamically\n",
            "            scale the loss to prevent underflow.\n",
            "\n"
          ]
        }
      ]
    },
    {
      "cell_type": "code",
      "source": [
        "from re import VERBOSE\n",
        "# Now we know how many weights need to update\n",
        "# to find the weights we have optimzers\n",
        "model.compile(optimizer='adam',\n",
        "              loss = 'sparse_categorical_crossentropy',\n",
        "              metrics = ['accuracy'])"
      ],
      "metadata": {
        "id": "-70CkL5BJr3D"
      },
      "execution_count": 35,
      "outputs": []
    },
    {
      "cell_type": "code",
      "source": [
        "#32 images you want to pass how many = 1875\n",
        "#64 image                            = 937.5==> 938 batches"
      ],
      "metadata": {
        "id": "VGhu7gRmwP_S"
      },
      "execution_count": null,
      "outputs": []
    },
    {
      "cell_type": "markdown",
      "source": [
        "## Mode fit"
      ],
      "metadata": {
        "id": "FuBV2YsC0kBK"
      }
    },
    {
      "cell_type": "code",
      "source": [
        "# Input data : 60k\n",
        "# Batch size=64\n",
        "# 938\n",
        "# Input shape = 28x28"
      ],
      "metadata": {
        "id": "-dN5BrngU4Rn"
      },
      "execution_count": null,
      "outputs": []
    },
    {
      "cell_type": "code",
      "source": [
        "model.fit(X_train,\n",
        "          y_train,\n",
        "          epochs = 10,\n",
        "          batch_size=64,\n",
        "          verbose=True)\n",
        "\n",
        "## By default verbose =True ============ > It will display the information\n",
        "##            verbose=False ============ > It will not display the information\n",
        "# epoch = Forward pass + Backward pass\n",
        "# Forward pass assign weights randomly at intial state\n",
        "# Backward pass update the weight by ADAM\n",
        "# Back prpogation\n",
        "\n",
        "\n",
        "# loss is not reducing\n",
        "# weights are same ====== vansihing gradients problem\n",
        "\n",
        "# loss is reducing\n",
        "# weights are same ==== we are good\n",
        "\n",
        "# here we are passing batch size=64\n",
        "# 60000/64= 938 btaches\n",
        "\n",
        "\n",
        "\n",
        "# 60000k samples are divided into batches\n",
        "# default batch size=32\n",
        "# 60000/32=1875 batches   each batch has 32 samples\n"
      ],
      "metadata": {
        "colab": {
          "base_uri": "https://localhost:8080/"
        },
        "id": "Y0PJ_Pd00mN1",
        "outputId": "d6a30d17-f3c3-4fe1-c452-9a0e68f81ebd"
      },
      "execution_count": 36,
      "outputs": [
        {
          "output_type": "stream",
          "name": "stdout",
          "text": [
            "Epoch 1/10\n",
            "\u001b[1m938/938\u001b[0m \u001b[32m━━━━━━━━━━━━━━━━━━━━\u001b[0m\u001b[37m\u001b[0m \u001b[1m4s\u001b[0m 4ms/step - accuracy: 0.7616 - loss: 0.6928\n",
            "Epoch 2/10\n",
            "\u001b[1m938/938\u001b[0m \u001b[32m━━━━━━━━━━━━━━━━━━━━\u001b[0m\u001b[37m\u001b[0m \u001b[1m4s\u001b[0m 4ms/step - accuracy: 0.8590 - loss: 0.3969\n",
            "Epoch 3/10\n",
            "\u001b[1m938/938\u001b[0m \u001b[32m━━━━━━━━━━━━━━━━━━━━\u001b[0m\u001b[37m\u001b[0m \u001b[1m3s\u001b[0m 3ms/step - accuracy: 0.8738 - loss: 0.3519\n",
            "Epoch 4/10\n",
            "\u001b[1m938/938\u001b[0m \u001b[32m━━━━━━━━━━━━━━━━━━━━\u001b[0m\u001b[37m\u001b[0m \u001b[1m5s\u001b[0m 3ms/step - accuracy: 0.8825 - loss: 0.3225\n",
            "Epoch 5/10\n",
            "\u001b[1m938/938\u001b[0m \u001b[32m━━━━━━━━━━━━━━━━━━━━\u001b[0m\u001b[37m\u001b[0m \u001b[1m4s\u001b[0m 5ms/step - accuracy: 0.8894 - loss: 0.3034\n",
            "Epoch 6/10\n",
            "\u001b[1m938/938\u001b[0m \u001b[32m━━━━━━━━━━━━━━━━━━━━\u001b[0m\u001b[37m\u001b[0m \u001b[1m3s\u001b[0m 3ms/step - accuracy: 0.8935 - loss: 0.2855\n",
            "Epoch 7/10\n",
            "\u001b[1m938/938\u001b[0m \u001b[32m━━━━━━━━━━━━━━━━━━━━\u001b[0m\u001b[37m\u001b[0m \u001b[1m5s\u001b[0m 3ms/step - accuracy: 0.9008 - loss: 0.2726\n",
            "Epoch 8/10\n",
            "\u001b[1m938/938\u001b[0m \u001b[32m━━━━━━━━━━━━━━━━━━━━\u001b[0m\u001b[37m\u001b[0m \u001b[1m6s\u001b[0m 4ms/step - accuracy: 0.9029 - loss: 0.2623\n",
            "Epoch 9/10\n",
            "\u001b[1m938/938\u001b[0m \u001b[32m━━━━━━━━━━━━━━━━━━━━\u001b[0m\u001b[37m\u001b[0m \u001b[1m3s\u001b[0m 3ms/step - accuracy: 0.9066 - loss: 0.2503\n",
            "Epoch 10/10\n",
            "\u001b[1m938/938\u001b[0m \u001b[32m━━━━━━━━━━━━━━━━━━━━\u001b[0m\u001b[37m\u001b[0m \u001b[1m5s\u001b[0m 3ms/step - accuracy: 0.9116 - loss: 0.2396\n"
          ]
        },
        {
          "output_type": "execute_result",
          "data": {
            "text/plain": [
              "<keras.src.callbacks.history.History at 0x799df5c8f880>"
            ]
          },
          "metadata": {},
          "execution_count": 36
        }
      ]
    },
    {
      "cell_type": "code",
      "source": [
        "help(model.fit)\n",
        "# when we provided validation data\n",
        "# assume that train accuracy is high === train loss low\n",
        "#             validation accurcay is low --- val loss high (overfit)\n",
        "\n",
        "## assume that train accuracy is low === train loss high\n",
        "#             validation accurcay is low --- val loss high (underfit)\n",
        "\n",
        "# assume that train accuracy is high === train loss low\n",
        "#             validation accurcay is high --- val loss low (normal)\n"
      ],
      "metadata": {
        "colab": {
          "base_uri": "https://localhost:8080/"
        },
        "id": "E8-3NwZrKsTI",
        "outputId": "97791416-ee42-4a6a-aa4e-e2d9f24c4cff"
      },
      "execution_count": 42,
      "outputs": [
        {
          "output_type": "stream",
          "name": "stdout",
          "text": [
            "Help on method fit in module keras.src.backend.tensorflow.trainer:\n",
            "\n",
            "fit(x=None, y=None, batch_size=None, epochs=1, verbose='auto', callbacks=None, validation_split=0.0, validation_data=None, shuffle=True, class_weight=None, sample_weight=None, initial_epoch=0, steps_per_epoch=None, validation_steps=None, validation_batch_size=None, validation_freq=1) method of keras.src.models.sequential.Sequential instance\n",
            "    Trains the model for a fixed number of epochs (dataset iterations).\n",
            "    \n",
            "    Args:\n",
            "        x: Input data. It could be:\n",
            "            - A NumPy array (or array-like), or a list of arrays\n",
            "            (in case the model has multiple inputs).\n",
            "            - A tensor, or a list of tensors\n",
            "            (in case the model has multiple inputs).\n",
            "            - A dict mapping input names to the corresponding array/tensors,\n",
            "            if the model has named inputs.\n",
            "            - A `tf.data.Dataset`. Should return a tuple\n",
            "            of either `(inputs, targets)` or\n",
            "            `(inputs, targets, sample_weights)`.\n",
            "            - A `keras.utils.PyDataset` returning `(inputs,\n",
            "            targets)` or `(inputs, targets, sample_weights)`.\n",
            "        y: Target data. Like the input data `x`,\n",
            "            it could be either NumPy array(s) or backend-native tensor(s).\n",
            "            If `x` is a dataset, generator,\n",
            "            or `keras.utils.PyDataset` instance, `y` should\n",
            "            not be specified (since targets will be obtained from `x`).\n",
            "        batch_size: Integer or `None`.\n",
            "            Number of samples per gradient update.\n",
            "            If unspecified, `batch_size` will default to 32.\n",
            "            Do not specify the `batch_size` if your data is in the\n",
            "            form of datasets, generators, or `keras.utils.PyDataset`\n",
            "            instances (since they generate batches).\n",
            "        epochs: Integer. Number of epochs to train the model.\n",
            "            An epoch is an iteration over the entire `x` and `y`\n",
            "            data provided\n",
            "            (unless the `steps_per_epoch` flag is set to\n",
            "            something other than None).\n",
            "            Note that in conjunction with `initial_epoch`,\n",
            "            `epochs` is to be understood as \"final epoch\".\n",
            "            The model is not trained for a number of iterations\n",
            "            given by `epochs`, but merely until the epoch\n",
            "            of index `epochs` is reached.\n",
            "        verbose: `\"auto\"`, 0, 1, or 2. Verbosity mode.\n",
            "            0 = silent, 1 = progress bar, 2 = one line per epoch.\n",
            "            \"auto\" becomes 1 for most cases.\n",
            "            Note that the progress bar is not\n",
            "            particularly useful when logged to a file,\n",
            "            so `verbose=2` is recommended when not running interactively\n",
            "            (e.g., in a production environment). Defaults to `\"auto\"`.\n",
            "        callbacks: List of `keras.callbacks.Callback` instances.\n",
            "            List of callbacks to apply during training.\n",
            "            See `keras.callbacks`. Note\n",
            "            `keras.callbacks.ProgbarLogger` and\n",
            "            `keras.callbacks.History` callbacks are created\n",
            "            automatically and need not be passed to `model.fit()`.\n",
            "            `keras.callbacks.ProgbarLogger` is created\n",
            "            or not based on the `verbose` argument in `model.fit()`.\n",
            "        validation_split: Float between 0 and 1.\n",
            "            Fraction of the training data to be used as validation data.\n",
            "            The model will set apart this fraction of the training data,\n",
            "            will not train on it, and will evaluate\n",
            "            the loss and any model metrics\n",
            "            on this data at the end of each epoch.\n",
            "            The validation data is selected from the last samples\n",
            "            in the `x` and `y` data provided, before shuffling. This\n",
            "            argument is not supported when `x` is a dataset, generator or\n",
            "            `keras.utils.PyDataset` instance.\n",
            "            If both `validation_data` and `validation_split` are provided,\n",
            "            `validation_data` will override `validation_split`.\n",
            "        validation_data: Data on which to evaluate\n",
            "            the loss and any model metrics at the end of each epoch.\n",
            "            The model will not be trained on this data. Thus, note the fact\n",
            "            that the validation loss of data provided using\n",
            "            `validation_split` or `validation_data` is not affected by\n",
            "            regularization layers like noise and dropout.\n",
            "            `validation_data` will override `validation_split`.\n",
            "            It could be:\n",
            "            - A tuple `(x_val, y_val)` of NumPy arrays or tensors.\n",
            "            - A tuple `(x_val, y_val, val_sample_weights)` of NumPy\n",
            "            arrays.\n",
            "            - A `tf.data.Dataset`.\n",
            "            - A Python generator or `keras.utils.PyDataset` returning\n",
            "            `(inputs, targets)` or `(inputs, targets, sample_weights)`.\n",
            "        shuffle: Boolean, whether to shuffle the training data\n",
            "            before each epoch. This argument is\n",
            "            ignored when `x` is a generator or a `tf.data.Dataset`.\n",
            "        class_weight: Optional dictionary mapping class indices (integers)\n",
            "            to a weight (float) value, used for weighting the loss function\n",
            "            (during training only).\n",
            "            This can be useful to tell the model to\n",
            "            \"pay more attention\" to samples from\n",
            "            an under-represented class. When `class_weight` is specified\n",
            "            and targets have a rank of 2 or greater, either `y` must be\n",
            "            one-hot encoded, or an explicit final dimension of `1` must\n",
            "            be included for sparse class labels.\n",
            "        sample_weight: Optional NumPy array of weights for\n",
            "            the training samples, used for weighting the loss function\n",
            "            (during training only). You can either pass a flat (1D)\n",
            "            NumPy array with the same length as the input samples\n",
            "            (1:1 mapping between weights and samples),\n",
            "            or in the case of temporal data,\n",
            "            you can pass a 2D array with shape\n",
            "            `(samples, sequence_length)`,\n",
            "            to apply a different weight to every timestep of every sample.\n",
            "            This argument is not supported when `x` is a dataset, generator,\n",
            "            or `keras.utils.PyDataset` instance, instead provide the\n",
            "            sample_weights as the third element of `x`.\n",
            "            Note that sample weighting does not apply to metrics specified\n",
            "            via the `metrics` argument in `compile()`. To apply sample\n",
            "            weighting to your metrics, you can specify them via the\n",
            "            `weighted_metrics` in `compile()` instead.\n",
            "        initial_epoch: Integer.\n",
            "            Epoch at which to start training\n",
            "            (useful for resuming a previous training run).\n",
            "        steps_per_epoch: Integer or `None`.\n",
            "            Total number of steps (batches of samples)\n",
            "            before declaring one epoch finished and starting the\n",
            "            next epoch. When training with input tensors such as\n",
            "            backend-native tensors, the default `None` is equal to\n",
            "            the number of samples in your dataset divided by\n",
            "            the batch size, or 1 if that cannot be determined. If `x` is a\n",
            "            `tf.data.Dataset`, and `steps_per_epoch`\n",
            "            is `None`, the epoch will run until the input dataset is\n",
            "            exhausted.  When passing an infinitely repeating dataset, you\n",
            "            must specify the `steps_per_epoch` argument. If\n",
            "            `steps_per_epoch=-1` the training will run indefinitely with an\n",
            "            infinitely repeating dataset.\n",
            "        validation_steps: Only relevant if `validation_data` is provided.\n",
            "            Total number of steps (batches of\n",
            "            samples) to draw before stopping when performing validation\n",
            "            at the end of every epoch. If `validation_steps` is `None`,\n",
            "            validation will run until the `validation_data` dataset is\n",
            "            exhausted. In the case of an infinitely repeated dataset, it\n",
            "            will run into an infinite loop. If `validation_steps` is\n",
            "            specified and only part of the dataset will be consumed, the\n",
            "            evaluation will start from the beginning of the dataset at each\n",
            "            epoch. This ensures that the same validation samples are used\n",
            "            every time.\n",
            "        validation_batch_size: Integer or `None`.\n",
            "            Number of samples per validation batch.\n",
            "            If unspecified, will default to `batch_size`.\n",
            "            Do not specify the `validation_batch_size` if your data is in\n",
            "            the form of datasets or `keras.utils.PyDataset`\n",
            "            instances (since they generate batches).\n",
            "        validation_freq: Only relevant if validation data is provided.\n",
            "            Specifies how many training epochs to run\n",
            "            before a new validation run is performed,\n",
            "            e.g. `validation_freq=2` runs validation every 2 epochs.\n",
            "    \n",
            "    Unpacking behavior for iterator-like inputs:\n",
            "        A common pattern is to pass an iterator like object such as a\n",
            "        `tf.data.Dataset` or a `keras.utils.PyDataset` to `fit()`,\n",
            "        which will in fact yield not only features (`x`)\n",
            "        but optionally targets (`y`) and sample weights (`sample_weight`).\n",
            "        Keras requires that the output of such iterator-likes be\n",
            "        unambiguous. The iterator should return a tuple\n",
            "        of length 1, 2, or 3, where the optional second and third elements\n",
            "        will be used for `y` and `sample_weight` respectively.\n",
            "        Any other type provided will be wrapped in\n",
            "        a length-one tuple, effectively treating everything as `x`. When\n",
            "        yielding dicts, they should still adhere to the top-level tuple\n",
            "        structure,\n",
            "        e.g. `({\"x0\": x0, \"x1\": x1}, y)`. Keras will not attempt to separate\n",
            "        features, targets, and weights from the keys of a single dict.\n",
            "        A notable unsupported data type is the `namedtuple`. The reason is\n",
            "        that it behaves like both an ordered datatype (tuple) and a mapping\n",
            "        datatype (dict). So given a namedtuple of the form:\n",
            "        `namedtuple(\"example_tuple\", [\"y\", \"x\"])`\n",
            "        it is ambiguous whether to reverse the order of the elements when\n",
            "        interpreting the value. Even worse is a tuple of the form:\n",
            "        `namedtuple(\"other_tuple\", [\"x\", \"y\", \"z\"])`\n",
            "        where it is unclear if the tuple was intended to be unpacked\n",
            "        into `x`, `y`, and `sample_weight` or passed through\n",
            "        as a single element to `x`.\n",
            "    \n",
            "    Returns:\n",
            "        A `History` object. Its `History.history` attribute is\n",
            "        a record of training loss values and metrics values\n",
            "        at successive epochs, as well as validation loss values\n",
            "        and validation metrics values (if applicable).\n",
            "\n"
          ]
        }
      ]
    },
    {
      "cell_type": "code",
      "source": [
        "# by default batch size=32\n",
        "history=model.fit(X_train,\n",
        "          y_train,\n",
        "          epochs = 10)"
      ],
      "metadata": {
        "colab": {
          "base_uri": "https://localhost:8080/"
        },
        "id": "H_XSklBeIcDm",
        "outputId": "e568246e-381d-46ab-a205-b0df477f64a4"
      },
      "execution_count": 39,
      "outputs": [
        {
          "output_type": "stream",
          "name": "stdout",
          "text": [
            "Epoch 1/10\n",
            "\u001b[1m1875/1875\u001b[0m \u001b[32m━━━━━━━━━━━━━━━━━━━━\u001b[0m\u001b[37m\u001b[0m \u001b[1m7s\u001b[0m 4ms/step - accuracy: 0.9464 - loss: 0.1426\n",
            "Epoch 2/10\n",
            "\u001b[1m1875/1875\u001b[0m \u001b[32m━━━━━━━━━━━━━━━━━━━━\u001b[0m\u001b[37m\u001b[0m \u001b[1m11s\u001b[0m 4ms/step - accuracy: 0.9467 - loss: 0.1423\n",
            "Epoch 3/10\n",
            "\u001b[1m1875/1875\u001b[0m \u001b[32m━━━━━━━━━━━━━━━━━━━━\u001b[0m\u001b[37m\u001b[0m \u001b[1m8s\u001b[0m 3ms/step - accuracy: 0.9506 - loss: 0.1322\n",
            "Epoch 4/10\n",
            "\u001b[1m1875/1875\u001b[0m \u001b[32m━━━━━━━━━━━━━━━━━━━━\u001b[0m\u001b[37m\u001b[0m \u001b[1m7s\u001b[0m 4ms/step - accuracy: 0.9491 - loss: 0.1344\n",
            "Epoch 5/10\n",
            "\u001b[1m1875/1875\u001b[0m \u001b[32m━━━━━━━━━━━━━━━━━━━━\u001b[0m\u001b[37m\u001b[0m \u001b[1m9s\u001b[0m 3ms/step - accuracy: 0.9502 - loss: 0.1321\n",
            "Epoch 6/10\n",
            "\u001b[1m1875/1875\u001b[0m \u001b[32m━━━━━━━━━━━━━━━━━━━━\u001b[0m\u001b[37m\u001b[0m \u001b[1m6s\u001b[0m 3ms/step - accuracy: 0.9514 - loss: 0.1278\n",
            "Epoch 7/10\n",
            "\u001b[1m1875/1875\u001b[0m \u001b[32m━━━━━━━━━━━━━━━━━━━━\u001b[0m\u001b[37m\u001b[0m \u001b[1m11s\u001b[0m 4ms/step - accuracy: 0.9517 - loss: 0.1303\n",
            "Epoch 8/10\n",
            "\u001b[1m1875/1875\u001b[0m \u001b[32m━━━━━━━━━━━━━━━━━━━━\u001b[0m\u001b[37m\u001b[0m \u001b[1m8s\u001b[0m 3ms/step - accuracy: 0.9526 - loss: 0.1232\n",
            "Epoch 9/10\n",
            "\u001b[1m1875/1875\u001b[0m \u001b[32m━━━━━━━━━━━━━━━━━━━━\u001b[0m\u001b[37m\u001b[0m \u001b[1m7s\u001b[0m 4ms/step - accuracy: 0.9546 - loss: 0.1248\n",
            "Epoch 10/10\n",
            "\u001b[1m1875/1875\u001b[0m \u001b[32m━━━━━━━━━━━━━━━━━━━━\u001b[0m\u001b[37m\u001b[0m \u001b[1m9s\u001b[0m 3ms/step - accuracy: 0.9524 - loss: 0.1241\n"
          ]
        }
      ]
    },
    {
      "cell_type": "code",
      "source": [
        "history.history"
      ],
      "metadata": {
        "colab": {
          "base_uri": "https://localhost:8080/"
        },
        "id": "aXPT6uKpJwK_",
        "outputId": "f75320b1-ed1b-4a5d-951a-11de90d892c8"
      },
      "execution_count": 40,
      "outputs": [
        {
          "output_type": "execute_result",
          "data": {
            "text/plain": [
              "{'accuracy': [0.9443833231925964,\n",
              "  0.9452499747276306,\n",
              "  0.9466000199317932,\n",
              "  0.9469166398048401,\n",
              "  0.9485833048820496,\n",
              "  0.9485333561897278,\n",
              "  0.9506999850273132,\n",
              "  0.9505333304405212,\n",
              "  0.9531166553497314,\n",
              "  0.9524000287055969],\n",
              " 'loss': [0.14873982965946198,\n",
              "  0.14686429500579834,\n",
              "  0.1422502100467682,\n",
              "  0.13912469148635864,\n",
              "  0.13566452264785767,\n",
              "  0.13498152792453766,\n",
              "  0.13177722692489624,\n",
              "  0.12979163229465485,\n",
              "  0.12583328783512115,\n",
              "  0.12545369565486908]}"
            ]
          },
          "metadata": {},
          "execution_count": 40
        }
      ]
    },
    {
      "cell_type": "code",
      "source": [
        "plt.plot(history.history['accuracy'])\n",
        "plt.plot(history.history['loss'])"
      ],
      "metadata": {
        "colab": {
          "base_uri": "https://localhost:8080/",
          "height": 447
        },
        "id": "tMoQ2D05KDWk",
        "outputId": "fb24f20a-3921-4fdd-9a6c-b7959816a4e8"
      },
      "execution_count": 41,
      "outputs": [
        {
          "output_type": "execute_result",
          "data": {
            "text/plain": [
              "[<matplotlib.lines.Line2D at 0x799dd43fcd90>]"
            ]
          },
          "metadata": {},
          "execution_count": 41
        },
        {
          "output_type": "display_data",
          "data": {
            "text/plain": [
              "<Figure size 640x480 with 1 Axes>"
            ],
            "image/png": "[encoded data removed]"
          },
          "metadata": {}
        }
      ]
    },
    {
      "cell_type": "markdown",
      "source": [
        "**Hyper parameters**\n",
        "\n",
        "- Number of Hidden layer\n",
        "\n",
        "- Number of Neurons\n",
        "\n",
        "- Optimizer\n",
        "\n",
        "- loss\n",
        "\n",
        "- accuracy\n",
        "\n",
        "- Epochs\n",
        "\n",
        "- Batch size\n",
        "\n",
        "- learning rate\n"
      ],
      "metadata": {
        "id": "-QVXXUMDU8rw"
      }
    },
    {
      "cell_type": "code",
      "source": [],
      "metadata": {
        "id": "ldd2wdSt9WO5"
      },
      "execution_count": null,
      "outputs": []
    },
    {
      "cell_type": "markdown",
      "source": [
        "## Model Evaluation"
      ],
      "metadata": {
        "id": "jsgkPzYF0_Eu"
      }
    },
    {
      "cell_type": "markdown",
      "source": [
        "Now we will evaluate the accuracy using the test data. We have got an accuracy of 87.82%."
      ],
      "metadata": {
        "id": "U1cZ9G7OKSpn"
      }
    },
    {
      "cell_type": "code",
      "source": [
        "X_test.shape, 10000/64, 10000/32"
      ],
      "metadata": {
        "colab": {
          "base_uri": "https://localhost:8080/"
        },
        "id": "00r9kvMRWHRb",
        "outputId": "1b5ef47b-98fc-46cb-9b4f-66a874480f15"
      },
      "execution_count": null,
      "outputs": [
        {
          "output_type": "execute_result",
          "data": {
            "text/plain": [
              "((10000, 28, 28), 156.25, 312.5)"
            ]
          },
          "metadata": {},
          "execution_count": 52
        }
      ]
    },
    {
      "cell_type": "code",
      "source": [
        "test_loss, test_acc = model.evaluate(X_test, y_test)\n",
        "print(test_acc)"
      ],
      "metadata": {
        "colab": {
          "base_uri": "https://localhost:8080/"
        },
        "id": "JEJ33e24KOOt",
        "outputId": "194d0f3c-86cb-4c4a-f548-de36fed4971c"
      },
      "execution_count": 43,
      "outputs": [
        {
          "output_type": "stream",
          "name": "stdout",
          "text": [
            "\u001b[1m313/313\u001b[0m \u001b[32m━━━━━━━━━━━━━━━━━━━━\u001b[0m\u001b[37m\u001b[0m \u001b[1m1s\u001b[0m 1ms/step - accuracy: 0.8846 - loss: 0.4541\n",
            "0.8902000188827515\n"
          ]
        }
      ]
    },
    {
      "cell_type": "code",
      "source": [
        "0.9091, 0.87\n",
        "\n",
        "# Underfit: Train error high\n",
        "# Normal fit: Train error low- test error low\n",
        "# Overfit : Train errir low - Test error hig"
      ],
      "metadata": {
        "colab": {
          "base_uri": "https://localhost:8080/"
        },
        "id": "gW5B-C1NSu2K",
        "outputId": "2f4fa6ff-400f-4c21-a67c-f25c87a93065"
      },
      "execution_count": null,
      "outputs": [
        {
          "output_type": "execute_result",
          "data": {
            "text/plain": [
              "(0.9091, 0.87)"
            ]
          },
          "metadata": {},
          "execution_count": 54
        }
      ]
    },
    {
      "cell_type": "markdown",
      "source": [
        "## Model Predictions"
      ],
      "metadata": {
        "id": "97068_AV1pr6"
      }
    },
    {
      "cell_type": "markdown",
      "source": [
        "Now we are going to do predictions using sklearn and see the accuracy. For that we will import accuracy_score from sklearn."
      ],
      "metadata": {
        "id": "4GFfdWTKKZGu"
      }
    },
    {
      "cell_type": "code",
      "source": [
        "from sklearn.metrics import accuracy_score"
      ],
      "metadata": {
        "id": "J77QivfmKcZj"
      },
      "execution_count": null,
      "outputs": []
    },
    {
      "cell_type": "markdown",
      "source": [
        "**predict_classes** generates class predictions for the input samples.\n",
        "\n",
        "Here we are giving X_test containing 10000 images as the input.\n",
        "\n",
        " We are even predicting the accuracy.\n",
        "\n",
        " In multilabel classification, accuracy_score computes subset accuracy:\n",
        "\n",
        " the set of labels predicted for a sample must exactly match the corresponding set of labels in y_test."
      ],
      "metadata": {
        "id": "FsjvJzdUKfBx"
      }
    },
    {
      "cell_type": "code",
      "source": [
        "model.predict()"
      ],
      "metadata": {
        "id": "fFHhCneTV8_i"
      },
      "execution_count": null,
      "outputs": []
    },
    {
      "cell_type": "code",
      "source": [
        "y_pred = model.predict(X_test)\n",
        "y_pred\n",
        "#accuracy_score(y_test, y_pred)\n",
        "\n",
        "# how many probabilities will get for one image = 10\n",
        "\n",
        "# In ML will get direct labels as predictions\n",
        "# but always remember before getting the classes , we actually get some probability values\n",
        "# for one test sample will get probability values that is equal to number of classes\n",
        "# in this problem we have 10 classes\n",
        "# one test sample will get 10 probabilities\n",
        "# which is the higest probability , that will be the answer"
      ],
      "metadata": {
        "colab": {
          "base_uri": "https://localhost:8080/"
        },
        "id": "020Xe1vKK0x-",
        "outputId": "9dd87f51-071a-4304-91cc-b232396c86a6"
      },
      "execution_count": 46,
      "outputs": [
        {
          "output_type": "stream",
          "name": "stdout",
          "text": [
            "\u001b[1m313/313\u001b[0m \u001b[32m━━━━━━━━━━━━━━━━━━━━\u001b[0m\u001b[37m\u001b[0m \u001b[1m0s\u001b[0m 1ms/step\n"
          ]
        },
        {
          "output_type": "execute_result",
          "data": {
            "text/plain": [
              "array([[2.10534139e-14, 2.33731166e-27, 1.94750262e-13, ...,\n",
              "        1.77629518e-05, 2.04773705e-14, 9.99981821e-01],\n",
              "       [1.97488512e-03, 7.08899110e-19, 9.98006225e-01, ...,\n",
              "        1.01441385e-17, 2.53644823e-18, 6.57269031e-21],\n",
              "       [2.15106897e-14, 9.99999940e-01, 8.86990133e-21, ...,\n",
              "        4.65018900e-36, 5.13369567e-23, 5.34239084e-32],\n",
              "       ...,\n",
              "       [3.60506458e-10, 6.22371688e-26, 3.09683187e-13, ...,\n",
              "        1.41305226e-16, 9.99999940e-01, 4.28873934e-24],\n",
              "       [1.54842685e-17, 9.99999940e-01, 7.79967534e-20, ...,\n",
              "        1.08175910e-26, 2.53944991e-19, 7.18943769e-25],\n",
              "       [3.15330595e-10, 2.64035819e-19, 2.20168740e-12, ...,\n",
              "        5.80910076e-08, 4.64281608e-13, 1.97763559e-11]], dtype=float32)"
            ]
          },
          "metadata": {},
          "execution_count": 46
        }
      ]
    },
    {
      "cell_type": "code",
      "source": [
        "print(y_pred[0])\n",
        "\n",
        "# what is the final output of y_pred[0]\n",
        "# we are passing X_test[0] ====== y_pred[0]\n",
        "# we are passing X_test[1] ===== y_pred[1]\n",
        "# we are passing X_test(10k) ======= y_pred(10k)\n",
        "\n",
        "class_names\n",
        "# what is the meaning of 2.1053414e-14\n",
        "# we are passing a X_test[0] image to NN\n",
        "# then the NN says : there is a 0.000000000000000002 % chance that image become a top"
      ],
      "metadata": {
        "colab": {
          "base_uri": "https://localhost:8080/"
        },
        "id": "-2e--oFLQDOZ",
        "outputId": "3f892dab-1657-4472-980a-dbfd3b211a58"
      },
      "execution_count": 49,
      "outputs": [
        {
          "output_type": "stream",
          "name": "stdout",
          "text": [
            "[2.1053414e-14 2.3373117e-27 1.9475026e-13 5.6350128e-18 1.4285451e-14\n",
            " 3.9070687e-07 4.2236005e-19 1.7762952e-05 2.0477370e-14 9.9998182e-01]\n"
          ]
        },
        {
          "output_type": "execute_result",
          "data": {
            "text/plain": [
              "['top',\n",
              " 'trouser',\n",
              " 'pullover',\n",
              " 'dress',\n",
              " 'coat',\n",
              " 'sandal',\n",
              " 'shirt',\n",
              " 'sneaker',\n",
              " 'bag',\n",
              " 'ankle boot']"
            ]
          },
          "metadata": {},
          "execution_count": 49
        }
      ]
    },
    {
      "cell_type": "markdown",
      "source": [
        "**np.argmax vs np.max**\n",
        "\n",
        "- np.max will give maximum value of array\n",
        "\n",
        "- np.argmax will give index of the maximum value"
      ],
      "metadata": {
        "id": "Z80VpGEIQSMe"
      }
    },
    {
      "cell_type": "code",
      "source": [
        "X_test.shape"
      ],
      "metadata": {
        "colab": {
          "base_uri": "https://localhost:8080/"
        },
        "id": "zrruInOi0kxk",
        "outputId": "d2b1dc03-d517-4fc0-e6db-a9d7b61529d7"
      },
      "execution_count": null,
      "outputs": [
        {
          "output_type": "execute_result",
          "data": {
            "text/plain": [
              "(10000, 28, 28)"
            ]
          },
          "metadata": {},
          "execution_count": 57
        }
      ]
    },
    {
      "cell_type": "code",
      "source": [
        "X_test[0]"
      ],
      "metadata": {
        "colab": {
          "base_uri": "https://localhost:8080/"
        },
        "id": "hyM7zCUR0z_K",
        "outputId": "ebeac893-7f8d-461a-ab00-19442df4d291"
      },
      "execution_count": null,
      "outputs": [
        {
          "output_type": "execute_result",
          "data": {
            "text/plain": [
              "array([[0.        , 0.        , 0.        , 0.        , 0.        ,\n",
              "        0.        , 0.        , 0.        , 0.        , 0.        ,\n",
              "        0.        , 0.        , 0.        , 0.        , 0.        ,\n",
              "        0.        , 0.        , 0.        , 0.        , 0.        ,\n",
              "        0.        , 0.        , 0.        , 0.        , 0.        ,\n",
              "        0.        , 0.        , 0.        ],\n",
              "       [0.        , 0.        , 0.        , 0.        , 0.        ,\n",
              "        0.        , 0.        , 0.        , 0.        , 0.        ,\n",
              "        0.        , 0.        , 0.        , 0.        , 0.        ,\n",
              "        0.        , 0.        , 0.        , 0.        , 0.        ,\n",
              "        0.        , 0.        , 0.        , 0.        , 0.        ,\n",
              "        0.        , 0.        , 0.        ],\n",
              "       [0.        , 0.        , 0.        , 0.        , 0.        ,\n",
              "        0.        , 0.        , 0.        , 0.        , 0.        ,\n",
              "        0.        , 0.        , 0.        , 0.        , 0.        ,\n",
              "        0.        , 0.        , 0.        , 0.        , 0.        ,\n",
              "        0.        , 0.        , 0.        , 0.        , 0.        ,\n",
              "        0.        , 0.        , 0.        ],\n",
              "       [0.        , 0.        , 0.        , 0.        , 0.        ,\n",
              "        0.        , 0.        , 0.        , 0.        , 0.        ,\n",
              "        0.        , 0.        , 0.        , 0.        , 0.        ,\n",
              "        0.        , 0.        , 0.        , 0.        , 0.        ,\n",
              "        0.        , 0.        , 0.        , 0.        , 0.        ,\n",
              "        0.        , 0.        , 0.        ],\n",
              "       [0.        , 0.        , 0.        , 0.        , 0.        ,\n",
              "        0.        , 0.        , 0.        , 0.        , 0.        ,\n",
              "        0.        , 0.        , 0.        , 0.        , 0.        ,\n",
              "        0.        , 0.        , 0.        , 0.        , 0.        ,\n",
              "        0.        , 0.        , 0.        , 0.        , 0.        ,\n",
              "        0.        , 0.        , 0.        ],\n",
              "       [0.        , 0.        , 0.        , 0.        , 0.        ,\n",
              "        0.        , 0.        , 0.        , 0.        , 0.        ,\n",
              "        0.        , 0.        , 0.        , 0.        , 0.        ,\n",
              "        0.        , 0.        , 0.        , 0.        , 0.        ,\n",
              "        0.        , 0.        , 0.        , 0.        , 0.        ,\n",
              "        0.        , 0.        , 0.        ],\n",
              "       [0.        , 0.        , 0.        , 0.        , 0.        ,\n",
              "        0.        , 0.        , 0.        , 0.        , 0.        ,\n",
              "        0.        , 0.        , 0.        , 0.        , 0.        ,\n",
              "        0.        , 0.        , 0.        , 0.        , 0.        ,\n",
              "        0.        , 0.        , 0.        , 0.        , 0.        ,\n",
              "        0.        , 0.        , 0.        ],\n",
              "       [0.        , 0.        , 0.        , 0.        , 0.        ,\n",
              "        0.        , 0.        , 0.        , 0.        , 0.        ,\n",
              "        0.        , 0.        , 0.        , 0.        , 0.        ,\n",
              "        0.        , 0.        , 0.        , 0.        , 0.01176471,\n",
              "        0.00392157, 0.        , 0.        , 0.02745098, 0.        ,\n",
              "        0.14509804, 0.        , 0.        ],\n",
              "       [0.        , 0.        , 0.        , 0.        , 0.        ,\n",
              "        0.        , 0.        , 0.        , 0.        , 0.        ,\n",
              "        0.        , 0.        , 0.        , 0.00392157, 0.00784314,\n",
              "        0.        , 0.10588235, 0.32941176, 0.04313725, 0.        ,\n",
              "        0.        , 0.        , 0.        , 0.        , 0.        ,\n",
              "        0.46666667, 0.        , 0.        ],\n",
              "       [0.        , 0.        , 0.        , 0.        , 0.        ,\n",
              "        0.        , 0.        , 0.        , 0.        , 0.        ,\n",
              "        0.        , 0.        , 0.        , 0.00392157, 0.        ,\n",
              "        0.        , 0.34509804, 0.56078431, 0.43137255, 0.        ,\n",
              "        0.        , 0.        , 0.        , 0.08627451, 0.36470588,\n",
              "        0.41568627, 0.        , 0.        ],\n",
              "       [0.        , 0.        , 0.        , 0.        , 0.        ,\n",
              "        0.        , 0.        , 0.        , 0.        , 0.        ,\n",
              "        0.        , 0.        , 0.        , 0.01568627, 0.        ,\n",
              "        0.20784314, 0.50588235, 0.47058824, 0.57647059, 0.68627451,\n",
              "        0.61568627, 0.65098039, 0.52941176, 0.60392157, 0.65882353,\n",
              "        0.54901961, 0.        , 0.        ],\n",
              "       [0.        , 0.        , 0.        , 0.        , 0.        ,\n",
              "        0.        , 0.        , 0.        , 0.        , 0.        ,\n",
              "        0.        , 0.        , 0.00784314, 0.        , 0.04313725,\n",
              "        0.5372549 , 0.50980392, 0.50196078, 0.62745098, 0.69019608,\n",
              "        0.62352941, 0.65490196, 0.69803922, 0.58431373, 0.59215686,\n",
              "        0.56470588, 0.        , 0.        ],\n",
              "       [0.        , 0.        , 0.        , 0.        , 0.        ,\n",
              "        0.        , 0.00392157, 0.        , 0.00784314, 0.00392157,\n",
              "        0.        , 0.01176471, 0.        , 0.        , 0.45098039,\n",
              "        0.44705882, 0.41568627, 0.5372549 , 0.65882353, 0.6       ,\n",
              "        0.61176471, 0.64705882, 0.65490196, 0.56078431, 0.61568627,\n",
              "        0.61960784, 0.04313725, 0.        ],\n",
              "       [0.        , 0.        , 0.        , 0.        , 0.00392157,\n",
              "        0.        , 0.        , 0.        , 0.        , 0.        ,\n",
              "        0.01176471, 0.        , 0.        , 0.34901961, 0.54509804,\n",
              "        0.35294118, 0.36862745, 0.6       , 0.58431373, 0.51372549,\n",
              "        0.59215686, 0.6627451 , 0.6745098 , 0.56078431, 0.62352941,\n",
              "        0.6627451 , 0.18823529, 0.        ],\n",
              "       [0.        , 0.        , 0.        , 0.        , 0.        ,\n",
              "        0.        , 0.00784314, 0.01568627, 0.00392157, 0.        ,\n",
              "        0.        , 0.        , 0.38431373, 0.53333333, 0.43137255,\n",
              "        0.42745098, 0.43137255, 0.63529412, 0.52941176, 0.56470588,\n",
              "        0.58431373, 0.62352941, 0.65490196, 0.56470588, 0.61960784,\n",
              "        0.6627451 , 0.46666667, 0.        ],\n",
              "       [0.        , 0.        , 0.00784314, 0.00784314, 0.00392157,\n",
              "        0.00784314, 0.        , 0.        , 0.        , 0.        ,\n",
              "        0.10196078, 0.42352941, 0.45882353, 0.38823529, 0.43529412,\n",
              "        0.45882353, 0.53333333, 0.61176471, 0.5254902 , 0.60392157,\n",
              "        0.60392157, 0.61176471, 0.62745098, 0.55294118, 0.57647059,\n",
              "        0.61176471, 0.69803922, 0.        ],\n",
              "       [0.01176471, 0.        , 0.        , 0.        , 0.        ,\n",
              "        0.        , 0.        , 0.08235294, 0.20784314, 0.36078431,\n",
              "        0.45882353, 0.43529412, 0.40392157, 0.45098039, 0.50588235,\n",
              "        0.5254902 , 0.56078431, 0.60392157, 0.64705882, 0.66666667,\n",
              "        0.60392157, 0.59215686, 0.60392157, 0.56078431, 0.54117647,\n",
              "        0.58823529, 0.64705882, 0.16862745],\n",
              "       [0.        , 0.        , 0.09019608, 0.21176471, 0.25490196,\n",
              "        0.29803922, 0.33333333, 0.4627451 , 0.50196078, 0.48235294,\n",
              "        0.43529412, 0.44313725, 0.4627451 , 0.49803922, 0.49019608,\n",
              "        0.54509804, 0.52156863, 0.53333333, 0.62745098, 0.54901961,\n",
              "        0.60784314, 0.63137255, 0.56470588, 0.60784314, 0.6745098 ,\n",
              "        0.63137255, 0.74117647, 0.24313725],\n",
              "       [0.        , 0.26666667, 0.36862745, 0.35294118, 0.43529412,\n",
              "        0.44705882, 0.43529412, 0.44705882, 0.45098039, 0.49803922,\n",
              "        0.52941176, 0.53333333, 0.56078431, 0.49411765, 0.49803922,\n",
              "        0.59215686, 0.60392157, 0.56078431, 0.58039216, 0.49019608,\n",
              "        0.63529412, 0.63529412, 0.56470588, 0.54117647, 0.6       ,\n",
              "        0.63529412, 0.76862745, 0.22745098],\n",
              "       [0.2745098 , 0.6627451 , 0.50588235, 0.40784314, 0.38431373,\n",
              "        0.39215686, 0.36862745, 0.38039216, 0.38431373, 0.4       ,\n",
              "        0.42352941, 0.41568627, 0.46666667, 0.47058824, 0.50588235,\n",
              "        0.58431373, 0.61176471, 0.65490196, 0.74509804, 0.74509804,\n",
              "        0.76862745, 0.77647059, 0.77647059, 0.73333333, 0.77254902,\n",
              "        0.74117647, 0.72156863, 0.14117647],\n",
              "       [0.0627451 , 0.49411765, 0.67058824, 0.7372549 , 0.7372549 ,\n",
              "        0.72156863, 0.67058824, 0.6       , 0.52941176, 0.47058824,\n",
              "        0.49411765, 0.49803922, 0.57254902, 0.7254902 , 0.76470588,\n",
              "        0.81960784, 0.81568627, 1.        , 0.81960784, 0.69411765,\n",
              "        0.96078431, 0.98823529, 0.98431373, 0.98431373, 0.96862745,\n",
              "        0.8627451 , 0.80784314, 0.19215686],\n",
              "       [0.        , 0.        , 0.        , 0.04705882, 0.2627451 ,\n",
              "        0.41568627, 0.64313725, 0.7254902 , 0.78039216, 0.82352941,\n",
              "        0.82745098, 0.82352941, 0.81568627, 0.74509804, 0.58823529,\n",
              "        0.32156863, 0.03137255, 0.        , 0.        , 0.        ,\n",
              "        0.69803922, 0.81568627, 0.7372549 , 0.68627451, 0.63529412,\n",
              "        0.61960784, 0.59215686, 0.04313725],\n",
              "       [0.        , 0.        , 0.        , 0.        , 0.        ,\n",
              "        0.        , 0.        , 0.        , 0.        , 0.        ,\n",
              "        0.        , 0.        , 0.        , 0.        , 0.        ,\n",
              "        0.        , 0.        , 0.        , 0.        , 0.        ,\n",
              "        0.        , 0.        , 0.        , 0.        , 0.        ,\n",
              "        0.        , 0.        , 0.        ],\n",
              "       [0.        , 0.        , 0.        , 0.        , 0.        ,\n",
              "        0.        , 0.        , 0.        , 0.        , 0.        ,\n",
              "        0.        , 0.        , 0.        , 0.        , 0.        ,\n",
              "        0.        , 0.        , 0.        , 0.        , 0.        ,\n",
              "        0.        , 0.        , 0.        , 0.        , 0.        ,\n",
              "        0.        , 0.        , 0.        ],\n",
              "       [0.        , 0.        , 0.        , 0.        , 0.        ,\n",
              "        0.        , 0.        , 0.        , 0.        , 0.        ,\n",
              "        0.        , 0.        , 0.        , 0.        , 0.        ,\n",
              "        0.        , 0.        , 0.        , 0.        , 0.        ,\n",
              "        0.        , 0.        , 0.        , 0.        , 0.        ,\n",
              "        0.        , 0.        , 0.        ],\n",
              "       [0.        , 0.        , 0.        , 0.        , 0.        ,\n",
              "        0.        , 0.        , 0.        , 0.        , 0.        ,\n",
              "        0.        , 0.        , 0.        , 0.        , 0.        ,\n",
              "        0.        , 0.        , 0.        , 0.        , 0.        ,\n",
              "        0.        , 0.        , 0.        , 0.        , 0.        ,\n",
              "        0.        , 0.        , 0.        ],\n",
              "       [0.        , 0.        , 0.        , 0.        , 0.        ,\n",
              "        0.        , 0.        , 0.        , 0.        , 0.        ,\n",
              "        0.        , 0.        , 0.        , 0.        , 0.        ,\n",
              "        0.        , 0.        , 0.        , 0.        , 0.        ,\n",
              "        0.        , 0.        , 0.        , 0.        , 0.        ,\n",
              "        0.        , 0.        , 0.        ],\n",
              "       [0.        , 0.        , 0.        , 0.        , 0.        ,\n",
              "        0.        , 0.        , 0.        , 0.        , 0.        ,\n",
              "        0.        , 0.        , 0.        , 0.        , 0.        ,\n",
              "        0.        , 0.        , 0.        , 0.        , 0.        ,\n",
              "        0.        , 0.        , 0.        , 0.        , 0.        ,\n",
              "        0.        , 0.        , 0.        ]])"
            ]
          },
          "metadata": {},
          "execution_count": 58
        }
      ]
    },
    {
      "cell_type": "code",
      "source": [
        "# y_pred_zero = model.predict(X_test[0])\n",
        "# y_pred_zero"
      ],
      "metadata": {
        "id": "FBsrVseI0ePE"
      },
      "execution_count": null,
      "outputs": []
    },
    {
      "cell_type": "code",
      "source": [
        "len(X_test)"
      ],
      "metadata": {
        "colab": {
          "base_uri": "https://localhost:8080/"
        },
        "id": "7bWU8WViHumj",
        "outputId": "0f3ac91f-c49d-4ca0-92b4-bea6951f654e"
      },
      "execution_count": null,
      "outputs": [
        {
          "output_type": "execute_result",
          "data": {
            "text/plain": [
              "10000"
            ]
          },
          "metadata": {},
          "execution_count": 60
        }
      ]
    },
    {
      "cell_type": "code",
      "source": [
        "y_pred[0]  #  how many predictons =  number test cases"
      ],
      "metadata": {
        "colab": {
          "base_uri": "https://localhost:8080/"
        },
        "id": "hcPNQ1eAHWyi",
        "outputId": "5812301c-a97d-4881-d8cb-87bf6258dd6c"
      },
      "execution_count": null,
      "outputs": [
        {
          "output_type": "execute_result",
          "data": {
            "text/plain": [
              "array([7.5113837e-07, 2.5693105e-08, 3.3943149e-06, 4.9477599e-06,\n",
              "       1.4132975e-05, 1.5451440e-01, 1.3489509e-05, 3.5368329e-01,\n",
              "       4.5616194e-03, 4.8720399e-01], dtype=float32)"
            ]
          },
          "metadata": {},
          "execution_count": 35
        }
      ]
    },
    {
      "cell_type": "code",
      "source": [
        "np.sum(y_pred[0]) # Summation of all probabilities =1"
      ],
      "metadata": {
        "colab": {
          "base_uri": "https://localhost:8080/"
        },
        "id": "Y2ErrWkV-Xg1",
        "outputId": "ad4e8712-9e65-469f-bb2b-77dd8b0fc64d"
      },
      "execution_count": null,
      "outputs": [
        {
          "output_type": "execute_result",
          "data": {
            "text/plain": [
              "1.0"
            ]
          },
          "metadata": {},
          "execution_count": 62
        }
      ]
    },
    {
      "cell_type": "code",
      "source": [
        "l=[10,15,25,30,35,5,7]\n",
        "for i in range(len(l)):\n",
        "    if l[i]==np.max(l):\n",
        "        print(i)\n",
        "\n"
      ],
      "metadata": {
        "colab": {
          "base_uri": "https://localhost:8080/"
        },
        "id": "A370y1NDXiL2",
        "outputId": "5499c045-f515-4632-9ee3-91adea4884f2"
      },
      "execution_count": null,
      "outputs": [
        {
          "output_type": "stream",
          "name": "stdout",
          "text": [
            "4\n"
          ]
        }
      ]
    },
    {
      "cell_type": "code",
      "source": [
        "l=[10,15,25,30,35,5,7]\n",
        "l.index(np.max(l))"
      ],
      "metadata": {
        "colab": {
          "base_uri": "https://localhost:8080/"
        },
        "id": "YzDuS1AOXxaW",
        "outputId": "6fd8f4db-adf4-4ccd-d787-aad0e960f87f"
      },
      "execution_count": null,
      "outputs": [
        {
          "output_type": "execute_result",
          "data": {
            "text/plain": [
              "4"
            ]
          },
          "metadata": {},
          "execution_count": 64
        }
      ]
    },
    {
      "cell_type": "markdown",
      "source": [],
      "metadata": {
        "id": "UozIUujuYKxP"
      }
    },
    {
      "cell_type": "code",
      "source": [
        "# Total 10k predictions\n",
        "# we are taking first prediction\n",
        "y_pred[0]"
      ],
      "metadata": {
        "colab": {
          "base_uri": "https://localhost:8080/"
        },
        "id": "pHd7g0SL104z",
        "outputId": "616150a0-0998-4ffa-81c7-1c8a80acc3e7"
      },
      "execution_count": null,
      "outputs": [
        {
          "output_type": "execute_result",
          "data": {
            "text/plain": [
              "array([1.3565628e-09, 1.9574736e-10, 3.6470743e-10, 8.9054718e-13,\n",
              "       7.5620538e-10, 1.3678566e-03, 7.2948829e-08, 1.9507288e-03,\n",
              "       1.8030292e-08, 9.9668133e-01], dtype=float32)"
            ]
          },
          "metadata": {},
          "execution_count": 65
        }
      ]
    },
    {
      "cell_type": "code",
      "source": [
        "max=np.max(y_pred[0])\n",
        "max"
      ],
      "metadata": {
        "colab": {
          "base_uri": "https://localhost:8080/"
        },
        "id": "x4GJ8yjZJH08",
        "outputId": "5ffa5c0a-cd86-4cef-d73f-0ff62406ad9b"
      },
      "execution_count": 50,
      "outputs": [
        {
          "output_type": "execute_result",
          "data": {
            "text/plain": [
              "0.9999818"
            ]
          },
          "metadata": {},
          "execution_count": 50
        }
      ]
    },
    {
      "cell_type": "code",
      "source": [
        "np.argmax(y_pred[0])"
      ],
      "metadata": {
        "colab": {
          "base_uri": "https://localhost:8080/"
        },
        "id": "mqQ4YzKc2Ecx",
        "outputId": "df3979cb-6b96-4737-e42a-99df06002ad0"
      },
      "execution_count": 51,
      "outputs": [
        {
          "output_type": "execute_result",
          "data": {
            "text/plain": [
              "9"
            ]
          },
          "metadata": {},
          "execution_count": 51
        }
      ]
    },
    {
      "cell_type": "code",
      "source": [
        "# plot\n",
        "# y_test\n",
        "y_test[0]"
      ],
      "metadata": {
        "colab": {
          "base_uri": "https://localhost:8080/"
        },
        "id": "NKMv_1PN2KpZ",
        "outputId": "e906169e-2b36-4a72-df1a-65014200af12"
      },
      "execution_count": 52,
      "outputs": [
        {
          "output_type": "execute_result",
          "data": {
            "text/plain": [
              "9"
            ]
          },
          "metadata": {},
          "execution_count": 52
        }
      ]
    },
    {
      "cell_type": "code",
      "source": [
        "class_names[y_test[0]]"
      ],
      "metadata": {
        "colab": {
          "base_uri": "https://localhost:8080/",
          "height": 35
        },
        "id": "NvF7f0-32_Ss",
        "outputId": "549c40e7-4157-4abd-b982-c978fe6ccc44"
      },
      "execution_count": null,
      "outputs": [
        {
          "output_type": "execute_result",
          "data": {
            "text/plain": [
              "'ankle boot'"
            ],
            "application/vnd.google.colaboratory.intrinsic+json": {
              "type": "string"
            }
          },
          "metadata": {},
          "execution_count": 69
        }
      ]
    },
    {
      "cell_type": "code",
      "source": [
        "plt.imshow(X_test[0])\n",
        "plt.xlabel(f\"Actual:{y_test[0]}\") # Directly index\n",
        "plt.ylabel(f\"prediction:{np.argmax(y_pred[0])}\") # proba=== argmax"
      ],
      "metadata": {
        "colab": {
          "base_uri": "https://localhost:8080/",
          "height": 466
        },
        "id": "Axla_l_02gmm",
        "outputId": "018838c7-5e4a-4673-8bc9-d7ce9f1ebf9e"
      },
      "execution_count": null,
      "outputs": [
        {
          "output_type": "execute_result",
          "data": {
            "text/plain": [
              "Text(0, 0.5, 'prediction:9')"
            ]
          },
          "metadata": {},
          "execution_count": 37
        },
        {
          "output_type": "display_data",
          "data": {
            "text/plain": [
              "<Figure size 640x480 with 1 Axes>"
            ],
            "image/png": "[encoded data removed]"
          },
          "metadata": {}
        }
      ]
    },
    {
      "cell_type": "code",
      "source": [
        "plt.figure(figsize=(10,10))\n",
        "for i in range(25):\n",
        "    plt.subplot(5,5,i+1)\n",
        "    plt.xticks([])\n",
        "    plt.yticks([])\n",
        "    plt.grid(False)\n",
        "    plt.imshow(X_test[i])\n",
        "    plt.xlabel(f\"Actual:{y_test[i]}\") # Directly index\n",
        "    plt.ylabel(f\"prediction:{np.argmax(y_pred[i])}\") # proba=== argmax\n",
        "plt.show()"
      ],
      "metadata": {
        "colab": {
          "base_uri": "https://localhost:8080/",
          "height": 818
        },
        "id": "iuJUSWLP3m-N",
        "outputId": "0f732e6b-5c52-4ed0-d575-40d78b237c34"
      },
      "execution_count": null,
      "outputs": [
        {
          "output_type": "display_data",
          "data": {
            "text/plain": [
              "<Figure size 1000x1000 with 25 Axes>"
            ],
            "image/png": "[encoded data removed]"
          },
          "metadata": {}
        }
      ]
    },
    {
      "cell_type": "code",
      "source": [
        "index=list(y_pred[0]).index(max)\n",
        "index"
      ],
      "metadata": {
        "colab": {
          "base_uri": "https://localhost:8080/"
        },
        "id": "ilbLKERdJU-l",
        "outputId": "99f6b075-cbb9-4bc9-f960-d6ba186b5e9d"
      },
      "execution_count": null,
      "outputs": [
        {
          "output_type": "execute_result",
          "data": {
            "text/plain": [
              "9"
            ]
          },
          "metadata": {},
          "execution_count": 72
        }
      ]
    },
    {
      "cell_type": "markdown",
      "source": [
        "**np.max  vs np.argmax**\n",
        "\n",
        "- np.max  will give maximum value in array\n",
        "\n",
        "- np.argmax will give index of the maximum value\n",
        "\n",
        "- using these index we can get the class names"
      ],
      "metadata": {
        "id": "VNZhnqqW13g5"
      }
    },
    {
      "cell_type": "code",
      "source": [
        "np.max(y_pred[0]),np.argmax(y_pred[0])"
      ],
      "metadata": {
        "colab": {
          "base_uri": "https://localhost:8080/"
        },
        "id": "wqY4elGmKr7E",
        "outputId": "cdc7e83e-4b82-4c52-ad08-e6487aba0418"
      },
      "execution_count": null,
      "outputs": [
        {
          "output_type": "execute_result",
          "data": {
            "text/plain": [
              "(0.99668133, 9)"
            ]
          },
          "metadata": {},
          "execution_count": 73
        }
      ]
    },
    {
      "cell_type": "code",
      "source": [
        "class_names"
      ],
      "metadata": {
        "colab": {
          "base_uri": "https://localhost:8080/"
        },
        "id": "EGHvCYdrY1vp",
        "outputId": "c7db6c18-c2d8-49b1-dd8e-62276b4c673d"
      },
      "execution_count": null,
      "outputs": [
        {
          "output_type": "execute_result",
          "data": {
            "text/plain": [
              "['top',\n",
              " 'trouser',\n",
              " 'pullover',\n",
              " 'dress',\n",
              " 'coat',\n",
              " 'sandal',\n",
              " 'shirt',\n",
              " 'sneaker',\n",
              " 'bag',\n",
              " 'ankle boot']"
            ]
          },
          "metadata": {},
          "execution_count": 74
        }
      ]
    },
    {
      "cell_type": "markdown",
      "source": [
        "- y_test is actual (10k)\n",
        "\n",
        "- y_pred is predictions (10k)\n",
        "\n",
        "- y_pred[0]: index  with y_test[0] : index\n",
        "\n",
        "- that index we are passing in class names\n",
        "\n",
        "- comparing class names\n",
        "\n",
        "- for y_pred : predicted class\n",
        "\n",
        "- for y_test: actaul prediction or **ground truth**"
      ],
      "metadata": {
        "id": "fSnfDsgxY-u5"
      }
    },
    {
      "cell_type": "code",
      "source": [
        "y_pred[0]  # First prediction\n",
        "max_prob=np.max(y_pred[0]) # Predicton wil give probabilites of all classes\n",
        "index=np.argmax(y_pred[0]) # Index of maximum probability\n",
        "prediction_class=class_names[index] # Using index we are getting class name\n",
        "Ground_Truth_class= class_names[y_test[0]] # We also passing orfinal test input value and getting the class\n",
        "\n",
        "plt.figure()\n",
        "plt.imshow(X_test[0])\n",
        "plt.xlabel(Ground_Truth_class)\n",
        "plt.ylabel(prediction_class)\n",
        "plt.colorbar()"
      ],
      "metadata": {
        "colab": {
          "base_uri": "https://localhost:8080/",
          "height": 472
        },
        "id": "HiS9KW-z2M6c",
        "outputId": "7f1ca36a-1539-45e6-ca7d-93772127a746"
      },
      "execution_count": null,
      "outputs": [
        {
          "output_type": "execute_result",
          "data": {
            "text/plain": [
              "<matplotlib.colorbar.Colorbar at 0x7d9cdd0bb280>"
            ]
          },
          "metadata": {},
          "execution_count": 75
        },
        {
          "output_type": "display_data",
          "data": {
            "text/plain": [
              "<Figure size 640x480 with 2 Axes>"
            ],
            "image/png": "[encoded data removed]"
          },
          "metadata": {}
        }
      ]
    },
    {
      "cell_type": "code",
      "source": [
        "max_prob=[np.max(i)  for i in y_pred]\n",
        "index=[np.argmax(i) for i in y_pred]\n",
        "prediction_class=[class_names[i] for i in index]\n",
        "Ground_Truth_class=[class_names[i] for i in y_test]\n",
        "\n",
        "d1=pd.DataFrame(zip(max_prob,index,prediction_class,Ground_Truth_class),\n",
        "             columns=['Max_proba','Index','Prediction_class','Ground_Truth_class'])\n",
        "con=d1['Prediction_class']==d1['Ground_Truth_class']\n",
        "d1['output']=np.where(con,1,0)\n",
        "accuracy=d1['output'].sum()/len(d1['output'])\n",
        "accuracy"
      ],
      "metadata": {
        "colab": {
          "base_uri": "https://localhost:8080/"
        },
        "id": "TaoMGPFmK6Al",
        "outputId": "286bb2b0-313b-408a-bfd5-ed5e8ccd4848"
      },
      "execution_count": null,
      "outputs": [
        {
          "output_type": "execute_result",
          "data": {
            "text/plain": [
              "0.8255"
            ]
          },
          "metadata": {},
          "execution_count": 38
        }
      ]
    },
    {
      "cell_type": "code",
      "source": [
        "d1"
      ],
      "metadata": {
        "colab": {
          "base_uri": "https://localhost:8080/",
          "height": 423
        },
        "id": "QjGI85oYL3MA",
        "outputId": "9ef22660-bdfa-4ff0-f3bb-77f30f19bfbb"
      },
      "execution_count": null,
      "outputs": [
        {
          "output_type": "execute_result",
          "data": {
            "text/plain": [
              "      Max_proba  Index Prediction_class Ground_Truth_class  output\n",
              "0      0.487204      9       ankle boot         ankle boot       1\n",
              "1      0.905802      2         pullover           pullover       1\n",
              "2      0.999811      1          trouser            trouser       1\n",
              "3      0.999175      1          trouser            trouser       1\n",
              "4      0.630122      6            shirt              shirt       1\n",
              "...         ...    ...              ...                ...     ...\n",
              "9995   0.996764      9       ankle boot         ankle boot       1\n",
              "9996   0.971098      1          trouser            trouser       1\n",
              "9997   0.839807      8              bag                bag       1\n",
              "9998   0.992733      1          trouser            trouser       1\n",
              "9999   0.808756      5           sandal             sandal       1\n",
              "\n",
              "[10000 rows x 5 columns]"
            ],
            "text/html": [
              "\n",
              "  <div id=\"df-fe1db86b-889a-45ed-a17a-cff27c4918d2\" class=\"colab-df-container\">\n",
              "    <div>\n",
              "<style scoped>\n",
              "    .dataframe tbody tr th:only-of-type {\n",
              "        vertical-align: middle;\n",
              "    }\n",
              "\n",
              "    .dataframe tbody tr th {\n",
              "        vertical-align: top;\n",
              "    }\n",
              "\n",
              "    .dataframe thead th {\n",
              "        text-align: right;\n",
              "    }\n",
              "</style>\n",
              "<table border=\"1\" class=\"dataframe\">\n",
              "  <thead>\n",
              "    <tr style=\"text-align: right;\">\n",
              "      <th></th>\n",
              "      <th>Max_proba</th>\n",
              "      <th>Index</th>\n",
              "      <th>Prediction_class</th>\n",
              "      <th>Ground_Truth_class</th>\n",
              "      <th>output</th>\n",
              "    </tr>\n",
              "  </thead>\n",
              "  <tbody>\n",
              "    <tr>\n",
              "      <th>0</th>\n",
              "      <td>0.487204</td>\n",
              "      <td>9</td>\n",
              "      <td>ankle boot</td>\n",
              "      <td>ankle boot</td>\n",
              "      <td>1</td>\n",
              "    </tr>\n",
              "    <tr>\n",
              "      <th>1</th>\n",
              "      <td>0.905802</td>\n",
              "      <td>2</td>\n",
              "      <td>pullover</td>\n",
              "      <td>pullover</td>\n",
              "      <td>1</td>\n",
              "    </tr>\n",
              "    <tr>\n",
              "      <th>2</th>\n",
              "      <td>0.999811</td>\n",
              "      <td>1</td>\n",
              "      <td>trouser</td>\n",
              "      <td>trouser</td>\n",
              "      <td>1</td>\n",
              "    </tr>\n",
              "    <tr>\n",
              "      <th>3</th>\n",
              "      <td>0.999175</td>\n",
              "      <td>1</td>\n",
              "      <td>trouser</td>\n",
              "      <td>trouser</td>\n",
              "      <td>1</td>\n",
              "    </tr>\n",
              "    <tr>\n",
              "      <th>4</th>\n",
              "      <td>0.630122</td>\n",
              "      <td>6</td>\n",
              "      <td>shirt</td>\n",
              "      <td>shirt</td>\n",
              "      <td>1</td>\n",
              "    </tr>\n",
              "    <tr>\n",
              "      <th>...</th>\n",
              "      <td>...</td>\n",
              "      <td>...</td>\n",
              "      <td>...</td>\n",
              "      <td>...</td>\n",
              "      <td>...</td>\n",
              "    </tr>\n",
              "    <tr>\n",
              "      <th>9995</th>\n",
              "      <td>0.996764</td>\n",
              "      <td>9</td>\n",
              "      <td>ankle boot</td>\n",
              "      <td>ankle boot</td>\n",
              "      <td>1</td>\n",
              "    </tr>\n",
              "    <tr>\n",
              "      <th>9996</th>\n",
              "      <td>0.971098</td>\n",
              "      <td>1</td>\n",
              "      <td>trouser</td>\n",
              "      <td>trouser</td>\n",
              "      <td>1</td>\n",
              "    </tr>\n",
              "    <tr>\n",
              "      <th>9997</th>\n",
              "      <td>0.839807</td>\n",
              "      <td>8</td>\n",
              "      <td>bag</td>\n",
              "      <td>bag</td>\n",
              "      <td>1</td>\n",
              "    </tr>\n",
              "    <tr>\n",
              "      <th>9998</th>\n",
              "      <td>0.992733</td>\n",
              "      <td>1</td>\n",
              "      <td>trouser</td>\n",
              "      <td>trouser</td>\n",
              "      <td>1</td>\n",
              "    </tr>\n",
              "    <tr>\n",
              "      <th>9999</th>\n",
              "      <td>0.808756</td>\n",
              "      <td>5</td>\n",
              "      <td>sandal</td>\n",
              "      <td>sandal</td>\n",
              "      <td>1</td>\n",
              "    </tr>\n",
              "  </tbody>\n",
              "</table>\n",
              "<p>10000 rows × 5 columns</p>\n",
              "</div>\n",
              "    <div class=\"colab-df-buttons\">\n",
              "\n",
              "  <div class=\"colab-df-container\">\n",
              "    <button class=\"colab-df-convert\" onclick=\"convertToInteractive('df-fe1db86b-889a-45ed-a17a-cff27c4918d2')\"\n",
              "            title=\"Convert this dataframe to an interactive table.\"\n",
              "            style=\"display:none;\">\n",
              "\n",
              "  <svg xmlns=\"http://www.w3.org/2000/svg\" height=\"24px\" viewBox=\"0 -960 960 960\">\n",
              "    <path d=\"M120-120v-720h720v720H120Zm60-500h600v-160H180v160Zm220 220h160v-160H400v160Zm0 220h160v-160H400v160ZM180-400h160v-160H180v160Zm440 0h160v-160H620v160ZM180-180h160v-160H180v160Zm440 0h160v-160H620v160Z\"/>\n",
              "  </svg>\n",
              "    </button>\n",
              "\n",
              "  <style>\n",
              "    .colab-df-container {\n",
              "      display:flex;\n",
              "      gap: 12px;\n",
              "    }\n",
              "\n",
              "    .colab-df-convert {\n",
              "      background-color: #E8F0FE;\n",
              "      border: none;\n",
              "      border-radius: 50%;\n",
              "      cursor: pointer;\n",
              "      display: none;\n",
              "      fill: #1967D2;\n",
              "      height: 32px;\n",
              "      padding: 0 0 0 0;\n",
              "      width: 32px;\n",
              "    }\n",
              "\n",
              "    .colab-df-convert:hover {\n",
              "      background-color: #E2EBFA;\n",
              "      box-shadow: 0px 1px 2px rgba(60, 64, 67, 0.3), 0px 1px 3px 1px rgba(60, 64, 67, 0.15);\n",
              "      fill: #174EA6;\n",
              "    }\n",
              "\n",
              "    .colab-df-buttons div {\n",
              "      margin-bottom: 4px;\n",
              "    }\n",
              "\n",
              "    [theme=dark] .colab-df-convert {\n",
              "      background-color: #3B4455;\n",
              "      fill: #D2E3FC;\n",
              "    }\n",
              "\n",
              "    [theme=dark] .colab-df-convert:hover {\n",
              "      background-color: #434B5C;\n",
              "      box-shadow: 0px 1px 3px 1px rgba(0, 0, 0, 0.15);\n",
              "      filter: drop-shadow(0px 1px 2px rgba(0, 0, 0, 0.3));\n",
              "      fill: #FFFFFF;\n",
              "    }\n",
              "  </style>\n",
              "\n",
              "    <script>\n",
              "      const buttonEl =\n",
              "        document.querySelector('#df-fe1db86b-889a-45ed-a17a-cff27c4918d2 button.colab-df-convert');\n",
              "      buttonEl.style.display =\n",
              "        google.colab.kernel.accessAllowed ? 'block' : 'none';\n",
              "\n",
              "      async function convertToInteractive(key) {\n",
              "        const element = document.querySelector('#df-fe1db86b-889a-45ed-a17a-cff27c4918d2');\n",
              "        const dataTable =\n",
              "          await google.colab.kernel.invokeFunction('convertToInteractive',\n",
              "                                                    [key], {});\n",
              "        if (!dataTable) return;\n",
              "\n",
              "        const docLinkHtml = 'Like what you see? Visit the ' +\n",
              "          '<a target=\"_blank\" href=https://colab.research.google.com/notebooks/data_table.ipynb>data table notebook</a>'\n",
              "          + ' to learn more about interactive tables.';\n",
              "        element.innerHTML = '';\n",
              "        dataTable['output_type'] = 'display_data';\n",
              "        await google.colab.output.renderOutput(dataTable, element);\n",
              "        const docLink = document.createElement('div');\n",
              "        docLink.innerHTML = docLinkHtml;\n",
              "        element.appendChild(docLink);\n",
              "      }\n",
              "    </script>\n",
              "  </div>\n",
              "\n",
              "\n",
              "<div id=\"df-872c6f43-dfc1-419a-bd8c-b7ebd8caa312\">\n",
              "  <button class=\"colab-df-quickchart\" onclick=\"quickchart('df-872c6f43-dfc1-419a-bd8c-b7ebd8caa312')\"\n",
              "            title=\"Suggest charts\"\n",
              "            style=\"display:none;\">\n",
              "\n",
              "<svg xmlns=\"http://www.w3.org/2000/svg\" height=\"24px\"viewBox=\"0 0 24 24\"\n",
              "     width=\"24px\">\n",
              "    <g>\n",
              "        <path d=\"M19 3H5c-1.1 0-2 .9-2 2v14c0 1.1.9 2 2 2h14c1.1 0 2-.9 2-2V5c0-1.1-.9-2-2-2zM9 17H7v-7h2v7zm4 0h-2V7h2v10zm4 0h-2v-4h2v4z\"/>\n",
              "    </g>\n",
              "</svg>\n",
              "  </button>\n",
              "\n",
              "<style>\n",
              "  .colab-df-quickchart {\n",
              "      --bg-color: #E8F0FE;\n",
              "      --fill-color: #1967D2;\n",
              "      --hover-bg-color: #E2EBFA;\n",
              "      --hover-fill-color: #174EA6;\n",
              "      --disabled-fill-color: #AAA;\n",
              "      --disabled-bg-color: #DDD;\n",
              "  }\n",
              "\n",
              "  [theme=dark] .colab-df-quickchart {\n",
              "      --bg-color: #3B4455;\n",
              "      --fill-color: #D2E3FC;\n",
              "      --hover-bg-color: #434B5C;\n",
              "      --hover-fill-color: #FFFFFF;\n",
              "      --disabled-bg-color: #3B4455;\n",
              "      --disabled-fill-color: #666;\n",
              "  }\n",
              "\n",
              "  .colab-df-quickchart {\n",
              "    background-color: var(--bg-color);\n",
              "    border: none;\n",
              "    border-radius: 50%;\n",
              "    cursor: pointer;\n",
              "    display: none;\n",
              "    fill: var(--fill-color);\n",
              "    height: 32px;\n",
              "    padding: 0;\n",
              "    width: 32px;\n",
              "  }\n",
              "\n",
              "  .colab-df-quickchart:hover {\n",
              "    background-color: var(--hover-bg-color);\n",
              "    box-shadow: 0 1px 2px rgba(60, 64, 67, 0.3), 0 1px 3px 1px rgba(60, 64, 67, 0.15);\n",
              "    fill: var(--button-hover-fill-color);\n",
              "  }\n",
              "\n",
              "  .colab-df-quickchart-complete:disabled,\n",
              "  .colab-df-quickchart-complete:disabled:hover {\n",
              "    background-color: var(--disabled-bg-color);\n",
              "    fill: var(--disabled-fill-color);\n",
              "    box-shadow: none;\n",
              "  }\n",
              "\n",
              "  .colab-df-spinner {\n",
              "    border: 2px solid var(--fill-color);\n",
              "    border-color: transparent;\n",
              "    border-bottom-color: var(--fill-color);\n",
              "    animation:\n",
              "      spin 1s steps(1) infinite;\n",
              "  }\n",
              "\n",
              "  @keyframes spin {\n",
              "    0% {\n",
              "      border-color: transparent;\n",
              "      border-bottom-color: var(--fill-color);\n",
              "      border-left-color: var(--fill-color);\n",
              "    }\n",
              "    20% {\n",
              "      border-color: transparent;\n",
              "      border-left-color: var(--fill-color);\n",
              "      border-top-color: var(--fill-color);\n",
              "    }\n",
              "    30% {\n",
              "      border-color: transparent;\n",
              "      border-left-color: var(--fill-color);\n",
              "      border-top-color: var(--fill-color);\n",
              "      border-right-color: var(--fill-color);\n",
              "    }\n",
              "    40% {\n",
              "      border-color: transparent;\n",
              "      border-right-color: var(--fill-color);\n",
              "      border-top-color: var(--fill-color);\n",
              "    }\n",
              "    60% {\n",
              "      border-color: transparent;\n",
              "      border-right-color: var(--fill-color);\n",
              "    }\n",
              "    80% {\n",
              "      border-color: transparent;\n",
              "      border-right-color: var(--fill-color);\n",
              "      border-bottom-color: var(--fill-color);\n",
              "    }\n",
              "    90% {\n",
              "      border-color: transparent;\n",
              "      border-bottom-color: var(--fill-color);\n",
              "    }\n",
              "  }\n",
              "</style>\n",
              "\n",
              "  <script>\n",
              "    async function quickchart(key) {\n",
              "      const quickchartButtonEl =\n",
              "        document.querySelector('#' + key + ' button');\n",
              "      quickchartButtonEl.disabled = true;  // To prevent multiple clicks.\n",
              "      quickchartButtonEl.classList.add('colab-df-spinner');\n",
              "      try {\n",
              "        const charts = await google.colab.kernel.invokeFunction(\n",
              "            'suggestCharts', [key], {});\n",
              "      } catch (error) {\n",
              "        console.error('Error during call to suggestCharts:', error);\n",
              "      }\n",
              "      quickchartButtonEl.classList.remove('colab-df-spinner');\n",
              "      quickchartButtonEl.classList.add('colab-df-quickchart-complete');\n",
              "    }\n",
              "    (() => {\n",
              "      let quickchartButtonEl =\n",
              "        document.querySelector('#df-872c6f43-dfc1-419a-bd8c-b7ebd8caa312 button');\n",
              "      quickchartButtonEl.style.display =\n",
              "        google.colab.kernel.accessAllowed ? 'block' : 'none';\n",
              "    })();\n",
              "  </script>\n",
              "</div>\n",
              "\n",
              "  <div id=\"id_ba84e6c0-0c4d-485b-916e-3f794a028d8d\">\n",
              "    <style>\n",
              "      .colab-df-generate {\n",
              "        background-color: #E8F0FE;\n",
              "        border: none;\n",
              "        border-radius: 50%;\n",
              "        cursor: pointer;\n",
              "        display: none;\n",
              "        fill: #1967D2;\n",
              "        height: 32px;\n",
              "        padding: 0 0 0 0;\n",
              "        width: 32px;\n",
              "      }\n",
              "\n",
              "      .colab-df-generate:hover {\n",
              "        background-color: #E2EBFA;\n",
              "        box-shadow: 0px 1px 2px rgba(60, 64, 67, 0.3), 0px 1px 3px 1px rgba(60, 64, 67, 0.15);\n",
              "        fill: #174EA6;\n",
              "      }\n",
              "\n",
              "      [theme=dark] .colab-df-generate {\n",
              "        background-color: #3B4455;\n",
              "        fill: #D2E3FC;\n",
              "      }\n",
              "\n",
              "      [theme=dark] .colab-df-generate:hover {\n",
              "        background-color: #434B5C;\n",
              "        box-shadow: 0px 1px 3px 1px rgba(0, 0, 0, 0.15);\n",
              "        filter: drop-shadow(0px 1px 2px rgba(0, 0, 0, 0.3));\n",
              "        fill: #FFFFFF;\n",
              "      }\n",
              "    </style>\n",
              "    <button class=\"colab-df-generate\" onclick=\"generateWithVariable('d1')\"\n",
              "            title=\"Generate code using this dataframe.\"\n",
              "            style=\"display:none;\">\n",
              "\n",
              "  <svg xmlns=\"http://www.w3.org/2000/svg\" height=\"24px\"viewBox=\"0 0 24 24\"\n",
              "       width=\"24px\">\n",
              "    <path d=\"M7,19H8.4L18.45,9,17,7.55,7,17.6ZM5,21V16.75L18.45,3.32a2,2,0,0,1,2.83,0l1.4,1.43a1.91,1.91,0,0,1,.58,1.4,1.91,1.91,0,0,1-.58,1.4L9.25,21ZM18.45,9,17,7.55Zm-12,3A5.31,5.31,0,0,0,4.9,8.1,5.31,5.31,0,0,0,1,6.5,5.31,5.31,0,0,0,4.9,4.9,5.31,5.31,0,0,0,6.5,1,5.31,5.31,0,0,0,8.1,4.9,5.31,5.31,0,0,0,12,6.5,5.46,5.46,0,0,0,6.5,12Z\"/>\n",
              "  </svg>\n",
              "    </button>\n",
              "    <script>\n",
              "      (() => {\n",
              "      const buttonEl =\n",
              "        document.querySelector('#id_ba84e6c0-0c4d-485b-916e-3f794a028d8d button.colab-df-generate');\n",
              "      buttonEl.style.display =\n",
              "        google.colab.kernel.accessAllowed ? 'block' : 'none';\n",
              "\n",
              "      buttonEl.onclick = () => {\n",
              "        google.colab.notebook.generateWithVariable('d1');\n",
              "      }\n",
              "      })();\n",
              "    </script>\n",
              "  </div>\n",
              "\n",
              "    </div>\n",
              "  </div>\n"
            ],
            "application/vnd.google.colaboratory.intrinsic+json": {
              "type": "dataframe",
              "variable_name": "d1",
              "summary": "{\n  \"name\": \"d1\",\n  \"rows\": 10000,\n  \"fields\": [\n    {\n      \"column\": \"Max_proba\",\n      \"properties\": {\n        \"dtype\": \"float32\",\n        \"num_unique_values\": 9934,\n        \"samples\": [\n          0.9985905885696411,\n          0.9990706443786621,\n          0.793825089931488\n        ],\n        \"semantic_type\": \"\",\n        \"description\": \"\"\n      }\n    },\n    {\n      \"column\": \"Index\",\n      \"properties\": {\n        \"dtype\": \"number\",\n        \"std\": 2,\n        \"min\": 0,\n        \"max\": 9,\n        \"num_unique_values\": 10,\n        \"samples\": [\n          8,\n          2,\n          5\n        ],\n        \"semantic_type\": \"\",\n        \"description\": \"\"\n      }\n    },\n    {\n      \"column\": \"Prediction_class\",\n      \"properties\": {\n        \"dtype\": \"category\",\n        \"num_unique_values\": 10,\n        \"samples\": [\n          \"bag\",\n          \"pullover\",\n          \"sandal\"\n        ],\n        \"semantic_type\": \"\",\n        \"description\": \"\"\n      }\n    },\n    {\n      \"column\": \"Ground_Truth_class\",\n      \"properties\": {\n        \"dtype\": \"category\",\n        \"num_unique_values\": 10,\n        \"samples\": [\n          \"bag\",\n          \"pullover\",\n          \"sandal\"\n        ],\n        \"semantic_type\": \"\",\n        \"description\": \"\"\n      }\n    },\n    {\n      \"column\": \"output\",\n      \"properties\": {\n        \"dtype\": \"number\",\n        \"std\": 0,\n        \"min\": 0,\n        \"max\": 1,\n        \"num_unique_values\": 2,\n        \"samples\": [\n          0,\n          1\n        ],\n        \"semantic_type\": \"\",\n        \"description\": \"\"\n      }\n    }\n  ]\n}"
            }
          },
          "metadata": {},
          "execution_count": 39
        }
      ]
    },
    {
      "cell_type": "code",
      "source": [
        "y_pred[4]  # First prediction\n",
        "max_prob=np.max(y_pred[4]) # Predicton wil give probabilites of all classes\n",
        "index=np.argmax(y_pred[4]) # Index of maximum probability\n",
        "prediction_class=class_names[index] # Using index we are getting class name\n",
        "Ground_Truth_class= class_names[y_test[4]] # We also passing orfinal test input value and getting the class\n",
        "\n",
        "plt.figure()\n",
        "plt.imshow(X_test[4])\n",
        "plt.xlabel(Ground_Truth_class)\n",
        "plt.ylabel(prediction_class)\n",
        "plt.colorbar()"
      ],
      "metadata": {
        "colab": {
          "base_uri": "https://localhost:8080/",
          "height": 466
        },
        "id": "cJ7ng2CD2ff7",
        "outputId": "3b9df577-f1f8-409d-f554-e3d414c72d14"
      },
      "execution_count": null,
      "outputs": [
        {
          "output_type": "execute_result",
          "data": {
            "text/plain": [
              "<matplotlib.colorbar.Colorbar at 0x7d9cdd04bb80>"
            ]
          },
          "metadata": {},
          "execution_count": 78
        },
        {
          "output_type": "display_data",
          "data": {
            "text/plain": [
              "<Figure size 640x480 with 2 Axes>"
            ],
            "image/png": "[encoded data removed]"
          },
          "metadata": {}
        }
      ]
    },
    {
      "cell_type": "code",
      "source": [
        "plt.figure(figsize=(10,10))\n",
        "for i in range(25):\n",
        "    plt.subplot(5,5,i+1)\n",
        "    plt.xticks([])\n",
        "    plt.yticks([])\n",
        "    plt.grid(False)\n",
        "    plt.imshow(X_test[i])\n",
        "    plt.xlabel(f'prediction:{class_names[np.argmax(y_pred[i])]}')\n",
        "    plt.ylabel(f'gt:{class_names[y_test[i]]}')\n",
        "plt.show()"
      ],
      "metadata": {
        "colab": {
          "base_uri": "https://localhost:8080/",
          "height": 818
        },
        "id": "_v9WIg73L3J5",
        "outputId": "6f769b41-12f8-4c4c-c135-a7989bc6dd2b"
      },
      "execution_count": null,
      "outputs": [
        {
          "output_type": "display_data",
          "data": {
            "text/plain": [
              "<Figure size 1000x1000 with 25 Axes>"
            ],
            "image/png": "[encoded data removed]"
          },
          "metadata": {}
        }
      ]
    },
    {
      "cell_type": "markdown",
      "source": [
        "- Model creation\n",
        "\n",
        "           - sequential\n",
        "           - add\n",
        "           - dense\n",
        "\n",
        "\n",
        "- Model compile\n",
        "\n",
        "          - optimizer\n",
        "\n",
        "          - loss (cross entropy)\n",
        "\n",
        "          - metrics (accuracy)\n",
        "\n",
        "- Model fit\n",
        "\n",
        "          - X_train\n",
        "\n",
        "          - y_train\n",
        "\n",
        "          - epochs\n",
        "\n",
        "          - batch size\n",
        "\n",
        "- Model evaluation\n",
        "\n",
        "          - On the test data what are the metrics and loss that\n",
        "\n",
        "          - X_test\n",
        "\n",
        "          - y_test\n",
        "\n",
        "- Model predictions\n",
        "\n",
        "          - X_test\n",
        "\n",
        "          - probability values it is providing"
      ],
      "metadata": {
        "id": "-Tgmam6s_t_V"
      }
    },
    {
      "cell_type": "markdown",
      "source": [
        "**Fine tuning**\n",
        "\n",
        "- By increasing Hidden layers\n",
        "\n",
        "- By increasing Neurons\n",
        "\n",
        "- By chnaging optimizer\n",
        "\n",
        "- By changing Epochs\n",
        "\n",
        "- By adding drop out technqiue"
      ],
      "metadata": {
        "id": "-U7_759BAlC_"
      }
    },
    {
      "cell_type": "code",
      "source": [],
      "metadata": {
        "id": "eEhX-WnxfHrx"
      },
      "execution_count": null,
      "outputs": []
    },
    {
      "cell_type": "markdown",
      "source": [
        "## Save the model"
      ],
      "metadata": {
        "id": "c7hXEyIm40vM"
      }
    },
    {
      "cell_type": "code",
      "source": [
        "len(model.weights[3].numpy())"
      ],
      "metadata": {
        "colab": {
          "base_uri": "https://localhost:8080/"
        },
        "id": "DDg5yZWx4C5f",
        "outputId": "c918a701-ae66-45a2-88ac-be9fd2ffed57"
      },
      "execution_count": null,
      "outputs": [
        {
          "output_type": "execute_result",
          "data": {
            "text/plain": [
              "10"
            ]
          },
          "metadata": {},
          "execution_count": 80
        }
      ]
    },
    {
      "cell_type": "code",
      "source": [
        "model"
      ],
      "metadata": {
        "colab": {
          "base_uri": "https://localhost:8080/"
        },
        "id": "A6AYY3r5Fzek",
        "outputId": "cc4d5694-5856-407f-e674-4fabe1be6b39"
      },
      "execution_count": null,
      "outputs": [
        {
          "output_type": "execute_result",
          "data": {
            "text/plain": [
              "<Sequential name=sequential, built=True>"
            ]
          },
          "metadata": {},
          "execution_count": 81
        }
      ]
    },
    {
      "cell_type": "code",
      "source": [
        "# Save full model\n",
        "# my model name: model\n",
        "# I want to save with name of Ann\n",
        "model.save('Ann.keras')"
      ],
      "metadata": {
        "id": "Hdq9nDdHbnRV"
      },
      "execution_count": null,
      "outputs": []
    },
    {
      "cell_type": "code",
      "source": [
        "from tensorflow.keras.models import load_model\n",
        "\n",
        "# Load the model\n",
        "loaded_model = load_model('Ann.keras')\n",
        "loaded_model.summary()"
      ],
      "metadata": {
        "colab": {
          "base_uri": "https://localhost:8080/",
          "height": 241
        },
        "id": "Y9X-j3GecIBS",
        "outputId": "2185adc9-28ba-4657-ffca-382f4298656a"
      },
      "execution_count": null,
      "outputs": [
        {
          "output_type": "display_data",
          "data": {
            "text/plain": [
              "\u001b[1mModel: \"sequential\"\u001b[0m\n"
            ],
            "text/html": [
              "<pre style=\"white-space:pre;overflow-x:auto;line-height:normal;font-family:Menlo,'DejaVu Sans Mono',consolas,'Courier New',monospace\"><span style=\"font-weight: bold\">Model: \"sequential\"</span>\n",
              "</pre>\n"
            ]
          },
          "metadata": {}
        },
        {
          "output_type": "display_data",
          "data": {
            "text/plain": [
              "┏━━━━━━━━━━━━━━━━━━━━━━━━━━━━━━━━━━━━━━┳━━━━━━━━━━━━━━━━━━━━━━━━━━━━━┳━━━━━━━━━━━━━━━━━┓\n",
              "┃\u001b[1m \u001b[0m\u001b[1mLayer (type)                        \u001b[0m\u001b[1m \u001b[0m┃\u001b[1m \u001b[0m\u001b[1mOutput Shape               \u001b[0m\u001b[1m \u001b[0m┃\u001b[1m \u001b[0m\u001b[1m        Param #\u001b[0m\u001b[1m \u001b[0m┃\n",
              "┡━━━━━━━━━━━━━━━━━━━━━━━━━━━━━━━━━━━━━━╇━━━━━━━━━━━━━━━━━━━━━━━━━━━━━╇━━━━━━━━━━━━━━━━━┩\n",
              "│ flatten (\u001b[38;5;33mFlatten\u001b[0m)                    │ (\u001b[38;5;45mNone\u001b[0m, \u001b[38;5;34m784\u001b[0m)                 │               \u001b[38;5;34m0\u001b[0m │\n",
              "├──────────────────────────────────────┼─────────────────────────────┼─────────────────┤\n",
              "│ dense (\u001b[38;5;33mDense\u001b[0m)                        │ (\u001b[38;5;45mNone\u001b[0m, \u001b[38;5;34m128\u001b[0m)                 │         \u001b[38;5;34m100,480\u001b[0m │\n",
              "├──────────────────────────────────────┼─────────────────────────────┼─────────────────┤\n",
              "│ dense_1 (\u001b[38;5;33mDense\u001b[0m)                      │ (\u001b[38;5;45mNone\u001b[0m, \u001b[38;5;34m10\u001b[0m)                  │           \u001b[38;5;34m1,290\u001b[0m │\n",
              "└──────────────────────────────────────┴─────────────────────────────┴─────────────────┘\n"
            ],
            "text/html": [
              "<pre style=\"white-space:pre;overflow-x:auto;line-height:normal;font-family:Menlo,'DejaVu Sans Mono',consolas,'Courier New',monospace\">┏━━━━━━━━━━━━━━━━━━━━━━━━━━━━━━━━━━━━━━┳━━━━━━━━━━━━━━━━━━━━━━━━━━━━━┳━━━━━━━━━━━━━━━━━┓\n",
              "┃<span style=\"font-weight: bold\"> Layer (type)                         </span>┃<span style=\"font-weight: bold\"> Output Shape                </span>┃<span style=\"font-weight: bold\">         Param # </span>┃\n",
              "┡━━━━━━━━━━━━━━━━━━━━━━━━━━━━━━━━━━━━━━╇━━━━━━━━━━━━━━━━━━━━━━━━━━━━━╇━━━━━━━━━━━━━━━━━┩\n",
              "│ flatten (<span style=\"color: #0087ff; text-decoration-color: #0087ff\">Flatten</span>)                    │ (<span style=\"color: #00d7ff; text-decoration-color: #00d7ff\">None</span>, <span style=\"color: #00af00; text-decoration-color: #00af00\">784</span>)                 │               <span style=\"color: #00af00; text-decoration-color: #00af00\">0</span> │\n",
              "├──────────────────────────────────────┼─────────────────────────────┼─────────────────┤\n",
              "│ dense (<span style=\"color: #0087ff; text-decoration-color: #0087ff\">Dense</span>)                        │ (<span style=\"color: #00d7ff; text-decoration-color: #00d7ff\">None</span>, <span style=\"color: #00af00; text-decoration-color: #00af00\">128</span>)                 │         <span style=\"color: #00af00; text-decoration-color: #00af00\">100,480</span> │\n",
              "├──────────────────────────────────────┼─────────────────────────────┼─────────────────┤\n",
              "│ dense_1 (<span style=\"color: #0087ff; text-decoration-color: #0087ff\">Dense</span>)                      │ (<span style=\"color: #00d7ff; text-decoration-color: #00d7ff\">None</span>, <span style=\"color: #00af00; text-decoration-color: #00af00\">10</span>)                  │           <span style=\"color: #00af00; text-decoration-color: #00af00\">1,290</span> │\n",
              "└──────────────────────────────────────┴─────────────────────────────┴─────────────────┘\n",
              "</pre>\n"
            ]
          },
          "metadata": {}
        },
        {
          "output_type": "display_data",
          "data": {
            "text/plain": [
              "\u001b[1m Total params: \u001b[0m\u001b[38;5;34m305,312\u001b[0m (1.16 MB)\n"
            ],
            "text/html": [
              "<pre style=\"white-space:pre;overflow-x:auto;line-height:normal;font-family:Menlo,'DejaVu Sans Mono',consolas,'Courier New',monospace\"><span style=\"font-weight: bold\"> Total params: </span><span style=\"color: #00af00; text-decoration-color: #00af00\">305,312</span> (1.16 MB)\n",
              "</pre>\n"
            ]
          },
          "metadata": {}
        },
        {
          "output_type": "display_data",
          "data": {
            "text/plain": [
              "\u001b[1m Trainable params: \u001b[0m\u001b[38;5;34m101,770\u001b[0m (397.54 KB)\n"
            ],
            "text/html": [
              "<pre style=\"white-space:pre;overflow-x:auto;line-height:normal;font-family:Menlo,'DejaVu Sans Mono',consolas,'Courier New',monospace\"><span style=\"font-weight: bold\"> Trainable params: </span><span style=\"color: #00af00; text-decoration-color: #00af00\">101,770</span> (397.54 KB)\n",
              "</pre>\n"
            ]
          },
          "metadata": {}
        },
        {
          "output_type": "display_data",
          "data": {
            "text/plain": [
              "\u001b[1m Non-trainable params: \u001b[0m\u001b[38;5;34m0\u001b[0m (0.00 B)\n"
            ],
            "text/html": [
              "<pre style=\"white-space:pre;overflow-x:auto;line-height:normal;font-family:Menlo,'DejaVu Sans Mono',consolas,'Courier New',monospace\"><span style=\"font-weight: bold\"> Non-trainable params: </span><span style=\"color: #00af00; text-decoration-color: #00af00\">0</span> (0.00 B)\n",
              "</pre>\n"
            ]
          },
          "metadata": {}
        },
        {
          "output_type": "display_data",
          "data": {
            "text/plain": [
              "\u001b[1m Optimizer params: \u001b[0m\u001b[38;5;34m203,542\u001b[0m (795.09 KB)\n"
            ],
            "text/html": [
              "<pre style=\"white-space:pre;overflow-x:auto;line-height:normal;font-family:Menlo,'DejaVu Sans Mono',consolas,'Courier New',monospace\"><span style=\"font-weight: bold\"> Optimizer params: </span><span style=\"color: #00af00; text-decoration-color: #00af00\">203,542</span> (795.09 KB)\n",
              "</pre>\n"
            ]
          },
          "metadata": {}
        }
      ]
    },
    {
      "cell_type": "markdown",
      "source": [
        "**Total params:** The sum of all parameters, both trainable and non-trainable.\n",
        "\n",
        "**Trainable params:** Parameters that the model will adjust during training.\n",
        "\n",
        "**Non-trainable params:** Parameters that do not change during training.\n",
        "\n",
        "**Optimizer params:** Parameters used by the optimizer, which may include internal state or configurations."
      ],
      "metadata": {
        "id": "42Opt20gchO_"
      }
    },
    {
      "source": [
        "# Save only the weights\n",
        "# model name is : model\n",
        "# .h5 format\n",
        "# name: model_weights\n",
        "model.save_weights('model_weights.weights.h5') # Added '.weights' to the filename"
      ],
      "cell_type": "code",
      "metadata": {
        "id": "5miVOknWGX_Y"
      },
      "execution_count": null,
      "outputs": []
    },
    {
      "cell_type": "code",
      "source": [
        "# Restore the weights\n",
        "model.load_weights('model_weights.weights.h5')\n"
      ],
      "metadata": {
        "id": "3EzwiIDvAb9y"
      },
      "execution_count": null,
      "outputs": []
    },
    {
      "cell_type": "markdown",
      "source": [
        "## Evaluate on Unseen Data\n",
        "\n",
        "**1. Loading the Image:**\n",
        "\n",
        "we use PIL (Python Imaging Library) to open the image. This image can be in various formats like JPG, PNG, etc.\n",
        "\n",
        "**2. Resizing the Image to 28x28:**\n",
        "\n",
        "Since we trained your model on 28x28 images, you're resizing the input image to this specific size. If the input images during training were also grayscale, the dimensions would be (28, 28).\n",
        "\n",
        "**3. Converting Image to Numpy Array:**\n",
        "\n",
        "This converts the resized image into a NumPy array. The result is a 3D array with dimensions (28, 28, 3) because your original image is likely in RGB format (3 channels).\n",
        "\n",
        "**4. Converting to Grayscale:**\n",
        "\n",
        "Here, ywe are averaging the pixel values across the 3 color channels (Red, Green, and Blue). This operation reduces the array from a shape of (28, 28, 3) to (28, 28), effectively converting it into a grayscale image.\n",
        "\n",
        "**5. Scaling the Image:**\n",
        "\n",
        "we are normalizing the pixel values by dividing by 255. In this case, pixel values are in the range of 0 to 255, and dividing by 255 scales them to a range between 0 and 1, which is common in neural networks for better convergence.\n",
        "\n",
        "**6. Visualizing the Scaled Image:**\n",
        "\n",
        "This uses matplotlib to display the scaled grayscale image. It's useful for verifying that the image processing is correct.\n",
        "\n",
        "**7. Reshaping the Image:**\n",
        "\n",
        "Here, you are reshaping the image to add a batch dimension. The expected input to most neural networks is a 4D tensor where the shape is (batch_size, height, width, channels).\n",
        "\n",
        "Since you trained your model with 28x28 grayscale images, you reshape it to (1, 28, 28) where:\n",
        "\n",
        "- 1 is the batch size (since you're testing with one image).\n",
        "\n",
        "- 28, 28 is the height and width of the image.\n",
        "\n",
        "No channel dimension is specified because it's a single-channel grayscale image."
      ],
      "metadata": {
        "id": "hcHoYwPSKR93"
      }
    },
    {
      "cell_type": "code",
      "source": [
        "from PIL import Image\n",
        "import numpy as np\n",
        "img = Image.open('/content/bag.jpg')\n",
        "img"
      ],
      "metadata": {
        "colab": {
          "base_uri": "https://localhost:8080/",
          "height": 165
        },
        "id": "7aRrUlnQMJqn",
        "outputId": "cb1a6bcc-fdbd-466d-cd03-0a04889bac80"
      },
      "execution_count": null,
      "outputs": [
        {
          "output_type": "execute_result",
          "data": {
            "text/plain": [
              "<PIL.JpegImagePlugin.JpegImageFile image mode=RGB size=270x148>"
            ],
            "image/png": "[encoded data removed]"
          },
          "metadata": {},
          "execution_count": 91
        }
      ]
    },
    {
      "cell_type": "code",
      "source": [
        "img1=np.array(img)\n",
        "img1.shape"
      ],
      "metadata": {
        "colab": {
          "base_uri": "https://localhost:8080/"
        },
        "id": "vN5efIiYNK23",
        "outputId": "a6114ba3-8025-46c3-a411-d51d6904c06c"
      },
      "execution_count": null,
      "outputs": [
        {
          "output_type": "execute_result",
          "data": {
            "text/plain": [
              "(148, 270, 3)"
            ]
          },
          "metadata": {},
          "execution_count": 92
        }
      ]
    },
    {
      "cell_type": "code",
      "source": [
        "img2 = img.resize((28, 28))\n",
        "img2"
      ],
      "metadata": {
        "colab": {
          "base_uri": "https://localhost:8080/",
          "height": 45
        },
        "id": "1Vv81Z48NnsS",
        "outputId": "dbc90f7c-8546-4099-d3af-ba5424d5f276"
      },
      "execution_count": null,
      "outputs": [
        {
          "output_type": "execute_result",
          "data": {
            "text/plain": [
              "<PIL.Image.Image image mode=RGB size=28x28>"
            ],
            "image/png": "[encoded data removed]"
          },
          "metadata": {},
          "execution_count": 95
        }
      ]
    },
    {
      "cell_type": "code",
      "source": [
        "img3=np.array(img2)\n",
        "img3.shape"
      ],
      "metadata": {
        "colab": {
          "base_uri": "https://localhost:8080/"
        },
        "id": "Y7N79lWfNv2Z",
        "outputId": "7660b8cc-947a-42b9-cf3d-e199501e6a7c"
      },
      "execution_count": null,
      "outputs": [
        {
          "output_type": "execute_result",
          "data": {
            "text/plain": [
              "(28, 28, 3)"
            ]
          },
          "metadata": {},
          "execution_count": 96
        }
      ]
    },
    {
      "cell_type": "code",
      "source": [
        "# Convert into gray scale\n",
        "# Optional\n",
        "gray_image=np.mean(img3,axis=2) # (28,28)\n",
        "gray_image.shape"
      ],
      "metadata": {
        "colab": {
          "base_uri": "https://localhost:8080/"
        },
        "id": "VJt4Lr8EN9e4",
        "outputId": "fff963e7-28e5-497e-a97c-fc72a6166a58"
      },
      "execution_count": null,
      "outputs": [
        {
          "output_type": "execute_result",
          "data": {
            "text/plain": [
              "(28, 28)"
            ]
          },
          "metadata": {},
          "execution_count": 97
        }
      ]
    },
    {
      "cell_type": "code",
      "source": [
        "scaled_image=gray_image/255\n",
        "scaled_image.shape"
      ],
      "metadata": {
        "colab": {
          "base_uri": "https://localhost:8080/"
        },
        "id": "CkAVBTvQOibm",
        "outputId": "fde68ace-f0fb-48cc-cf70-d7d6b0804e5d"
      },
      "execution_count": null,
      "outputs": [
        {
          "output_type": "execute_result",
          "data": {
            "text/plain": [
              "(28, 28)"
            ]
          },
          "metadata": {},
          "execution_count": 98
        }
      ]
    },
    {
      "cell_type": "code",
      "source": [
        "plt.subplot(1,2,1).imshow(img) # starting\n",
        "plt.subplot(1,2,2).imshow(scaled_image) # Ending"
      ],
      "metadata": {
        "colab": {
          "base_uri": "https://localhost:8080/",
          "height": 304
        },
        "id": "UhYHKewcOoJt",
        "outputId": "a7c69bfd-ac9e-4aa8-f0cd-feae891c5516"
      },
      "execution_count": null,
      "outputs": [
        {
          "output_type": "execute_result",
          "data": {
            "text/plain": [
              "<matplotlib.image.AxesImage at 0x7d9ccacdb190>"
            ]
          },
          "metadata": {},
          "execution_count": 99
        },
        {
          "output_type": "display_data",
          "data": {
            "text/plain": [
              "<Figure size 640x480 with 2 Axes>"
            ],
            "image/png": "[encoded data removed]"
          },
          "metadata": {}
        }
      ]
    },
    {
      "cell_type": "code",
      "source": [
        "X_train[0].shape\n",
        "# Have you pass entire X_train\n",
        "# Havt you pass only X_train[0]\n",
        "X_train.shape"
      ],
      "metadata": {
        "colab": {
          "base_uri": "https://localhost:8080/"
        },
        "id": "9sfzMCEkPgvZ",
        "outputId": "6648dfb4-7c28-4043-c0d3-345c21974635"
      },
      "execution_count": null,
      "outputs": [
        {
          "output_type": "execute_result",
          "data": {
            "text/plain": [
              "(60000, 28, 28)"
            ]
          },
          "metadata": {},
          "execution_count": 102
        }
      ]
    },
    {
      "cell_type": "code",
      "source": [
        "#model.predict(img1)"
      ],
      "metadata": {
        "id": "DJelV1U7NaQF"
      },
      "execution_count": null,
      "outputs": []
    },
    {
      "cell_type": "code",
      "source": [
        "scaled_image_final = scaled_image.reshape(1, 28, 28)\n",
        "scaled_image_final.shape"
      ],
      "metadata": {
        "colab": {
          "base_uri": "https://localhost:8080/"
        },
        "id": "VqNBhtxeQJ6b",
        "outputId": "f13eff1d-7d07-4b9a-903b-772af9a7b2bd"
      },
      "execution_count": null,
      "outputs": [
        {
          "output_type": "execute_result",
          "data": {
            "text/plain": [
              "(1, 28, 28)"
            ]
          },
          "metadata": {},
          "execution_count": 103
        }
      ]
    },
    {
      "cell_type": "code",
      "source": [
        "pred=model.predict(scaled_image_final)\n",
        "np.argmax(pred)"
      ],
      "metadata": {
        "colab": {
          "base_uri": "https://localhost:8080/"
        },
        "id": "QQHK_gAsQNQ0",
        "outputId": "541f3420-85b9-4395-cb88-b755bdda727b"
      },
      "execution_count": null,
      "outputs": [
        {
          "output_type": "stream",
          "name": "stdout",
          "text": [
            "\u001b[1m1/1\u001b[0m \u001b[32m━━━━━━━━━━━━━━━━━━━━\u001b[0m\u001b[37m\u001b[0m \u001b[1m0s\u001b[0m 50ms/step\n"
          ]
        },
        {
          "output_type": "execute_result",
          "data": {
            "text/plain": [
              "8"
            ]
          },
          "metadata": {},
          "execution_count": 105
        }
      ]
    },
    {
      "cell_type": "code",
      "source": [
        "class_names[np.argmax(pred)]"
      ],
      "metadata": {
        "colab": {
          "base_uri": "https://localhost:8080/",
          "height": 35
        },
        "id": "CfoaudwkQloh",
        "outputId": "03d9011a-3dad-4abd-e9ee-8863f023506d"
      },
      "execution_count": null,
      "outputs": [
        {
          "output_type": "execute_result",
          "data": {
            "text/plain": [
              "'bag'"
            ],
            "application/vnd.google.colaboratory.intrinsic+json": {
              "type": "string"
            }
          },
          "metadata": {},
          "execution_count": 106
        }
      ]
    },
    {
      "cell_type": "code",
      "source": [
        "## All together\n",
        "from PIL import Image\n",
        "import numpy as np\n",
        "img = Image.open('/content/bag.jpg')\n",
        "image = img.resize((28, 28))\n",
        "img_pixels=np.array(image) # (28,28,3)\n",
        "\n",
        "# Convert into gray scale\n",
        "gray_image=np.mean(img_pixels,axis=2) # (28,28)\n",
        "\n",
        "#Scale the image\n",
        "scaled_image=gray_image/255  # scaled the image\n",
        "plt.subplot(1,2,1).imshow(img)\n",
        "plt.subplot(1,2,2).imshow(scaled_image)\n",
        "\n",
        "#Re shape the image according the model\n",
        "gray_image_final = gray_image.reshape(1, 28, 28)\n",
        "print(gray_image_final.shape,gray_image_final.ndim)\n",
        "scaled_image_final = scaled_image.reshape(1, 28, 28)\n",
        "print(scaled_image_final.shape,scaled_image_final.ndim)"
      ],
      "metadata": {
        "colab": {
          "base_uri": "https://localhost:8080/",
          "height": 332
        },
        "id": "knDu2P3QJF6A",
        "outputId": "602b9651-e6c7-43da-a9b2-e1decdd64baa"
      },
      "execution_count": null,
      "outputs": [
        {
          "output_type": "error",
          "ename": "FileNotFoundError",
          "evalue": "[Errno 2] No such file or directory: '/content/bag.jpg'",
          "traceback": [
            "\u001b[0;31m---------------------------------------------------------------------------\u001b[0m",
            "\u001b[0;31mFileNotFoundError\u001b[0m                         Traceback (most recent call last)",
            "\u001b[0;32m<ipython-input-86-249c227904c9>\u001b[0m in \u001b[0;36m<cell line: 4>\u001b[0;34m()\u001b[0m\n\u001b[1;32m      2\u001b[0m \u001b[0;32mfrom\u001b[0m \u001b[0mPIL\u001b[0m \u001b[0;32mimport\u001b[0m \u001b[0mImage\u001b[0m\u001b[0;34m\u001b[0m\u001b[0;34m\u001b[0m\u001b[0m\n\u001b[1;32m      3\u001b[0m \u001b[0;32mimport\u001b[0m \u001b[0mnumpy\u001b[0m \u001b[0;32mas\u001b[0m \u001b[0mnp\u001b[0m\u001b[0;34m\u001b[0m\u001b[0;34m\u001b[0m\u001b[0m\n\u001b[0;32m----> 4\u001b[0;31m \u001b[0mimg\u001b[0m \u001b[0;34m=\u001b[0m \u001b[0mImage\u001b[0m\u001b[0;34m.\u001b[0m\u001b[0mopen\u001b[0m\u001b[0;34m(\u001b[0m\u001b[0;34m'/content/bag.jpg'\u001b[0m\u001b[0;34m)\u001b[0m\u001b[0;34m\u001b[0m\u001b[0;34m\u001b[0m\u001b[0m\n\u001b[0m\u001b[1;32m      5\u001b[0m \u001b[0mimage\u001b[0m \u001b[0;34m=\u001b[0m \u001b[0mimg\u001b[0m\u001b[0;34m.\u001b[0m\u001b[0mresize\u001b[0m\u001b[0;34m(\u001b[0m\u001b[0;34m(\u001b[0m\u001b[0;36m28\u001b[0m\u001b[0;34m,\u001b[0m \u001b[0;36m28\u001b[0m\u001b[0;34m)\u001b[0m\u001b[0;34m)\u001b[0m\u001b[0;34m\u001b[0m\u001b[0;34m\u001b[0m\u001b[0m\n\u001b[1;32m      6\u001b[0m \u001b[0mimg_pixels\u001b[0m\u001b[0;34m=\u001b[0m\u001b[0mnp\u001b[0m\u001b[0;34m.\u001b[0m\u001b[0marray\u001b[0m\u001b[0;34m(\u001b[0m\u001b[0mimage\u001b[0m\u001b[0;34m)\u001b[0m \u001b[0;31m# (28,28,3)\u001b[0m\u001b[0;34m\u001b[0m\u001b[0;34m\u001b[0m\u001b[0m\n",
            "\u001b[0;32m/usr/local/lib/python3.10/dist-packages/PIL/Image.py\u001b[0m in \u001b[0;36mopen\u001b[0;34m(fp, mode, formats)\u001b[0m\n\u001b[1;32m   3225\u001b[0m \u001b[0;34m\u001b[0m\u001b[0m\n\u001b[1;32m   3226\u001b[0m     \u001b[0;32mif\u001b[0m \u001b[0mfilename\u001b[0m\u001b[0;34m:\u001b[0m\u001b[0;34m\u001b[0m\u001b[0;34m\u001b[0m\u001b[0m\n\u001b[0;32m-> 3227\u001b[0;31m         \u001b[0mfp\u001b[0m \u001b[0;34m=\u001b[0m \u001b[0mbuiltins\u001b[0m\u001b[0;34m.\u001b[0m\u001b[0mopen\u001b[0m\u001b[0;34m(\u001b[0m\u001b[0mfilename\u001b[0m\u001b[0;34m,\u001b[0m \u001b[0;34m\"rb\"\u001b[0m\u001b[0;34m)\u001b[0m\u001b[0;34m\u001b[0m\u001b[0;34m\u001b[0m\u001b[0m\n\u001b[0m\u001b[1;32m   3228\u001b[0m         \u001b[0mexclusive_fp\u001b[0m \u001b[0;34m=\u001b[0m \u001b[0;32mTrue\u001b[0m\u001b[0;34m\u001b[0m\u001b[0;34m\u001b[0m\u001b[0m\n\u001b[1;32m   3229\u001b[0m \u001b[0;34m\u001b[0m\u001b[0m\n",
            "\u001b[0;31mFileNotFoundError\u001b[0m: [Errno 2] No such file or directory: '/content/bag.jpg'"
          ]
        }
      ]
    },
    {
      "cell_type": "code",
      "source": [
        "# Now pass this img_array to your model for prediction\n",
        "prediction = model.predict(gray_image_final)\n",
        "print(prediction)"
      ],
      "metadata": {
        "id": "LfpYHqcYJJ8b"
      },
      "execution_count": null,
      "outputs": []
    },
    {
      "cell_type": "code",
      "source": [
        "class_names[np.argmax(prediction)]"
      ],
      "metadata": {
        "id": "YkOjT6alJdwM"
      },
      "execution_count": null,
      "outputs": []
    },
    {
      "cell_type": "markdown",
      "source": [
        "**Method-2**"
      ],
      "metadata": {
        "id": "P5t_ZvPqdjli"
      }
    },
    {
      "cell_type": "markdown",
      "source": [],
      "metadata": {
        "id": "B0BgiRYYdlZ3"
      }
    },
    {
      "cell_type": "code",
      "source": [
        "img = Image.open('/content/bag.jpg')\n",
        "img"
      ],
      "metadata": {
        "id": "c-zXWRe0dn36"
      },
      "execution_count": null,
      "outputs": []
    },
    {
      "cell_type": "code",
      "source": [
        "image = img.convert('L')\n",
        "image"
      ],
      "metadata": {
        "id": "nhCtFlIddqW5"
      },
      "execution_count": null,
      "outputs": []
    },
    {
      "cell_type": "code",
      "source": [
        "# Resize image to 28x28\n",
        "image1 = image.resize((28, 28))\n",
        "image1"
      ],
      "metadata": {
        "id": "DCNn5JQRd1-z"
      },
      "execution_count": null,
      "outputs": []
    },
    {
      "cell_type": "code",
      "source": [
        "np.array(img).shape"
      ],
      "metadata": {
        "id": "TidAYjsGeEAs"
      },
      "execution_count": null,
      "outputs": []
    },
    {
      "cell_type": "code",
      "source": [
        "# Convert image to array\n",
        "image_array1 = np.array(image1)\n",
        "image_array1.shape"
      ],
      "metadata": {
        "id": "QVAvXLeAeAlU"
      },
      "execution_count": null,
      "outputs": []
    },
    {
      "cell_type": "code",
      "source": [
        "# Normalize the image\n",
        "image_array2 = image_array1 / 255.0\n"
      ],
      "metadata": {
        "id": "3hC-7SupeIaM"
      },
      "execution_count": null,
      "outputs": []
    },
    {
      "cell_type": "code",
      "source": [
        "# Add a batch dimension\n",
        "image_array3 = np.expand_dims(image_array2, axis=0)\n",
        "image_array3.shape"
      ],
      "metadata": {
        "id": "SOcrAHnBeK_7"
      },
      "execution_count": null,
      "outputs": []
    },
    {
      "cell_type": "code",
      "source": [
        "# Add a channel dimension\n",
        "image_array4 = np.expand_dims(image_array3, axis=-1)\n",
        "image_array4.shape"
      ],
      "metadata": {
        "id": "9cBGNrGaeN70"
      },
      "execution_count": null,
      "outputs": []
    },
    {
      "cell_type": "code",
      "source": [
        "predictions = model.predict(image_array3)\n",
        "predictions"
      ],
      "metadata": {
        "id": "ZK3OF0vXeRVx"
      },
      "execution_count": null,
      "outputs": []
    },
    {
      "cell_type": "code",
      "source": [
        "np.argmax(predictions)"
      ],
      "metadata": {
        "id": "DBsqi2XE4m_8"
      },
      "execution_count": null,
      "outputs": []
    },
    {
      "cell_type": "code",
      "source": [],
      "metadata": {
        "id": "kcP5n5jPeyEo"
      },
      "execution_count": null,
      "outputs": []
    }
  ]
}